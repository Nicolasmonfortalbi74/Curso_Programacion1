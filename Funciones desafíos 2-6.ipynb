{
 "cells": [
  {
   "cell_type": "code",
   "execution_count": null,
   "id": "5ca5bdd5",
   "metadata": {},
   "outputs": [],
   "source": [
    "Desafío 3\n",
    "Construye una función que tome dos listas y devuelva `True` si tienen al menos un elemento en común,\n",
    "de lo contrario, que devuelva `False`."
   ]
  },
  {
   "cell_type": "code",
   "execution_count": null,
   "id": "d7c992c0",
   "metadata": {},
   "outputs": [],
   "source": [
    "def tienen_elemento_en_comun(lista1, lista2):\n",
    "    # Convertimos la segunda lista a un conjunto para buscar más rápido\n",
    "    conjunto2 = set(lista2)\n",
    "    \n",
    "    # Recorremos cada elemento de la primera lista\n",
    "    for elemento in lista1:\n",
    "        if elemento in conjunto2:\n",
    "            return True  # Si encontramos uno en común, devolvemos True\n",
    "    return False  # Si no se encontró ninguno, devolvemos False\n",
    "\n",
    "# Ejemplo de uso\n",
    "lista_a = [1, 2, 3, 4]\n",
    "lista_b = [5, 6, 3, 8]\n",
    "\n",
    "print(tienen_elemento_en_comun(lista_a, lista_b))  # Esto imprimirá True\n"
   ]
  },
  {
   "cell_type": "markdown",
   "id": "afb93a04",
   "metadata": {},
   "source": [
    "Convertir la segunda lista a un conjunto (set(lista2)):\n",
    "Esto hace que la búsqueda de elementos sea más rápida, porque buscar en un conjunto es más eficiente que en una lista.\n",
    "\n",
    "Recorrer la primera lista:\n",
    "Usamos un bucle for para revisar cada elemento.\n",
    "\n",
    "Verificar si el elemento está en la segunda lista (convertida en conjunto):\n",
    "\n",
    "Si encontramos uno, devolvemos True inmediatamente.\n",
    "\n",
    "Si terminamos el bucle sin encontrar ninguno, devolvemos False."
   ]
  },
  {
   "cell_type": "markdown",
   "id": "f2efa28d",
   "metadata": {},
   "source": [
    "### Desafío 4: Algoritmo MCD\n",
    "\n",
    "El Máximo Común Divisor (MCD) es un concepto matemático que ha sido estudiado desde tiempos antiguos. Atribuido a Euclides, el algoritmo para determinarlo es elegante y eficiente. Tu tarea es implementar una función que calcule el MCD de dos números utilizando el algoritmo de Euclides."
   ]
  },
  {
   "cell_type": "code",
   "execution_count": null,
   "id": "05633332",
   "metadata": {},
   "outputs": [],
   "source": [
    "def mcd(a, b):\n",
    "    while b != 0:\n",
    "        a, b = b, a % b\n",
    "    return a\n",
    "\n",
    "# Ejemplo de uso\n",
    "num1 = 48\n",
    "num2 = 18\n",
    "\n",
    "print(f\"El MCD de {num1} y {num2} es {mcd(num1, num2)}\")\n"
   ]
  },
  {
   "cell_type": "markdown",
   "id": "5cefb175",
   "metadata": {},
   "source": [
    "Función mcd(a, b):\n",
    "Define una función que toma dos números enteros a y b.\n",
    "\n",
    "Bucle while b != 0:\n",
    "Mientras b no sea 0, seguimos calculando el residuo de a entre b.\n",
    "\n",
    "Actualizar valores:\n",
    "a, b = b, a % b →\n",
    "\n",
    "a toma el valor de b\n",
    "\n",
    "b toma el valor del residuo a % b\n",
    "\n",
    "Cuando b es 0:\n",
    "Esto significa que ya encontramos el MCD, que es el valor actual de a.\n",
    "\n",
    "Devolver el resultado:\n",
    "return a nos da el MCD final."
   ]
  },
  {
   "cell_type": "markdown",
   "id": "1717705e",
   "metadata": {},
   "source": [
    "### Desafío 5: Palíndromo\n",
    "\n",
    "Crea una función llamada es_palindromo que tome una una cadena y devuelva true si es palindromo o false si no lo es."
   ]
  },
  {
   "cell_type": "code",
   "execution_count": null,
   "id": "ae0a77ae",
   "metadata": {},
   "outputs": [],
   "source": [
    "def es_palindromo(cadena):\n",
    "    # Eliminamos espacios y pasamos todo a minúsculas para comparar correctamente\n",
    "    cadena = cadena.replace(\" \", \"\").lower()\n",
    "    # Comparamos la cadena con su reverso\n",
    "    return cadena == cadena[::-1]\n",
    "\n",
    "# Ejemplos de uso\n",
    "print(es_palindromo(\"anilina\"))       # True\n",
    "print(es_palindromo(\"Hola\"))          # False\n",
    "print(es_palindromo(\"A man a plan a canal Panama\"))  # True\n"
   ]
  },
  {
   "cell_type": "markdown",
   "id": "4ed9d53a",
   "metadata": {},
   "source": [
    "Normalizar la cadena:\n",
    "\n",
    "replace(\" \", \"\") elimina los espacios.\n",
    "\n",
    "lower() pasa todo a minúsculas para que no importe mayúscula/minúscula.\n",
    "\n",
    "Revertir la cadena:\n",
    "\n",
    "cadena[::-1] crea una nueva cadena con los caracteres en orden inverso.\n",
    "\n",
    "Comparar la cadena con su reverso:\n",
    "\n",
    "Si son iguales, la cadena es un palíndromo → devuelve True.\n",
    "\n",
    "Si no son iguales → devuelve False."
   ]
  },
  {
   "cell_type": "markdown",
   "id": "769b6967",
   "metadata": {},
   "source": [
    "### Desafío 6: Verificación y Cálculo de Números Primos\n",
    "\n",
    "Crea dos funciones y un `main` que te permita trabajar con números primos, un concepto matemático fundamental. En este desafío, deberás:\n",
    "\n",
    "1. Crear una función que verifique si un número es primo.\n",
    "2. Crear otra función que cuente la cantidad de números primos dentro de una lista dada.\n",
    "3. Implementar un `main` que integre estas funciones y muestre los resultados.\n",
    "\n",
    "Asegúrate de que tu código esté bien documentado y que las funciones sean reutilizables."
   ]
  },
  {
   "cell_type": "code",
   "execution_count": null,
   "id": "9f9ba4c4",
   "metadata": {},
   "outputs": [],
   "source": [
    "import math\n",
    "\n",
    "def es_primo(n):\n",
    "    \"\"\"\n",
    "    Verifica si un número n es primo.\n",
    "    Devuelve True si n es primo, False en caso contrario.\n",
    "    \"\"\"\n",
    "    if n < 2:\n",
    "        return False\n",
    "    for i in range(2, int(math.sqrt(n)) + 1):\n",
    "        if n % i == 0:\n",
    "            return False\n",
    "    return True\n",
    "\n",
    "def contar_primos(lista):\n",
    "    \"\"\"\n",
    "    Cuenta cuántos números primos hay en la lista dada.\n",
    "    Devuelve un número entero con la cantidad de primos.\n",
    "    \"\"\"\n",
    "    contador = 0\n",
    "    for numero in lista:\n",
    "        if es_primo(numero):\n",
    "            contador += 1\n",
    "    return contador\n",
    "\n",
    "def main():\n",
    "    \"\"\"\n",
    "    Función principal para probar las funciones de números primos.\n",
    "    \"\"\"\n",
    "    lista_numeros = [2, 3, 4, 5, 6, 7, 8, 9, 10, 11]\n",
    "    \n",
    "    # Contamos los primos en la lista\n",
    "    cantidad = contar_primos(lista_numeros)\n",
    "    \n",
    "    print(f\"La lista: {lista_numeros}\")\n",
    "    print(f\"Números primos en la lista: {cantidad}\")\n",
    "    \n",
    "    # Ejemplo de verificación individual\n",
    "    numero = 13\n",
    "    if es_primo(numero):\n",
    "        print(f\"{numero} es un número primo.\")\n",
    "    else:\n",
    "        print(f\"{numero} no es un número primo.\")\n",
    "\n",
    "# Llamamos al main\n",
    "if __name__ == \"__main__\":\n",
    "    main()\n"
   ]
  },
  {
   "cell_type": "markdown",
   "id": "79ba5ab2",
   "metadata": {},
   "source": [
    "Función es_primo(n):\n",
    "\n",
    "Verifica si n es menor que 2 → no es primo.\n",
    "\n",
    "Recorre desde 2 hasta la raíz cuadrada de n (math.sqrt(n)) porque no hace falta revisar divisores mayores.\n",
    "\n",
    "Si n es divisible por algún número → no es primo.\n",
    "\n",
    "Si no encuentra divisores → es primo.\n",
    "\n",
    "Función contar_primos(lista):\n",
    "\n",
    "Recorre cada número de la lista.\n",
    "\n",
    "Usa es_primo(numero) para verificar cada uno.\n",
    "\n",
    "Suma 1 al contador si es primo.\n",
    "\n",
    "Función main():\n",
    "\n",
    "Define una lista de ejemplo.\n",
    "\n",
    "Cuenta los primos usando contar_primos.\n",
    "\n",
    "Muestra resultados y también da un ejemplo de verificación individual"
   ]
  }
 ],
 "metadata": {
  "language_info": {
   "name": "python"
  }
 },
 "nbformat": 4,
 "nbformat_minor": 5
}
