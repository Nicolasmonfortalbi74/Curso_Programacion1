{
 "cells": [
  {
   "cell_type": "markdown",
   "id": "5cf55c22",
   "metadata": {},
   "source": [
    "Palabras clave en Python:\n",
    "1. Valores booleanos y especiales\n",
    "    - True: representa el valor booleano verdadero.\n",
    "    - False: representa el valor booleano falso.\n",
    "    - None: representa un valor vacío o nulo.\n",
    "\n",
    "2.Operadores lógicos\n",
    "    - And: Operador lógico \"y\". Devuelve True si ambas condiciones son verdaderas.\n",
    "    - Or: Operador lógico \"o\", devuelve True si al menos una condición es verdadera.\n",
    "    - Not: Niega el valor booleano.\n",
    "\n",
    "3. Control de flujo\n",
    "- If: Condicional \"si\".\n",
    "- Elif: Condición altrenativa \"si no, entonces\".\n",
    "- Else: Caso contrario.\n"
   ]
  },
  {
   "cell_type": "markdown",
   "id": "96e9bc31",
   "metadata": {},
   "source": [
    "Diferencias entre elif y else: la diferencia en Python radica en cómo manejan las condiciones dentro de una estructura if.\n",
    "\n",
    "- Elif (else if): Se usa para evaluar una nueva condición si la anterior no se cumple.\n",
    "- Else: Se usa cuando ninguna de las condiciones anteriores es verdadera. Es un \"caso por defecto\".\n"
   ]
  },
  {
   "cell_type": "code",
   "execution_count": null,
   "id": "c2c1f692",
   "metadata": {},
   "outputs": [],
   "source": [
    "edad = 18\n",
    "\n",
    "if edad < 18:\n",
    "    print(\"Eres menor de edad\")\n",
    "elif edad == 18:\n",
    "    print(\"Tienes exactamente 18 años\")\n",
    "else:\n",
    "    print(\"Eres mayor de edad\")\n",
    "# Aquí, si edad es exactamente 18, se ejecutará elcódigo elif.\n",
    "# Si ninguna de las condiciones anterioers es verdadera, es un\n",
    "# else, o caso por defecto."
   ]
  },
  {
   "cell_type": "code",
   "execution_count": null,
   "id": "8127cf31",
   "metadata": {},
   "outputs": [],
   "source": [
    "if edad < 18:\n",
    "    print(\"Eres menor de edad\")\n",
    "else:\n",
    "    print(\"Eres mayor de edad\")\n",
    "# En este caso, si edad no es menor de 18, el programa\n",
    "# no necesita evaluar más condiciones, y simplemente ejecuta else."
   ]
  },
  {
   "cell_type": "markdown",
   "id": "7f2c3b40",
   "metadata": {},
   "source": [
    "Así pues, la diferencia clave es que mientras elif puede aparecer varias veces en un if, permitiendo múltiples condiciones, else se ejecuta solo si ninguna condición anterior se cumple.\n",
    "Else no lleva condición, mientras que elif sí."
   ]
  },
  {
   "cell_type": "markdown",
   "id": "c81ff0c0",
   "metadata": {},
   "source": [
    "Bucles\n",
    "\n",
    "- For: Itera sobre elementos.\n",
    "for i in range (3)\n",
    "    print(i) # SAlida: 0, 1, 2\n",
    "\n",
    "- While: Repite mientras una condición sea True.\n",
    "x = 0\n",
    "while x < 3:\n",
    "    print(x)\n",
    "    x += 1"
   ]
  },
  {
   "cell_type": "markdown",
   "id": "b3abb837",
   "metadata": {},
   "source": [
    "Funciones y clases\n",
    "\n",
    "- Def define una función\n",
    "def suma(a, b):\n",
    "    return a + b\n",
    "\n",
    "- Return: devuelve un valor desde una función\n",
    "def cuadrado(x):\n",
    "    return x * x\n",
    "\n",
    "- Class: Define una clase en programación orientada a objetos\n",
    "Class Persona\n",
    "Def _init_(self, nombre)\n",
    "self.nombre = nombre\n",
    "\n",
    "- Lambda: crea funciones anónimas\n",
    "f = lambda x: x * 3\n",
    "print(f(4)) # Salida: 8"
   ]
  },
  {
   "cell_type": "markdown",
   "id": "7a743121",
   "metadata": {},
   "source": [
    "Manejo de excepciones\n",
    "\n",
    "- Try: Bloque para capturar errores.\n",
    "- Except: Captura el error ocurrido.\n",
    "- Finally: Se ejecuta siempre, haya error o no."
   ]
  },
  {
   "cell_type": "markdown",
   "id": "07e2b81e",
   "metadata": {},
   "source": [
    "try\n",
    "    x = 1/0\n",
    "except ZeroDivisionError\n",
    "    print(\"Error: división por cero\")\n",
    "finally:\n",
    "    print(\"Fin del bloque\")"
   ]
  },
  {
   "cell_type": "markdown",
   "id": "92e242b8",
   "metadata": {},
   "source": [
    "Manipulación de variables y flujo:\n",
    "- Global: Permite acceder a variables fuera de una función.\n",
    "- Nonlocal: Permite modificar variables dentro de funciones anidadas.\n",
    "- Del: Elimina una variable o elemento de una lista."
   ]
  },
  {
   "cell_type": "markdown",
   "id": "09d6e757",
   "metadata": {},
   "source": [
    "contador = 0  # Variable global\n",
    "\n",
    "def aumentar():\n",
    "    global contador\n",
    "      # Permitimos modificar la variable global\n",
    "    contador += 1  # Ahora puede cambiarse dentro de la función\n",
    "\n",
    "aumentar()\n",
    "print(contador)  # Salida: 1\n",
    "\n",
    "    # Sin global, la función no podría cambiar contador porque está fuera de su alcance."
   ]
  },
  {
   "cell_type": "markdown",
   "id": "1db73fbc",
   "metadata": {},
   "source": [
    "Nonlocal se usa en funciones dentro de otras funciones para modificar variables de la función externa, pero sin afectar a las globales.\n",
    "\n",
    "Def externa():\n",
    "    mensaje = \"Hola\"\n",
    "\n",
    "   def interna():\n",
    "        nonlocal mensaje  # Permite modificar la variable de la función externa\n",
    "        mensaje = \"Adiós\"  \n",
    "\n",
    "    interna()\n",
    "    print(mensaje)  # Salida: \"Adiós\"\n",
    "\n",
    "externa()\n",
    "\n",
    "Sin nonlocal, la función interna no podría cambiar mensaje de la función externa.\n"
   ]
  },
  {
   "cell_type": "markdown",
   "id": "52d3cee7",
   "metadata": {},
   "source": [
    "Del se usa para borrar una variable o elemento de la lista.\n",
    "x = 10\n",
    "del x # Borra la variable x\n",
    "Si intentaas hacer print(x) te dará error porque x ya no existe."
   ]
  },
  {
   "cell_type": "markdown",
   "id": "c6328ef8",
   "metadata": {},
   "source": [
    "Programación asíncronas:\n",
    "Async y await: permiten manejar funciones asíncronas, como trabajar con datos sin bloquear el código.\n",
    "Las funciones asíncronas en Python permiten ejecutar tareas sin blqouear el programa princiapl, loq ue es útilcuando trabajamos con operadores que pueden tardar (como descargar datos de internet o leer archivos grandes.)\n",
    "Normalmente, en Python las funciones seejecutan de manera secuencial: una tarea debe terminar antes de que las iguiente pueda comenzar. \n",
    "Las funciones asíncronas permiten que varias tareas se realicen en \"paralelo\", sin que unas esperen a otras.\n",
    "Ejemplo básico con async y await:"
   ]
  },
  {
   "cell_type": "code",
   "execution_count": null,
   "id": "426c69ce",
   "metadata": {},
   "outputs": [],
   "source": [
    "import asyncio  # Biblioteca para manejar funciones asíncronas\n",
    "\n",
    "async def tarea():\n",
    "    print(\"Inicio tarea...\")\n",
    "    await asyncio.sleep(2)  # Simula una espera de 2 segundos sin bloquear el programa\n",
    "    print(\"Tarea completada!\")\n",
    "\n",
    "asyncio.run(tarea())  # Ejecutamos la función asíncrona"
   ]
  },
  {
   "cell_type": "code",
   "execution_count": null,
   "id": "6bb73647",
   "metadata": {},
   "outputs": [],
   "source": [
    "async def tarea1():\n",
    "    await asyncio.sleep(2)\n",
    "    print(\"Tarea 1 lista!\")\n",
    "\n",
    "async def tarea2():\n",
    "    await asyncio.sleep(3)\n",
    "    print(\"Tarea 2 lista!\")\n",
    "\n",
    "async def principal():\n",
    "    await asyncio.gather(tarea1(), tarea2())  # Ejecuta ambas tareas al mismo tiempo\n",
    "\n",
    "asyncio.run(principal())"
   ]
  },
  {
   "cell_type": "markdown",
   "id": "4d8e2153",
   "metadata": {},
   "source": [
    "Imagina que tienes que hervir agua para hacer té. Mientras esperas que el agua hierva, en lugar de quedarte sin hacer nada, decides preparar la taza y sacar la bolsita de té. Esto es lo que hace await en Python: permite esperar una tarea sin detener el programa.\n",
    "Aquí tienes un ejemplo en código, pero explicado de manera sencilla:\n"
   ]
  },
  {
   "cell_type": "code",
   "execution_count": null,
   "id": "c7a168ac",
   "metadata": {},
   "outputs": [],
   "source": [
    "import asyncio  # Biblioteca para manejar funciones asíncronas\n",
    "\n",
    "async def hervir_agua():\n",
    "    print(\"Poniendo agua a calentar...\")\n",
    "    await asyncio.sleep(3)  # Simula el tiempo que tarda en hervir el agua\n",
    "    print(\"¡El agua está lista!\")\n",
    "\n",
    "async def preparar_taza():\n",
    "    print(\"Sacando la taza y el té...\")\n",
    "    await asyncio.sleep(1)  # Simula el tiempo de preparación\n",
    "    print(\"¡Taza lista!\")\n",
    "\n",
    "async def hacer_te():\n",
    "    await asyncio.gather(hervir_agua(), preparar_taza())  # Se hacen ambas tareas al mismo tiempo\n",
    "    print(\"¡El té está listo para beber!\")\n",
    "\n",
    "asyncio.run(hacer_te())  # Ejecutamos la función principal"
   ]
  },
  {
   "cell_type": "markdown",
   "id": "9a1998bb",
   "metadata": {},
   "source": [
    "- Comenzamos a hervir el agua (tarea lenta, 3 segundos).\n",
    "- Mientras esperamos, preparamos la taza (tarea más rápida, 1 segundo).\n",
    "- Ambas tareas se hacen al mismo tiempo gracias a await.\n",
    "- Cuando todo está listo, servimos el té.\n",
    "Este es el mismo concepto que usar await: esperamos una tarea, pero sin bloquear el resto del programa.\n"
   ]
  },
  {
   "cell_type": "markdown",
   "id": "2047f333",
   "metadata": {},
   "source": [
    "Imagina que quieres hacer un desayuno rápido: freír huevos y tostar pan. Sin async, primero freirías los huevos, esperarías a que estuvieran listos, y solo después pondrías el pan en la tostadora. ¡Pero eso no es eficiente! Con programación asíncrona, puedes hacer ambas cosas al mismo tiempo.\n",
    "Aquí tienes el ejemplo en código con async y await:\n"
   ]
  },
  {
   "cell_type": "code",
   "execution_count": null,
   "id": "23c1f526",
   "metadata": {},
   "outputs": [],
   "source": [
    "import asyncio\n",
    "\n",
    "async def freir_huevos():\n",
    "    print(\"Empezando a freír huevos...\")\n",
    "    await asyncio.sleep(3)  # Simula el tiempo de cocción\n",
    "    print(\"¡Huevos listos!\")\n",
    "\n",
    "async def tostar_pan():\n",
    "    print(\"Colocando el pan en la tostadora...\")\n",
    "    await asyncio.sleep(2)  # Simula el tiempo de tostado\n",
    "    print(\"¡Pan tostado!\")\n",
    "\n",
    "async def preparar_desayuno():\n",
    "    await asyncio.gather(freir_huevos(), tostar_pan())  # Ambas tareas ocurren al mismo tiempo\n",
    "    print(\"¡El desayuno está servido!\")\n",
    "\n",
    "asyncio.run(preparar_desayuno())"
   ]
  },
  {
   "cell_type": "markdown",
   "id": "ac8e1c04",
   "metadata": {},
   "source": [
    "Otros:\n",
    "- In: Verifica si un elemento está en una colección.\n",
    "- Is: Compara si dos objetos son la misma instancia.\n",
    "- Pass: No hace nada, útil como marcador de posición.\n",
    "- Raise: Lanza una excepción.\n",
    "- yield: Pausa una función y guarda su estado para continuar después."
   ]
  },
  {
   "cell_type": "markdown",
   "id": "7acf1b96",
   "metadata": {},
   "source": [
    "- Raise: Lanza un error cuando algo no está bien.\n",
    "Imagina que en un parque de diversiones hay una regla que dice: \"no puedes subir a una montaña rusa si mides menos de 1'2\". Si alguien intenta subirse sin cumplir la regla, el encargado detiene el proceso y muestra una advertencia.\n",
    "En Python, Raise hace lo mismo, detiene el programa y muestra un error si algo no está correcto."
   ]
  },
  {
   "cell_type": "code",
   "execution_count": null,
   "id": "49fa7dff",
   "metadata": {},
   "outputs": [],
   "source": [
    "def subir_montaña_rusa(altura):\n",
    "    if altura < 1.20:\n",
    "        raise ValueError(\"¡No puedes subir! Mides menos de 1.20m\")\n",
    "    print(\"¡Disfruta el viaje!\")\n",
    "\n",
    "subir_montaña_rusa(1.10)  # Genera un error"
   ]
  },
  {
   "cell_type": "markdown",
   "id": "002320c6",
   "metadata": {},
   "source": [
    " En este caso no es necesario incluir else, aunque podrías hacerlo si quieres que la estructura del código sea más explícita.\n",
    "¿Por qué no es obligatorio?\n",
    "- Cuando altura < 1.20, el programa lanza un error con raise, lo que detiene la ejecución inmediatamente.\n",
    "- Si la condición es falsa, el código sigue adelante y ejecuta print(\"¡Disfruta el viaje!\") sin necesidad de un else.\n",
    "Aquí está el mismo código con else, aunque no cambia el resultado:\n"
   ]
  },
  {
   "cell_type": "code",
   "execution_count": null,
   "id": "f3b55af2",
   "metadata": {},
   "outputs": [],
   "source": [
    "def subir_montaña_rusa(altura):\n",
    "    if altura < 1.20:\n",
    "        raise ValueError(\"¡No puedes subir! Mides menos de 1.20m\")\n",
    "    else:\n",
    "        print(\"¡Disfruta el viaje!\")\n",
    "\n",
    "subir_montaña_rusa(1.30)  # Salida: ¡Disfruta el viaje!"
   ]
  },
  {
   "cell_type": "markdown",
   "id": "f6b261ef",
   "metadata": {},
   "source": [
    "Usar else puede ayudar a leer mejor la lógica, pero no es imprescindible.\n"
   ]
  },
  {
   "cell_type": "markdown",
   "id": "8df961c0",
   "metadata": {},
   "source": [
    "Yield: Pausa la función y recuerda dónde quedó.\n",
    "Imagina que estás viendo una serie, pero en lugar de ver todos los espisodios a la vez, pausas después de cada capítulo y retomas más tarde desde el mismo punto.\n",
    "Eso es lo que hace yield en Python: pausa la ejecución, pero recuerda dónde quedó, permitiendo continuar cuando sea necesario.\n",
    "Ejemplo en códgio:"
   ]
  },
  {
   "cell_type": "code",
   "execution_count": null,
   "id": "479427df",
   "metadata": {},
   "outputs": [],
   "source": [
    "def ver_serie():\n",
    "    yield \"Capítulo 1: Comienza la historia\"\n",
    "    yield \"Capítulo 2: Un giro inesperado\"\n",
    "    yield \"Capítulo 3: El gran final\"\n",
    "\n",
    "episodios = ver_serie()\n",
    "for capitulo in episodios:\n",
    "    print(capitulo)"
   ]
  },
  {
   "cell_type": "markdown",
   "id": "fd924ec6",
   "metadata": {},
   "source": [
    "La función no ejecuta todo de una vez, sino que entrega un capítulo con yield.\n",
    "Cuando llamamos al a función con for, se va recordando y retomando desde donde se pauso."
   ]
  },
  {
   "cell_type": "markdown",
   "id": "3eb72423",
   "metadata": {},
   "source": [
    "Esta es la lista de palabras clave que usaremos en python. Puedes verlas desde la biblioteca import keyword\n",
    "\n",
    "print(keyword.kwlist)"
   ]
  },
  {
   "cell_type": "code",
   "execution_count": 11,
   "id": "9d147177",
   "metadata": {},
   "outputs": [
    {
     "name": "stdout",
     "output_type": "stream",
     "text": [
      "['False', 'None', 'True', 'and', 'as', 'assert', 'async', 'await', 'break', 'class', 'continue', 'def', 'del', 'elif', 'else', 'except', 'finally', 'for', 'from', 'global', 'if', 'import', 'in', 'is', 'lambda', 'nonlocal', 'not', 'or', 'pass', 'raise', 'return', 'try', 'while', 'with', 'yield']\n"
     ]
    }
   ],
   "source": [
    "import keyword\n",
    "\n",
    "print(keyword.kwlist)"
   ]
  }
 ],
 "metadata": {
  "kernelspec": {
   "display_name": "Python 3",
   "language": "python",
   "name": "python3"
  },
  "language_info": {
   "codemirror_mode": {
    "name": "ipython",
    "version": 3
   },
   "file_extension": ".py",
   "mimetype": "text/x-python",
   "name": "python",
   "nbconvert_exporter": "python",
   "pygments_lexer": "ipython3",
   "version": "3.13.2"
  }
 },
 "nbformat": 4,
 "nbformat_minor": 5
}
