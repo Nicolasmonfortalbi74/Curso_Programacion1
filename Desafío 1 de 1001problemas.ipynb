{
 "cells": [
  {
   "cell_type": "code",
   "execution_count": null,
   "id": "b113fe69",
   "metadata": {},
   "outputs": [],
   "source": [
    "1001 PROBLEMAS.\n",
    "Escribir un programa que calcule la media de tres números reales."
   ]
  },
  {
   "cell_type": "code",
   "execution_count": 4,
   "id": "7b90e7ed",
   "metadata": {},
   "outputs": [
    {
     "name": "stdout",
     "output_type": "stream",
     "text": [
      "La media de los tres números es: 6.333333333333333\n"
     ]
    }
   ],
   "source": [
    "numero1 = float(input(\"Ingresa el primer número: \"))\n",
    "numero2 = float(input(\"Ingresa el segundo número \"))\n",
    "numero3 = float(input(\"Ingresa el tercer número \"))\n",
    "\n",
    "Media = (numero1 + numero2 + numero3) / 3\n",
    "\n",
    "print(f\"La media de los tres números es: {Media}\")"
   ]
  },
  {
   "cell_type": "code",
   "execution_count": 5,
   "id": "6c35c7fd",
   "metadata": {},
   "outputs": [
    {
     "name": "stdout",
     "output_type": "stream",
     "text": [
      "La media de los tres números es: 6.333333333333333\n"
     ]
    }
   ],
   "source": [
    "Numero1 = 5\n",
    "Numero2 = 10\n",
    "Numero3 = 15\n",
    "Media = (numero1 + numero2 + numero3) / 3\n",
    "\n",
    "print (f\"La media de los tres números es: {Media}\")"
   ]
  },
  {
   "cell_type": "code",
   "execution_count": null,
   "id": "25e48207",
   "metadata": {},
   "outputs": [],
   "source": [
    "Primero he usado un programa con los comandos float(input()) que pedía al usuario ingresar los números a dividir para sacarla media.\n",
    "Es importante poner bien los paréntesis a la hora de hacer la división, como aprendimos en primaria, ya que si no, el resultado\n",
    "no es correcto.\n",
    "Después lo he hecho determinando unos números fijos."
   ]
  }
 ],
 "metadata": {
  "kernelspec": {
   "display_name": "Python 3",
   "language": "python",
   "name": "python3"
  },
  "language_info": {
   "codemirror_mode": {
    "name": "ipython",
    "version": 3
   },
   "file_extension": ".py",
   "mimetype": "text/x-python",
   "name": "python",
   "nbconvert_exporter": "python",
   "pygments_lexer": "ipython3",
   "version": "3.13.2"
  }
 },
 "nbformat": 4,
 "nbformat_minor": 5
}
