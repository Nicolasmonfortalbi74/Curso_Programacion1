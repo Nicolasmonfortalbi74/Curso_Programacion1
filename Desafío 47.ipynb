{
 "cells": [
  {
   "cell_type": "code",
   "execution_count": null,
   "id": "7727fec2",
   "metadata": {},
   "outputs": [],
   "source": [
    "🎯 Desafío 47 Amplía la clase Autor para incluir una lista de libros escritos por el autor. \n",
    "Implementa métodos para agregar y eliminar libros de esta lista."
   ]
  },
  {
   "cell_type": "code",
   "execution_count": null,
   "id": "b3d6295f",
   "metadata": {},
   "outputs": [],
   "source": [
    "class Autor:\n",
    "    def __init__(self, nombre, fecha_nacimiento, nacionalidad):\n",
    "        self.nombre = nombre\n",
    "        self.fecha_nacimiento = fecha_nacimiento\n",
    "        self.nacionalidad = nacionalidad\n",
    "        self.libros = []  # Lista de libros escritos por el autor\n",
    "\n",
    "    def agregar_libro(self, libro):\n",
    "        \"\"\"Agrega un libro a la lista si no está ya.\"\"\"\n",
    "        if libro not in self.libros:\n",
    "            self.libros.append(libro)\n",
    "\n",
    "    def eliminar_libro(self, libro):\n",
    "        \"\"\"Elimina un libro de la lista si existe.\"\"\"\n",
    "        if libro in self.libros:\n",
    "            self.libros.remove(libro)\n",
    "\n",
    "    def listar_libros(self):\n",
    "        \"\"\"Devuelve la lista de libros del autor.\"\"\"\n",
    "        return self.libros\n",
    "\n",
    "# Ejemplo de uso\n",
    "autor = Autor(\"J.K. Rowling\", \"1965-07-31\", \"Británica\")\n",
    "autor.agregar_libro(\"Harry Potter y la piedra filosofal\")\n",
    "autor.agregar_libro(\"Harry Potter y la cámara secreta\")\n",
    "print(\"Libros:\", autor.listar_libros())\n",
    "\n",
    "autor.eliminar_libro(\"Harry Potter y la cámara secreta\")\n",
    "print(\"Libros después de eliminar:\", autor.listar_libros())\n"
   ]
  },
  {
   "cell_type": "markdown",
   "id": "1ae05667",
   "metadata": {},
   "source": [
    "Atributo self.libros:\n",
    "Mantiene una lista de todos los libros que ha escrito el autor.\n",
    "\n",
    "Método agregar_libro:\n",
    "Añade un libro solo si no está ya en la lista para evitar duplicados.\n",
    "\n",
    "Método eliminar_libro:\n",
    "Quita un libro de la lista si existe.\n",
    "\n",
    "Método listar_libros:\n",
    "Devuelve todos los libros actuales del autor."
   ]
  },
  {
   "cell_type": "markdown",
   "id": "8dc36803",
   "metadata": {},
   "source": []
  }
 ],
 "metadata": {
  "language_info": {
   "name": "python"
  }
 },
 "nbformat": 4,
 "nbformat_minor": 5
}
