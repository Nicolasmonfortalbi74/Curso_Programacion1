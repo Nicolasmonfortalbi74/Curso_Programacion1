{
 "cells": [
  {
   "cell_type": "code",
   "execution_count": null,
   "id": "f97a889f",
   "metadata": {},
   "outputs": [],
   "source": [
    "## Desafío 4: Conversor de Moneda\n",
    "Escriba un programa que solicite al usuario que ingrese una cantidad en su moneda local y \n",
    "luego convierta esa cantidad a otra moneda usando una tasa de cambio proporcionada.\n",
    "El programa debe manejar la entrada de datos y formatear la salida adecuadamente."
   ]
  },
  {
   "cell_type": "code",
   "execution_count": null,
   "id": "98604cf1",
   "metadata": {},
   "outputs": [],
   "source": [
    "# Solicitar la cantidad en moneda local\n",
    "try:\n",
    "    cantidad_local = float(input(\"Ingrese la cantidad en su moneda local: \"))\n",
    "except ValueError:\n",
    "    print(\"Error: Debe ingresar un número válido.\")\n",
    "    exit()\n",
    "\n",
    "# Solicitar la tasa de cambio\n",
    "try:\n",
    "    tasa_cambio = float(input(\"Ingrese la tasa de cambio (valor de 1 unidad de moneda local en la otra moneda): \"))\n",
    "except ValueError:\n",
    "    print(\"Error: Debe ingresar un número válido.\")\n",
    "    exit()\n",
    "\n",
    "# Verificar que la tasa de cambio sea mayor que cero\n",
    "if tasa_cambio <= 0:\n",
    "    print(\"Error: La tasa de cambio debe ser un número positivo.\")\n",
    "else:\n",
    "    cantidad_convertida = cantidad_local * tasa_cambio\n",
    "    print(f\"La cantidad convertida es: {cantidad_convertida:.2f}\")\n"
   ]
  },
  {
   "cell_type": "markdown",
   "id": "31320833",
   "metadata": {},
   "source": [
    "1. try:\n",
    "    cantidad_local = float(input(\"Ingrese la cantidad en su moneda local: \"))\n",
    "except ValueError:\n",
    "    print(\"Error: Debe ingresar un número válido.\")\n",
    "    exit()\n",
    "\n",
    "- El try en Python se usa para manejar errores sin que el programa se detenga abruptamente. Cuando ejecutas un código dentrod e un bloque try, Python intenta ejecutarlo normalmente. Si ocurre un error durante dla ejecución, en lugar de detener el programa, Python captura el error y permite manejarlo con except.\n",
    "- Input(\"Ingrese la cantidad en su moneda local: \"), muestra ese mensaje al usuario para que este ingrese una cadena de texto. Al utilizar float, convierte la cadena en un número decima. Si el usuario escribe algo incorrecto como abc, se producirá un error.\n",
    "- Manejo de errores con try-except:\n",
    "    . Try intenta ejecutar el código dentro del bloque try.\n",
    "    . Si todo sale bien, el programa sigue funcionando normalmente.\n",
    "    . Except ValueError, atrapa errores si el usuario ingresó algo que no se puede convertir en float. Por ejemplo, si el usuario escribe hola en lugar de un número, Python genera un ValueError.\n",
    "    .Print(\"Error: Debe ingresar un número válido.\"). Muestra un mensaje de error para informar al usuario que la entrada es incorrecta.\n",
    "    . Exit: finaliza el programa para evitar que continúe con datos incorrectos."
   ]
  },
  {
   "cell_type": "markdown",
   "id": "9cc689d2",
   "metadata": {},
   "source": [
    "2. try:\n",
    "    tasa_cambio = float(input(\"Ingrese la tasa de cambio (valor de 1 unidad de moneda local en la otra moneda): \"))\n",
    "except ValueError:\n",
    "    print(\"Error: Debe ingresar un número válido.\")\n",
    "    exit()\n",
    "\n",
    "- Se utiliza input(...) para solicitar al usuario la tasa de cambio y float para convertir la entrada en número decimal.\n",
    "- Si el usuario ingresa texto en lugar de número, Python genera ValueError.\n",
    "- Except ValueError. Si el usuario ingresa algo no númerico, igual que en el caso anterior, el programa captura el error y muestra el mensaje \"Error: Debe ingresar un número válido.\".\n",
    "- Exit finaliza el programa, evitando cálculos incorrectos."
   ]
  },
  {
   "cell_type": "markdown",
   "id": "608bd52c",
   "metadata": {},
   "source": [
    "3. if tasa_cambio <= 0:\n",
    "    print(\"Error: La tasa de cambio debe ser un número positivo.\")\n",
    "else:\n",
    "    cantidad_convertida = cantidad_local * tasa_cambio\n",
    "    print(f\"La cantidad convertida es: {cantidad_convertida:.2f}\")\n",
    "\n",
    "    - If tasa_cambio <= 0, asegura que la tasa de cambio no sea 0 ni un número negativo. \n",
    "    - Si el usuario ingreas 0 o un valor negativo el programa muestra error en lugar de continuar con un cálculo incorrecto, y muestra el mensaje \"la tasa de cambio de ser un número positivo\".\n",
    "    - Cantidad_convertida = cantidad_local * tasa_cambio. Si la tasa de cambio es válida el programa multiplica la cantidad ingresada (cantidad local) por la tasa de cambio (tasa_cambio)\n",
    "    -print(f\"La cantidad convertida es: {cantidad_convertida:.2f}\"). Impresión del resultado. Muestra el resultado de la impresión. El formato :.2f, se usa para asegurar que el número se muestre con dos decimales, haciéndolo más legible."
   ]
  },
  {
   "cell_type": "markdown",
   "id": "a5575b33",
   "metadata": {},
   "source": [
    "## Desafío 5: Contador de Palabras\n",
    "Escriba un programa que permita al usuario ingresar un texto y luego cuente y muestre la cantidad de palabras que contiene el texto. El programa debe manejar la entrada de datos y formatear la salida adecuadamente."
   ]
  },
  {
   "cell_type": "code",
   "execution_count": null,
   "id": "d05d542e",
   "metadata": {},
   "outputs": [],
   "source": [
    "# Solicitar al usuario que ingrese un texto\n",
    "texto = input(\"Ingrese un texto: \")\n",
    "\n",
    "# Eliminar espacios innecesarios antes de contar las palabras\n",
    "texto_limpio = texto.strip()\n",
    "\n",
    "# Verificar si el texto no está vacío\n",
    "if texto_limpio:\n",
    "    # Dividir el texto en palabras usando espacios como separador\n",
    "    palabras = texto_limpio.split()\n",
    "    \n",
    "    # Contar la cantidad de palabras\n",
    "    cantidad_palabras = len(palabras)\n",
    "    \n",
    "    # Mostrar el resultado\n",
    "    print(f\"El texto ingresado contiene {cantidad_palabras} palabras.\")\n",
    "else:\n",
    "    print(\"Error: No ingresó ningún texto válido.\")"
   ]
  },
  {
   "cell_type": "markdown",
   "id": "ad0d975c",
   "metadata": {},
   "source": [
    "1. Solicitamos al usuario que ingrese un texto. Cómo es sólo input, se trata de una cadena de letras, es decir; palabras y no números."
   ]
  },
  {
   "cell_type": "markdown",
   "id": "c7936feb",
   "metadata": {},
   "source": [
    "2. texto_limpio = texto.strip().\n",
    "Strip es un método de cadenas en Python que elimina espacios en blanco al inicio y al final de un texto. También puede remover caracteres especiales como saltos de línea (\\n) si están al inicio o al final.\n",
    "Evita errores al analizar el texto.\n",
    "Limpia entradas del usuario antes de procesarlas.\n",
    "Es útil para datos almacenados en archivos y bases de datos."
   ]
  },
  {
   "cell_type": "markdown",
   "id": "8986ee3e",
   "metadata": {},
   "source": [
    "3. Palabras = texto_limpio.split()\n",
    "Se encarga de dividir el texto en palabras, utilizando los espacios como separador.\n",
    "Split es un método de cadenas en Python que divide el texto en partes según un separador (por defecto los espacios).\n",
    "Devuelve una lista con palabras separadas."
   ]
  },
  {
   "cell_type": "markdown",
   "id": "b078ac75",
   "metadata": {},
   "source": [
    "4. cantidad_palabras = len(palabras).\n",
    "Se encarga de contar cuántas palabras hay en la lista palabras.\n",
    "Palabras es una lista que se genera previamente con texto_limpio.split(), que divide el texto en palabras usando los espacios como separador.\n",
    "Len(palabras) obtiene la cantidad de elementos de la lista.\n",
    "Len(...) es una función que devuelve la cantidad de elementos en una lista. En este caso,cuenta cuántas palbras hay en la lista palabras."
   ]
  },
  {
   "cell_type": "markdown",
   "id": "83e797a4",
   "metadata": {},
   "source": [
    "5. Impresión del número de palabras.\n",
    "- Si el usuario ingresó un texto válido, el código ya ha contado las palabras  generadas por la lista split.\n",
    "- Se usa una f-string(f\"\") para insertar cantidad_palabras dentro del mensaje y mostrarlo con el formato adecuado; es decir para mostrar la catnidad de palabras que contó el programa.\n",
    "- Si el usuario no ingresó texto (escribió solo espacios en blanco o presionó enter sin escribir nada), el programa muestra un mensaje de error.\n",
    "- Esto se determina usando if texto_limpoi, que verifica si texto_limpio conntiene contenido válido.\n",
    "- Si el usuario no ingresa texto, el programa detexta que está vacío y muestra un mensaje de error."
   ]
  }
 ],
 "metadata": {
  "kernelspec": {
   "display_name": "Python 3",
   "language": "python",
   "name": "python3"
  },
  "language_info": {
   "name": "python",
   "version": "3.13.2"
  }
 },
 "nbformat": 4,
 "nbformat_minor": 5
}
