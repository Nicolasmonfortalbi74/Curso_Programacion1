{
 "cells": [
  {
   "cell_type": "markdown",
   "id": "acec90e4",
   "metadata": {},
   "source": [
    "# Desafío 1\n",
    "\n",
    "Considere las matrices $ A $ y $ B $ definidas como:\n",
    "\n",
    "$ A = \\begin{bmatrix} 1 & 2 \\\\ 3 & 4 \\end{bmatrix} $     y     $ B = \\begin{bmatrix} 5 & 6 \\\\ 7 & 8 \\end{bmatrix} $\n",
    "\n",
    "Tu tarea es calcular la matriz resultante de la operación $ (2A + B^T) $. Recuerda que $ B^T $ denota la transposición de la matriz $ B $."
   ]
  },
  {
   "cell_type": "markdown",
   "id": "672c2d26",
   "metadata": {},
   "source": [
    "Paso 1: Multiplicar A por 2\n",
    "La matriz A es: [ A = \\begin{bmatrix} 1 & 2 \\ 3 & 4 \\end{bmatrix} ] Multiplicamos cada elemento por 2: [ 2A = \\begin{bmatrix} 2 & 4 \\ 6 & 8 \\end{bmatrix} ]\n"
   ]
  },
  {
   "cell_type": "markdown",
   "id": "06471b9b",
   "metadata": {},
   "source": [
    "Paso 2: Transponer B\n",
    "La matriz B es: [ B = \\begin{bmatrix} 5 & 6 \\ 7 & 8 \\end{bmatrix} ] Su transpuesta ( BT = \\begin{bmatrix} 5 & 7 \\ 6 & 8 \\end{bmatrix} ]\n"
   ]
  },
  {
   "cell_type": "markdown",
   "id": "3095b4e9",
   "metadata": {},
   "source": [
    "Paso 3: Sumar ( 2A + B^T )\n",
    "Sumamos cada elemento correspondiente de las matrices ( 2A ) y ( B^T ):\n",
    "[ (2A + B^T) = \\begin{bmatrix} 2+5 & 4+7 \\ 6+6 & 8+8 \\end{bmatrix} ]\n",
    "[\n",
    "\\begin{bmatrix} 7 & 11 \\ 12 & 16 \\end{bmatrix} ]\n",
    "\n",
    "2 + 5 = 7, 4 + 7 = 11, 6 + 6 = 12, 8 + = 16"
   ]
  },
  {
   "cell_type": "markdown",
   "id": "4c69ad7e",
   "metadata": {},
   "source": [
    "Resultado Final\n",
    "La matriz resultante de ( (2A + B^T) ) es: [ \\begin{bmatrix} 7 & 11 \\ 12 & 16 \\end{bmatrix} ]\n"
   ]
  },
  {
   "cell_type": "markdown",
   "id": "3f889ccc",
   "metadata": {},
   "source": [
    "# Desafío 2\n",
    "\n",
    "Dada la matriz $ A = \\begin{bmatrix} 1 & 0 & 1 \\\\ 4 & -1 & 4 \\\\ 5 & 6 & 7 \\end{bmatrix} $, encuentra la traza de la matriz inversa de $ A $."
   ]
  },
  {
   "cell_type": "markdown",
   "id": "bdb91786",
   "metadata": {},
   "source": [
    "Para encontrar la traza de la matriz inversa ( A^{-1} ), podemos usar la propiedad de que la traza de la inversa de una matriz cuadrada ( A ) está relacionada con su determinante y su adjunta.\n",
    "La traza de ( A^{-1} ) se puede calcular como:\n",
    "[ \\text{tr}(A^{-1}) = \\frac{\\text{tr}(\\text{adj}(A))}{\\det(A)} ]\n"
   ]
  },
  {
   "cell_type": "markdown",
   "id": "de86f143",
   "metadata": {},
   "source": [
    "Paso 1: Cálculo del determinante de ( A )\n",
    "[ \\det(A) = 1 \\cdot (-1 \\cdot 7 - 4 \\cdot 6) - 0 \\cdot (4 \\cdot 7 - 4 \\cdot 6) + 1 \\cdot (4 \\cdot 6 - (-1 \\cdot 5)) ]\n",
    "[ \\det(A) = 1 \\cdot (-7 - 24) + 1 \\cdot (24 + 5) = 1 \\cdot (-31) + 1 \\cdot 29 = -2 ]\n"
   ]
  },
  {
   "cell_type": "markdown",
   "id": "48313734",
   "metadata": {},
   "source": [
    "Paso 2: Cálculo de la adjunta ( \\text{adj}(A) )\n",
    "La adjunta es la transpuesta de la matriz de cofactores:\n",
    "[ \\text{adj}(A) = \\begin{bmatrix} -1 \\cdot 7 - 4 \\cdot 6 & -(4 \\cdot 7 - 4 \\cdot 6) & 4 \\cdot 6 - (-1 \\cdot 5) \\ -(0 \\cdot 7 - 1 \\cdot 6) & 1 \\cdot 7 - 1 \\cdot 5 & -(1 \\cdot 6 - 0 \\cdot 5) \\ 0 \\cdot 4 - 1 \\cdot (-1) & -(1 \\cdot 4 - 1 \\cdot 5) & 1 \\cdot (-1) - 0 \\cdot 4 \\end{bmatrix} ]\n",
    "[ = \\begin{bmatrix} -31 & -4 & 29 \\ -6 & 2 & -6 \\ 1 & 1 & -1 \\end{bmatrix} ]\n"
   ]
  },
  {
   "cell_type": "markdown",
   "id": "889fbe3d",
   "metadata": {},
   "source": [
    "Paso 3: Cálculo de la traza de ( A^{-1} )\n",
    "La traza de la adjunta es:\n",
    "[ \\text{tr}(\\text{adj}(A)) = -31 + 2 - 1 = -30 ]\n",
    "Entonces, la traza de ( A^{-1} ) es:\n",
    "[ \\text{tr}(A^{-1}) = \\frac{-30}{-2} = 15 ]\n",
    "\n"
   ]
  },
  {
   "cell_type": "markdown",
   "id": "765692c2",
   "metadata": {},
   "source": [
    "Respuesta final: La traza de la matriz inversa de ( A ) es 15.\n"
   ]
  },
  {
   "cell_type": "markdown",
   "id": "1a4991d0",
   "metadata": {},
   "source": []
  }
 ],
 "metadata": {
  "language_info": {
   "name": "python"
  }
 },
 "nbformat": 4,
 "nbformat_minor": 5
}
