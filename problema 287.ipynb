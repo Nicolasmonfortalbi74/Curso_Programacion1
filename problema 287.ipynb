{
 "cells": [
  {
   "cell_type": "code",
   "execution_count": null,
   "id": "2b55ae1c",
   "metadata": {},
   "outputs": [],
   "source": [
    "Define una función en Python que calcule una potencia a partir de base y exponente.\n"
   ]
  },
  {
   "cell_type": "code",
   "execution_count": null,
   "id": "6b83710f",
   "metadata": {},
   "outputs": [
    {
     "name": "stdout",
     "output_type": "stream",
     "text": [
      "2 elevado a la 3 es: 8\n"
     ]
    }
   ],
   "source": [
    "def potencia(base, exponente):\n",
    "    \"\"\"\n",
    "    Calcula la potencia de un número.\n",
    "\n",
    "    Parámetros:\n",
    "    base (float o int): Número base.\n",
    "    exponente (int): Exponente al que elevar la base.\n",
    "\n",
    "    Retorna:\n",
    "    float o int: Resultado de base ** exponente.\n",
    "    \"\"\"\n",
    "    return base ** exponente\n",
    "\n",
    "\n",
    "resultado = potencia(2, 3)\n",
    "print(f\"2 elevado a la 3 es: {resultado}\") "
   ]
  },
  {
   "cell_type": "markdown",
   "id": "ac8e6b9f",
   "metadata": {},
   "source": [
    "def potencia(base, exponente): Define la función potencia, que recibe base y exponente como argumentos.\n",
    "base**exponente: utiliza el operador **, que en Python representa la potencia\n",
    "Return: devuelve el resultado de base elevado a exponente."
   ]
  },
  {
   "cell_type": "markdown",
   "id": "6117c4e8",
   "metadata": {},
   "source": [
    "También se puede usar la función pow() de Python."
   ]
  },
  {
   "cell_type": "code",
   "execution_count": 4,
   "id": "bd107c06",
   "metadata": {},
   "outputs": [
    {
     "name": "stdout",
     "output_type": "stream",
     "text": [
      "2 elevado a la 3 es: 8\n"
     ]
    }
   ],
   "source": [
    "def potencia(base, exponente):\n",
    "    return pow(base, exponente)\n",
    "\n",
    "resultado = potencia(2,3)\n",
    "print(f\"2 elevado a la 3 es: {resultado}\")"
   ]
  }
 ],
 "metadata": {
  "kernelspec": {
   "display_name": "Python 3",
   "language": "python",
   "name": "python3"
  },
  "language_info": {
   "codemirror_mode": {
    "name": "ipython",
    "version": 3
   },
   "file_extension": ".py",
   "mimetype": "text/x-python",
   "name": "python",
   "nbconvert_exporter": "python",
   "pygments_lexer": "ipython3",
   "version": "3.13.3"
  }
 },
 "nbformat": 4,
 "nbformat_minor": 5
}
