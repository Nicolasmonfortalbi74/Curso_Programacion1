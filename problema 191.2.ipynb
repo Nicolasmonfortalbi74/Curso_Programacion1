{
 "cells": [
  {
   "cell_type": "markdown",
   "id": "b311f768",
   "metadata": {},
   "source": [
    "Escribir un programa que genere una tabla de multiplicar para un número dado por el usuario.\n"
   ]
  },
  {
   "cell_type": "markdown",
   "id": "d47e80c7",
   "metadata": {},
   "source": [
    "Primero solicitamos al usuario que ingrese un dato así que usamos la función input. En este caso le pediremos un número entero así que usaremos int(input). Para pedir un decimal usariamos float(input) y si fuesen palabras usaríamos tan sólo input."
   ]
  },
  {
   "cell_type": "code",
   "execution_count": 1,
   "id": "1c404b3c",
   "metadata": {},
   "outputs": [],
   "source": [
    "numero = int(input(\"Ingresa un número para la tabla de multiplicar: \"))"
   ]
  },
  {
   "cell_type": "markdown",
   "id": "3ad7fca7",
   "metadata": {},
   "source": [
    "Después crearemos la tabla de multiplicar. Usaremos la función print(f\"\\nTabla de multiplicar del {numero}: \").\n",
    "Print, cómo ya sabemos, muestratexto en pantalla.\n",
    "La letra f antes de las comillas indica una cadena de formato (f-string), permitiendo insertar valores dentro del texto.\n",
    "\\n agrega un salto de línea antes del mensaje, es cómo un intro.\n",
    "{numero} dentro del texto se reepmlaza por el valor de la variable numero introducida por el usuario."
   ]
  },
  {
   "cell_type": "code",
   "execution_count": 2,
   "id": "f0b73132",
   "metadata": {},
   "outputs": [
    {
     "name": "stdout",
     "output_type": "stream",
     "text": [
      "\n",
      "Tabla de multiplicar del 10: \n",
      "10 x 1 = 10\n",
      "10 x 2 = 20\n",
      "10 x 3 = 30\n",
      "10 x 4 = 40\n",
      "10 x 5 = 50\n",
      "10 x 6 = 60\n",
      "10 x 7 = 70\n",
      "10 x 8 = 80\n",
      "10 x 9 = 90\n",
      "10 x 10 = 100\n"
     ]
    }
   ],
   "source": [
    "print(f\"\\nTabla de multiplicar del {numero}: \")\n",
    "for i in range(1,11):\n",
    "    print(f\"{numero} x {i} = {numero * i}\")"
   ]
  },
  {
   "cell_type": "markdown",
   "id": "337ff4e2",
   "metadata": {},
   "source": [
    "utiliamos la función for in range.\n",
    "El for inicia un bucle que repite la acción dentro del bloque, del 1 al 11.\n",
    "I es la variable del bucle, cambia en cada iteración.\n",
    "In range (1-11) genera números del 1 al 10, sin incluir el 11.\n",
    "Recorre los valores i =1,2,3...10\n",
    "print(f\"{numero}x{i} = {numero * i}\") es una cadena de formato donde {numero} muestra el número ingresado, {i} muestra el valor actual del bucle y {numero * i} va a mostrar el resultado de la multiplicación."
   ]
  },
  {
   "cell_type": "code",
   "execution_count": null,
   "id": "15b24b23",
   "metadata": {},
   "outputs": [],
   "source": []
  }
 ],
 "metadata": {
  "kernelspec": {
   "display_name": "Python 3",
   "language": "python",
   "name": "python3"
  },
  "language_info": {
   "codemirror_mode": {
    "name": "ipython",
    "version": 3
   },
   "file_extension": ".py",
   "mimetype": "text/x-python",
   "name": "python",
   "nbconvert_exporter": "python",
   "pygments_lexer": "ipython3",
   "version": "3.13.2"
  }
 },
 "nbformat": 4,
 "nbformat_minor": 5
}
