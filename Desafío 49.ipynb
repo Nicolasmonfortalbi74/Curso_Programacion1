{
 "cells": [
  {
   "cell_type": "code",
   "execution_count": null,
   "id": "e3f9aed0",
   "metadata": {},
   "outputs": [],
   "source": [
    "Considera cómo podrías implementar una biblioteca que almacene múltiples autores y libros. ¿Qué estructuras de datos usarías?"
   ]
  },
  {
   "cell_type": "markdown",
   "id": "7b0dfd01",
   "metadata": {},
   "source": [
    "Estructura:\n",
    "1. Clases:\n",
    "    - Autor\n",
    "    - Libro\n",
    "    - Bibliotca\n",
    "\n",
    "2. Estructuras de datos clave:\n",
    "    -  dict para mapear libros por ISBN o autores por ID/nombre.\n",
    "    -  list para almacenar colecciones ordenadas de libros/autores.\n",
    "    -  set para evitar autores o títulos duplicados.\n",
    "\n"
   ]
  },
  {
   "cell_type": "code",
   "execution_count": 6,
   "id": "8fce4ad7",
   "metadata": {},
   "outputs": [
    {
     "name": "stdout",
     "output_type": "stream",
     "text": [
      "Libros de Jorge Luis Borges:\n",
      "- Ficciones\n",
      "- El Aleph\n",
      "Libros de Gabriel García Marquez:\n",
      "- Cien años de soledad\n"
     ]
    }
   ],
   "source": [
    "class Autor:\n",
    "    def __init__(self, nombre, nacionalidad):\n",
    "        self.nombre = nombre\n",
    "        self.nacionalidad = nacionalidad\n",
    "        self.libros = []\n",
    "\n",
    "class Libro:\n",
    "    def __init__(self, titulo, autor, isbn):\n",
    "        self.titulo = titulo\n",
    "        self.autor = autor  # instancia de Autor\n",
    "        self.isbn = isbn\n",
    "\n",
    "class Biblioteca:\n",
    "    def __init__(self):\n",
    "        self.libros_por_isbn = {}\n",
    "        self.autores_por_nombre = {}\n",
    "\n",
    "    def agregar_autor(self, autor):\n",
    "        self.autores_por_nombre[autor.nombre] = autor\n",
    "\n",
    "    def agregar_libro(self, libro):\n",
    "        self.libros_por_isbn[libro.isbn] = libro\n",
    "        libro.autor.libros.append(libro)\n",
    "        \n",
    "# Crear instancia de la biblioteca\n",
    "biblioteca = Biblioteca()\n",
    "\n",
    "# Crear autores\n",
    "autor1 = Autor(\"Jorge Luis Borges\", \"Argentina\")\n",
    "autor2 = Autor(\"Gabriel García Márquez\", \"Colombia\")\n",
    "\n",
    "# Agregarlos a la biblioteca\n",
    "biblioteca.agregar_autor(autor1)\n",
    "biblioteca.agregar_autor(autor2)\n",
    "\n",
    "# Crear libros\n",
    "libro1 = Libro(\"Ficciones\", autor1, \"9780142437839\")\n",
    "libro2 = Libro(\"El Aleph\", autor1, \"9789871138032\")\n",
    "libro3 = Libro(\"Cien años de soledad\", autor2, \"9780307474728\")\n",
    "\n",
    "# Agregarlos a la biblioteca\n",
    "biblioteca.agregar_libro(libro1)\n",
    "biblioteca.agregar_libro(libro2)\n",
    "biblioteca.agregar_libro(libro3)\n",
    "\n",
    "# Mostrar libros\n",
    "print(\"Libros de Jorge Luis Borges:\")\n",
    "for libro in biblioteca.autores_por_nombre[\"Jorge Luis Borges\"].libros:\n",
    "    print(f\"- {libro.titulo}\")\n",
    "\n",
    "print(\"Libros de Gabriel García Marquez:\")\n",
    "for libro in biblioteca.autores_por_nombre[\"Gabriel García Márquez\"].libros:\n",
    "    print(f\"- {libro.titulo}\")\n",
    "\n",
    "\n",
    "\n",
    "\n",
    "\n",
    "\n"
   ]
  },
  {
   "cell_type": "markdown",
   "id": "9a6f35f8",
   "metadata": {},
   "source": [
    "- Con class autor definimos la clase autor, que representa a un escritor.\n",
    "- Después se guarda su nombre, nacionalidad, y una lista vacía libros que se llenará con objetos de tipo Libro. ç\n",
    "Utilizamos __init__ para definir la clase libro, que representa un libro. Tiene un título, un autor (referencia a un objeto de la clase Autor) y un ISBN, que es el código al cual va asociado ese libro.\n",
    "- Con class biblioteca creamos una clase Biblioteca que gestiona autores y libros.\n",
    "utiliamos self para clasificar libros_por_isbn, diccionario para buscar libros por su código único y autores_por_nombre, diccionario para acceder a autores por su nombre.\n",
    "- Métodos de la biblioteca: \n",
    ". Def agregar_autor(self, autor), self.autores_por_nombre[autor.nombre] = autor guarda un autor en el diccionario por su nombre.\n",
    ". Def agregar_libro(self, libro), self.libros_por_isbn[libro.isbn] = libro, libro.autor.libros.append(libro) guarda un libro por su ISBN y a lo vincula al autor correspondiente añadiéndolo a su lista de libros.\n",
    "- Con Biblioteca = Biblioteca() se crea una instancia de la biblioteca.\n",
    "- Con autor1 = Autor(\"Jorge Luis Borges\", \"Argentina\") y autor2 = Autor(\"Gabriel García Márquez\", \"Colombia\") se crean dos autores.\n",
    "- biblioteca.agregar_autor(autor1) y biblioteca.agregar_autor(autor2) agrega los autores al sistema de la biblioteca.\n",
    "-libro1 = Libro(\"Ficciones\", autor1, \"9780142437839\"), libro2 = Libro(\"El Aleph\", autor1, \"9789871138032\"),libro3 = Libro(\"Cien años de soledad\", autor2, \"9780307474728\"): se crean tres libros, cada uno asociado a su autor.\n",
    "- print(\"Libros de Jorge Luis Borges:\") for libro in biblioteca.autores_por_nombre[\"Jorge Luis Borges\"].libros: print(f\"- {libro.titulo}\") y lo mismo para el otro autor, busca al autor por nombre y sus libros y los muestra en pantalla.\n",
    "\n",
    "\n",
    "\n",
    "\n",
    "\n",
    "\n",
    "\n",
    "\n",
    "\n",
    "\n"
   ]
  }
 ],
 "metadata": {
  "kernelspec": {
   "display_name": "Python 3",
   "language": "python",
   "name": "python3"
  },
  "language_info": {
   "codemirror_mode": {
    "name": "ipython",
    "version": 3
   },
   "file_extension": ".py",
   "mimetype": "text/x-python",
   "name": "python",
   "nbconvert_exporter": "python",
   "pygments_lexer": "ipython3",
   "version": "3.13.5"
  }
 },
 "nbformat": 4,
 "nbformat_minor": 5
}
