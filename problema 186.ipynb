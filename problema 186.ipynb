{
 "cells": [
  {
   "cell_type": "code",
   "execution_count": null,
   "id": "f25bd8d8",
   "metadata": {},
   "outputs": [],
   "source": [
    "Escribir un programa que calcule el factorial de un número dado por el usuario"
   ]
  },
  {
   "cell_type": "markdown",
   "id": "4c24e35b",
   "metadata": {},
   "source": [
    "El factorial de un número entero positivo (n), denotado como (n!), es el producto de todos los números enteros positivos desde (1) hasta (n). Se define matemáticamente así:\n",
    "[ n! = n \\times (n-1) \\times (n-2) \\times \\dots \\times 2 \\times 1 ]\n",
    "Por ejemplo:\n",
    "- (5! = 5 \\times 4 \\times 3 \\times 2 \\times 1 = 120)\n",
    "- (3! = 3 \\times 2 \\times 1 = 6)\n",
    "- (1! = 1)\n",
    "- Por definición, (0! = 1\n"
   ]
  },
  {
   "cell_type": "markdown",
   "id": "b65ff3a3",
   "metadata": {},
   "source": [
    "La expresión (n!) (se lee como \"n factorial\") representa el producto de todos los números enteros positivos desde (n) hasta (1). Se construye multiplicando el número (n) por el siguiente número menor ((n-1)), luego por el siguiente menor ((n-2)) y así sucesivamente hasta llegar a (1).\n",
    "Por ejemplo, si tomamos (5!):\n",
    "[ 5! = 5 \\times 4 \\times 3 \\times 2 \\times 1 ]\n",
    "Calculamos paso a paso:\n",
    "- (5 \\times 4 = 20)\n",
    "- (20 \\times 3 = 60)\n",
    "- (60 \\times 2 = 120)\n",
    "- (120 \\times 1 = 120)\n",
    "Entonces, (5! = 120).\n",
    "El factorial crece rápidamente a medida que (n) aumenta. Por ejemplo:\n",
    "- (3! = 3 \\times 2 \\times 1 = 6)\n",
    "- (6! = 6 \\times 5 \\times 4 \\times 3 \\times 2 \\times 1 = 720)\n",
    "- (10! = 3,628,800) (¡un número muy grande!)\n"
   ]
  },
  {
   "cell_type": "markdown",
   "id": "b487b1b0",
   "metadata": {},
   "source": [
    "n Python, la notación matemática (n!) (factorial de (n)) no tiene un operador directo, pero se puede calcular utilizando la función math.factorial() o implementándolo manualmente con un bucle o recursión.\n",
    "Usando math.factorial()\n",
    "La forma más sencilla es utilizar la biblioteca math:\n"
   ]
  },
  {
   "cell_type": "code",
   "execution_count": 1,
   "id": "a6246d07",
   "metadata": {},
   "outputs": [
    {
     "name": "stdout",
     "output_type": "stream",
     "text": [
      "El factorial de 5 es 120\n"
     ]
    }
   ],
   "source": [
    "import math\n",
    "\n",
    "n = 5\n",
    "resultado = math.factorial(n)\n",
    "print(f\"El factorial de {n} es {resultado}\")\n"
   ]
  },
  {
   "cell_type": "markdown",
   "id": "943a3c69",
   "metadata": {},
   "source": [
    "Si quieres calcular el factorial sin usar math, puedes hacerlo con un bucle.\n"
   ]
  },
  {
   "cell_type": "code",
   "execution_count": 2,
   "id": "07bff663",
   "metadata": {},
   "outputs": [
    {
     "name": "stdout",
     "output_type": "stream",
     "text": [
      "El factorial de 5 es 120\n"
     ]
    }
   ],
   "source": [
    "def factorial_recursivo(n):\n",
    "    if n == 0 or n == 1:\n",
    "        return 1\n",
    "    else:\n",
    "        return n * factorial_recursivo(n - 1)\n",
    "\n",
    "n = 5\n",
    "print(f\"El factorial de {n} es {factorial_recursivo(n)}\")\n"
   ]
  },
  {
   "cell_type": "markdown",
   "id": "19949d6d",
   "metadata": {},
   "source": [
    "- {n} representa el número ingresado.\n",
    "- {factorial_recursivo(n)} llama a la función factorial_recursivo(n), que devuelve el resultado del cálculo del factorial de n.\n"
   ]
  },
  {
   "cell_type": "markdown",
   "id": "19a46d90",
   "metadata": {},
   "source": [
    " La multiplicación (5 \\times 4 = 20) significa que estamos sumando el número 5 cuatro veces:\n",
    "[ 5 + 5 + 5 + 5 = 20 ]\n",
    "Otra forma de verlo es que tenemos 5 grupos de 4 elementos, o 4 grupos de 5 elementos, lo que nos da un total de 20.\n",
    "Visualizando con objetos:\n",
    "- Si tienes 5 cajas y cada caja contiene 4 manzanas, entonces el total de manzanas sería (5 \\times 4 = 20).\n",
    "- Si tienes 4 bolsas y cada bolsa tiene 5 caramelos, el total de caramelos también sería (4 \\times 5 = 20).\n"
   ]
  },
  {
   "cell_type": "markdown",
   "id": "d00db503",
   "metadata": {},
   "source": [
    "Otra forma es con recursión:"
   ]
  },
  {
   "cell_type": "code",
   "execution_count": 3,
   "id": "ff38196f",
   "metadata": {},
   "outputs": [
    {
     "name": "stdout",
     "output_type": "stream",
     "text": [
      "El factorial de 5 es 120\n"
     ]
    }
   ],
   "source": [
    "def factorial_recursivo(n):\n",
    "    if n == 0 or n == 1:\n",
    "        return 1\n",
    "    else:\n",
    "        return n * factorial_recursivo(n - 1)\n",
    "\n",
    "n = 5\n",
    "print(f\"El factorial de {n} es {factorial_recursivo(n)}\")\n"
   ]
  },
  {
   "cell_type": "markdown",
   "id": "23f651c4",
   "metadata": {},
   "source": [
    "- En una función recursiva, es importante definir una condición de parada para evitar llamadas infinitas.\n",
    "- Aquí, si n es 0 o 1, la función simplemente devuelve 1, ya que matemáticamente: [ 0! = 1 ] [ 1! = 1 ]\n"
   ]
  },
  {
   "cell_type": "markdown",
   "id": "5618ca15",
   "metadata": {},
   "source": [
    "- Si n es mayor que 1, la función se llama a sí misma con el valor de n - 1.\n",
    "- El resultado se multiplica por n, lo que construye el factorial de forma progresiva.\n"
   ]
  }
 ],
 "metadata": {
  "kernelspec": {
   "display_name": "Python 3",
   "language": "python",
   "name": "python3"
  },
  "language_info": {
   "codemirror_mode": {
    "name": "ipython",
    "version": 3
   },
   "file_extension": ".py",
   "mimetype": "text/x-python",
   "name": "python",
   "nbconvert_exporter": "python",
   "pygments_lexer": "ipython3",
   "version": "3.13.2"
  }
 },
 "nbformat": 4,
 "nbformat_minor": 5
}
