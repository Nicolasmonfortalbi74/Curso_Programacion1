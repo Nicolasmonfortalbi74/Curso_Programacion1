{
 "cells": [
  {
   "cell_type": "code",
   "execution_count": null,
   "id": "390e4f19",
   "metadata": {},
   "outputs": [],
   "source": [
    "# Desafío 2: Ordenar el inventario de libros\n",
    "\n",
    "Como encargado de la biblioteca, necesitas organizar los libros de acuerdo con sus códigos de identificación en orden decreciente, \n",
    "sin modificar la lista original. Se recomienda usar la función sorted(). ¿Por qué es importante no modificar la lista original?\n",
    "¿Por qué no puedo usar el método sort sobre la lista original?"
   ]
  },
  {
   "cell_type": "code",
   "execution_count": null,
   "id": "d494ef64",
   "metadata": {},
   "outputs": [],
   "source": [
    "# Lista original de códigos de libros\n",
    "codigos = [102, 450, 233, 120, 600]\n",
    "\n",
    "# Creamos una nueva lista ordenada en orden decreciente\n",
    "ordenados = sorted(codigos, reverse=True)\n",
    "\n",
    "print(\"Lista original:\", codigos)\n",
    "print(\"Lista ordenada (decreciente):\", ordenados)\n"
   ]
  },
  {
   "cell_type": "markdown",
   "id": "7f4b6071",
   "metadata": {},
   "source": [
    "sorted(lista) 👉 crea una nueva lista ordenada, pero no cambia la original.\n",
    "Es ideal cuando querés conservar los datos originales sin alterarlos.\n",
    "\n",
    "lista.sort() 👉 modifica directamente la lista existente,\n",
    "es decir, cambia el orden dentro de la misma lista."
   ]
  },
  {
   "cell_type": "markdown",
   "id": "3129bd4e",
   "metadata": {},
   "source": [
    "# Desafío 3: Caracteres ASCII\n",
    "Eres un desarrollador creando una herramienta educativa que muestra los caracteres ASCII correspondientes a una lista de números. Se recomienda usar la función chr() para convertir los números en caracteres."
   ]
  },
  {
   "cell_type": "code",
   "execution_count": null,
   "id": "a39e89a0",
   "metadata": {},
   "outputs": [],
   "source": [
    "# Lista de números ASCII\n",
    "numeros = [65, 66, 67, 97, 98, 99, 33]\n",
    "\n",
    "# Convertimos cada número a su carácter ASCII\n",
    "caracteres = [chr(n) for n in numeros]\n",
    "\n",
    "# Mostramos el resultado\n",
    "print(\"Números ASCII:\", numeros)\n",
    "print(\"Caracteres correspondientes:\", caracteres)\n"
   ]
  },
  {
   "cell_type": "markdown",
   "id": "cc876f8d",
   "metadata": {},
   "source": [
    "chr(n) convierte un número (como 65) en su carácter ASCII (‘A’).\n",
    "\n",
    "[chr(n) for n in numeros] recorre la lista y convierte cada número en su símbolo.\n",
    "\n",
    "Así, 65 → A, 66 → B, 97 → a, etc."
   ]
  }
 ],
 "metadata": {
  "language_info": {
   "name": "python"
  }
 },
 "nbformat": 4,
 "nbformat_minor": 5
}
