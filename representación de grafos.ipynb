{
 "cells": [
  {
   "cell_type": "markdown",
   "id": "d77e1283",
   "metadata": {},
   "source": [
    "1. grafo.py — Clase Grafo\n",
    "\n",
    "En este archivo definimos una clase Grafo que puede ser dirigido (directed) o no dirigido (undirected), utilizando listas enlazadas para representar las adyacencias:"
   ]
  },
  {
   "cell_type": "code",
   "execution_count": null,
   "id": "82b16599",
   "metadata": {},
   "outputs": [],
   "source": [
    "# grafo.py\n",
    "\n",
    "class NodoAdy:\n",
    "    \"\"\"\n",
    "    Nodo para la lista enlazada de adyacencia:\n",
    "    almacena el destino y el siguiente nodo en la lista.\n",
    "    \"\"\"\n",
    "    def __init__(self, destino):\n",
    "        self.destino = destino\n",
    "        self.siguiente = None\n",
    "\n",
    "class Grafo:\n",
    "    def __init__(self, num_vertices, dirigido=False):\n",
    "        \"\"\"\n",
    "        Constructor:\n",
    "        - num_vertices: número de vértices del grafo.\n",
    "        - dirigido: True si es grafo dirigido; False si no dirigido.\n",
    "        \"\"\"\n",
    "        self.num_vertices = num_vertices\n",
    "        self.dirigido = dirigido\n",
    "        # Cada entrada será el inicio de una lista enlazada (o None si vacía)\n",
    "        self.adj = [None for _ in range(num_vertices)]\n",
    "\n",
    "    def agregar_arista(self, origen, destino):\n",
    "        \"\"\"\n",
    "        Añade una arista desde 'origen' hacia 'destino'.\n",
    "        Si el grafo no es dirigido, también agrega la arista inversa.\n",
    "        \"\"\"\n",
    "        # Insertar al inicio en la lista enlazada\n",
    "        nuevo = NodoAdy(destino)\n",
    "        nuevo.siguiente = self.adj[origen]\n",
    "        self.adj[origen] = nuevo\n",
    "\n",
    "        if not self.dirigido:\n",
    "            # Agregar la arista inversa\n",
    "            nuevo2 = NodoAdy(origen)\n",
    "            nuevo2.siguiente = self.adj[destino]\n",
    "            self.adj[destino] = nuevo2\n",
    "\n",
    "    def mostrar(self):\n",
    "        \"\"\"\n",
    "        Muestra el grafo imprimiendo para cada vértice su lista de adyacencias.\n",
    "        \"\"\"\n",
    "        for i in range(self.num_vertices):\n",
    "            print(f\"{i}:\", end=\" \")\n",
    "            temp = self.adj[i]\n",
    "            while temp:\n",
    "                print(f\"{temp.destino}\", end=\" -> \")\n",
    "                temp = temp.siguiente\n",
    "            print(\"None\")\n"
   ]
  },
  {
   "cell_type": "markdown",
   "id": "2cb3f60d",
   "metadata": {},
   "source": [
    "Explicación del diseño\n",
    "\n",
    "NodoAdy: representa un nodo en la lista enlazada, apuntando al vértice destino y al siguiente nodo.\n",
    "\n",
    "Grafo:\n",
    "\n",
    "Atributos:\n",
    "\n",
    "num_vertices: número total de vértices.\n",
    "\n",
    "dirigido: booleano para distinguir entre grafo dirigido o no dirigido.\n",
    "\n",
    "adj: lista de cabezas de listas enlazadas (inicialmente todas None).\n",
    "\n",
    "Métodos:\n",
    "\n",
    "__init__: constructor.\n",
    "\n",
    "agregar_arista: añade aristas considerando si es dirigido o no.\n",
    "\n",
    "mostrar: imprime las relaciones en formato legible."
   ]
  },
  {
   "cell_type": "markdown",
   "id": "9e216cdf",
   "metadata": {},
   "source": [
    "2. main.py — Archivo principal para instanciar y usar los grafos\n",
    "\n",
    "Aquí creamos instancias de grafos dirigidos y no dirigidos, agregamos algunas aristas, luego mostramos:"
   ]
  },
  {
   "cell_type": "code",
   "execution_count": null,
   "id": "6fa697ba",
   "metadata": {},
   "outputs": [],
   "source": [
    "# main.py\n",
    "\n",
    "from grafo import Grafo\n",
    "\n",
    "def main():\n",
    "    # Grafo no dirigido\n",
    "    print(\"Grafo No Dirigido\")\n",
    "    g1 = Grafo(num_vertices=4, dirigido=False)\n",
    "    g1.agregar_arista(0, 1)\n",
    "    g1.agregar_arista(0, 2)\n",
    "    g1.agregar_arista(1, 2)\n",
    "    g1.agregar_arista(2, 3)\n",
    "    g1.mostrar()\n",
    "    print()\n",
    "\n",
    "    # Grafo dirigido\n",
    "    print(\"Grafo Dirigido\")\n",
    "    g2 = Grafo(num_vertices=4, dirigido=True)\n",
    "    g2.agregar_arista(0, 1)\n",
    "    g2.agregar_arista(0, 2)\n",
    "    g2.agregar_arista(1, 2)\n",
    "    g2.agregar_arista(2, 0)\n",
    "    g2.mostrar()\n",
    "\n",
    "if __name__ == \"__main__\":\n",
    "    main()\n"
   ]
  },
  {
   "cell_type": "markdown",
   "id": "960f54d9",
   "metadata": {},
   "source": [
    "¿Qué hace este main.py?\n",
    "\n",
    "Importa la clase Grafo desde grafo.py.\n",
    "\n",
    "Crea un grafo no dirigido con 4 vértices y le agrega aristas.\n",
    "\n",
    "Muestra su estructura enlazada.\n",
    "\n",
    "Luego crea un grafo dirigido con otras aristas, lo muestra.\n",
    "\n",
    "Se ejecuta todo desde main() cuando corres el programa."
   ]
  },
  {
   "cell_type": "markdown",
   "id": "29ef3fa8",
   "metadata": {},
   "source": [
    "3. Ejemplo de salida esperada\n",
    "\n",
    "Cuando ejecutes python main.py, verás algo como esto:"
   ]
  },
  {
   "cell_type": "code",
   "execution_count": null,
   "id": "55caf235",
   "metadata": {},
   "outputs": [],
   "source": [
    "Grafo No Dirigido\n",
    "0: 2 -> 1 -> None\n",
    "1: 2 -> 0 -> None\n",
    "2: 3 -> 1 -> 0 -> None\n",
    "3: 2 -> None\n",
    "\n",
    "Grafo Dirigido\n",
    "0: 2 -> 1 -> None\n",
    "1: 2 -> None\n",
    "2: 0 -> None\n",
    "3: None\n"
   ]
  },
  {
   "cell_type": "markdown",
   "id": "640e13ef",
   "metadata": {},
   "source": [
    "4. Revisión del vínculo original\n",
    "\n",
    "El artículo de GeeksforGeeks sobre representaciones de grafos con listas de adyacencia menciona que:\n",
    "\n",
    "“An array of Lists is used to store edges … Each index ... has a linked list containing the vertices that are adjacent.” \n",
    "GeeksforGeeks\n",
    ".\n",
    "\n",
    "El ejemplo en Python que presentan usa listas dentro de listas (adj = [[] for _ in range(V)]), pero nuestra implementación avanzada usa listas enlazadas manuales (NodoAdy) para ilustrar esa estructura más explícita, alineada con la lógica del artículo"
   ]
  },
  {
   "cell_type": "markdown",
   "id": "45bb6431",
   "metadata": {},
   "source": [
    "5. Conclusión\n",
    "\n",
    "Existen dos archivos separados: grafo.py y main.py.\n",
    "\n",
    "Grafo encapsula la lógica y datos del grafo.\n",
    "\n",
    "main.py lo utiliza para construir y mostrar grafos dirigidos y no dirigidos.\n",
    "\n",
    "Usamos listas enlazadas para las adyacencias."
   ]
  }
 ],
 "metadata": {
  "language_info": {
   "name": "python"
  }
 },
 "nbformat": 4,
 "nbformat_minor": 5
}
