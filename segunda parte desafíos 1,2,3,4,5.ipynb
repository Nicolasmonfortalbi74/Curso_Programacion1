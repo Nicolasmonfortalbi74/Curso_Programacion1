{
 "cells": [
  {
   "cell_type": "markdown",
   "id": "ae15a4ee",
   "metadata": {},
   "source": [
    "Desafío 1: Saludo Personalizado\n",
    "Escriba un programa que pida al usuario su nombre y su ciudad de origen, luego imprima un saludo personalizado con esa información."
   ]
  },
  {
   "cell_type": "code",
   "execution_count": 18,
   "id": "3404c530",
   "metadata": {},
   "outputs": [
    {
     "name": "stdout",
     "output_type": "stream",
     "text": [
      "Mi nombre es Nicolas y soy de Jávea\n"
     ]
    }
   ],
   "source": [
    "nombre = \"Nicolas\"\n",
    "ciudad_de_origen = \"Jávea\"\n",
    "print (\"Mi nombre es {} y soy de {}\".format(nombre, ciudad_de_origen))"
   ]
  },
  {
   "cell_type": "code",
   "execution_count": 19,
   "id": "08ad4667",
   "metadata": {},
   "outputs": [
    {
     "name": "stdout",
     "output_type": "stream",
     "text": [
      "Mi nombre es Nicolas y soy de Jávea\n"
     ]
    }
   ],
   "source": [
    "nombre = \"Nicolas\"\n",
    "ciudad_de_origen = \"Jávea\"\n",
    "print (f\"Mi nombre es {nombre} y soy de {ciudad_de_origen}\")"
   ]
  },
  {
   "cell_type": "code",
   "execution_count": 2,
   "id": "1ec7d75e",
   "metadata": {},
   "outputs": [
    {
     "name": "stdout",
     "output_type": "stream",
     "text": [
      "Hola Trol, soy VSCode y te quiero mandar un saludo\n",
      "Debajo de un puente me encantaría pasar por tu ciudad de origen.\n"
     ]
    }
   ],
   "source": [
    "nombre = input(\"Escribe tu nombr: \")\n",
    "ciudad = input (\"De donde eres? \")\n",
    "print (f\"Hola {nombre}, soy VSCode y te quiero mandar un saludo\")\n",
    "print (f\"{ciudad} me encantaría pasar por tu ciudad de origen.\")"
   ]
  },
  {
   "cell_type": "markdown",
   "id": "d5ebad2b",
   "metadata": {},
   "source": [
    "Desafío 2: Calculadora Simple\n",
    "Escriba un programa que pida al usuario que ingrese dos números y luego imprima la suma, la resta, la multiplicación y la división de esos números."
   ]
  },
  {
   "cell_type": "code",
   "execution_count": 1,
   "id": "59712aaa",
   "metadata": {},
   "outputs": [
    {
     "name": "stdout",
     "output_type": "stream",
     "text": [
      "suma: 12.0\n",
      "resta: 8.0\n",
      "multiplicación: 20.0\n",
      "división: 5.0\n"
     ]
    }
   ],
   "source": [
    "#Solicitar al usuario que ingrese dos números\n",
    "\n",
    "num1 = float(input(\"Ingrese el primer número: \"))\n",
    "num2 = float(input(\"Ingrese el segundo número: \"))\n",
    "\n",
    "#Realizar operaciones matemáticas\n",
    "\n",
    "suma= num1 + num2\n",
    "resta = num1 - num2\n",
    "multiplicacion = num1 * num2\n",
    "division = num1 / num2\n",
    "\n",
    "#Imprimir los resultados\n",
    "\n",
    "print (f\"suma: {suma}\")\n",
    "print (f\"resta: {resta}\")\n",
    "print (f\"multiplicación: {multiplicacion}\")\n",
    "print (f\"división: {division}\")"
   ]
  },
  {
   "cell_type": "markdown",
   "id": "768bdf65",
   "metadata": {},
   "source": [
    "Desafío 3: Formateo de Factura\n",
    "Escriba un programa que pueda tomar los detalles de los productos (nombre, cantidad, precio) y produzca una factura bien formateada."
   ]
  },
  {
   "cell_type": "code",
   "execution_count": null,
   "id": "f36ad808",
   "metadata": {},
   "outputs": [
    {
     "ename": "SyntaxError",
     "evalue": "'return' outside function (4115678365.py, line 22)",
     "output_type": "error",
     "traceback": [
      "  \u001b[36mCell\u001b[39m\u001b[36m \u001b[39m\u001b[32mIn[17]\u001b[39m\u001b[32m, line 22\u001b[39m\n\u001b[31m    \u001b[39m\u001b[31mreturn\u001b[39m\n    ^\n\u001b[31mSyntaxError\u001b[39m\u001b[31m:\u001b[39m 'return' outside function\n"
     ]
    }
   ],
   "source": [
    "def generar_factura ():\n",
    "    print(\"=== Sistema de Facturación ===\")\n",
    "    productos = []\n",
    "    while True:\n",
    "        nombre = input (\"Ingrese el nombre del producto (o 'fin' para terminar): \")\n",
    "        if nombre.lower == 'fin':\n",
    "            break\n",
    "        try:\n",
    "            cantidad = int (input (\"Ingrese la cantidad: \"))\n",
    "            precio = float(input(\"Ingrese el precio unitario: \"))\n",
    "        except ValueError:\n",
    "            print (\"Cantidad o precio inválidos. Intente nuevamente.\")\n",
    "            continue\n",
    "    productos.append({\n",
    "        'nombre': nombre,\n",
    "        'cantidad': cantidad,\n",
    "        'precio': precio,\n",
    "        'total' : cantidad * precio\n",
    "    })\n",
    "if not prouctos:\n",
    "    print (\"no se ingresaron productos.\")\n",
    "    return\n",
    "\n",
    "\n",
    "print (\"\\n========== FACTURA ==========\")\n",
    "print (\"{:<20} {:>10} {:>15} {:>15}\".format (\"Producto\", \"Cantidad\", \"Precio Unit.\", \"Total\"))\n",
    "print (\"=\" * 60)\n",
    "total_general = 0\n",
    "for p in productos:\n",
    "    print (\"{:<20} {:>10} {:>15} {:>15.2f}\").format(\"TOTAL\", \"\", \"\",total_general)\n",
    "    print (\"==============================\")\n",
    "    \n",
    "generar_factura()"
   ]
  },
  {
   "cell_type": "markdown",
   "id": "266d4f06",
   "metadata": {},
   "source": [
    "He buscado una forma de hacer la factura en chatgpt y la he copiado a mano y he tenido varios errores. El primero de ellos en la linea uno al escribir generar factura en lugar de generar_factura.\n",
    "El segundo al no poner el paréntesis en la línea 30 con los 30 símbolos de igual.\n",
    "El tercerro error de sintaxis \"return outside function.\n",
    "Lo he mirado varias veces y no sé que es lo que está mal así que voy a intentar otro modo."
   ]
  },
  {
   "cell_type": "markdown",
   "id": "4da8f29c",
   "metadata": {},
   "source": [
    "En esta ocasión pergunto a gemini y me ofrece una alternativa importando \"datetime\". Se refiere a la fecha con hora, minuto, segundo y microsegundo.\n",
    "Utilizaré la función int que se utiliza para convertir un valor a un número entero, redondeando los decimales."
   ]
  },
  {
   "cell_type": "code",
   "execution_count": null,
   "id": "d9897c8a",
   "metadata": {},
   "outputs": [
    {
     "name": "stdout",
     "output_type": "stream",
     "text": [
      "La factura está vacía. Agregue productos primero.\n",
      "\n",
      "La factura está vacía. Agregue productos primero.\n",
      "\n",
      "La factura está vacía. Agregue productos primero.\n",
      "\n",
      "Opción no válida. Por favor, ingrese 'agregar', 'ver'o 'salir' .\n",
      "\n",
      "Gracias por usar el generador de facturas.\n"
     ]
    }
   ],
   "source": [
    "from datetime import datetime\n",
    "\n",
    "def agregar_producto(productos) :\n",
    "    nombre = input (\"Ingrese el nombre del producto: \")\n",
    "    while True:\n",
    "        try:\n",
    "            cantidad = int(input(f\"Ingrese la cantidad de '{nombre}': \"))\n",
    "            if cantidad > 0:\n",
    "                break\n",
    "            else:\n",
    "                print (\"La cantidad debe ser mayor que cero.\")\n",
    "        except ValueError:\n",
    "            print(\"Por favor, ingrese un número entero para la cantidad.\")\n",
    "    while True:\n",
    "        try:\n",
    "            precio = float(input(f\"Ingrese el precio unitario de '{nombre}': \"))\n",
    "            if precio >= 0:\n",
    "                break\n",
    "            else:\n",
    "                print (\"El precio no puede ser negativo.\")\n",
    "        except ValueError:\n",
    "            print(\"Por favor, ingrese un número válido para el precio.\")\n",
    "        productos.append({\"nombre\": nombre, \"cantidad\": cantidad, \"precio\": precio})\n",
    "        print (f\"'{nombre}' agregado a la factura.\\n\")\n",
    "\n",
    "def generar_factura(productos):\n",
    "    ahora = datetime.now()\n",
    "    fecha_hora = ahora.strftime (\"%d/%m/%Y, %H:%M:%S\")\n",
    "    \n",
    "    print (\"\\n\" + \"=\" * 40)\n",
    "    print(f\"{'FACTURA' : ^40}\")\n",
    "    print (\"=\" * 40)\n",
    "    print (f\"{'Fecha/Hora: ' : <20} {fecha_hora:>20}\")\n",
    "    print (\"-\" * 40)\n",
    "    print (f\"{'Producto': <20} {'Cant. ':>6} {'Precio':>10} {'Subtotal': >10}\")\n",
    "    print (\"-\" * 40)\n",
    "    \n",
    "    for producto in productos:\n",
    "        nombre = producto[\"nombre\"]\n",
    "        cantidad = producto[\"cantidad\"]\n",
    "        precio = producto[\"precio\"]\n",
    "        subtotal = cantidad * precio\n",
    "        print(f\"{nombre:<20} {cantidad:>6} {precio:>10.2f} {subtotal:>10.2f}\")\n",
    "        \n",
    "    print(\"-\" * 40)\n",
    "    total = calcular_total(productos)\n",
    "    print(f\"{'TOTAL:':>30} {total:10.2f}\")\n",
    "    print(\"=\" * 40 + \"\\n\")\n",
    "\n",
    "def main ():\n",
    "    productos = []\n",
    "    while True:\n",
    "        opcion = input (\"¿Qué desea hacer? (agregar/ver/salir): \").lower()\n",
    "        if opcion == \"agregar\":\n",
    "            agregar_producto(productos)\n",
    "        elif opcion == \"ver\":\n",
    "            if productos:\n",
    "                generar_factura(productos)\n",
    "            else:\n",
    "                print(\"La factura está vacía. Agregue productos primero.\\n\")\n",
    "        elif opcion == \"salir\":\n",
    "            if productos:\n",
    "                generar_factura(productos)\n",
    "            print(\"Gracias por usar el generador de facturas.\")\n",
    "            break\n",
    "        else:\n",
    "            print (\"Opción no válida. Por favor, ingrese 'agregar', 'ver'o 'salir' .\\n\")\n",
    "if __name__ == \"__main__\":\n",
    "    main()"
   ]
  },
  {
   "cell_type": "markdown",
   "id": "4f68ed11",
   "metadata": {},
   "source": [
    "Por fín terminé de copiar el código, he corregio varios errores de escritura y ahora mismo lleva más de un minuto pensando sin decir nada. Voy a reiniciar. \n",
    "No era necesario. Me pregunta que desea hacer, agregar, ver o salir tal como le indicamos. \n",
    "Voy a probarla opció agregar.\n",
    "El programa funciona, sin embargo por más que agregue el número y el precio de de los productos me dice que la factura está vacía. Termino por salir y me dice Gracias por usar el generador de facturas. \n",
    "Voy a probar de copiar y pegar el programa directamente a ver si genera la factura."
   ]
  },
  {
   "cell_type": "code",
   "execution_count": null,
   "id": "782039db",
   "metadata": {},
   "outputs": [],
   "source": []
  },
  {
   "cell_type": "code",
   "execution_count": null,
   "id": "f2fd25bc",
   "metadata": {},
   "outputs": [],
   "source": []
  },
  {
   "cell_type": "code",
   "execution_count": null,
   "id": "4ef88528",
   "metadata": {},
   "outputs": [
    {
     "name": "stdout",
     "output_type": "stream",
     "text": [
      "'Helados Monfort' agregado a la factura.\n",
      "\n",
      "'Alfajores Rostan' agregado a la factura.\n",
      "\n",
      "'Dulce de leche Monfort Rostan' agregado a la factura.\n",
      "\n",
      "\n",
      "========================================\n",
      "                FACTURA                 \n",
      "========================================\n",
      "Fecha/Hora:           30/04/2025 23:36:18\n",
      "----------------------------------------\n",
      "Producto              Cant.     Precio   Subtotal\n",
      "----------------------------------------\n",
      "Helados Monfort          30      60.00    1800.00\n",
      "Alfajores Rostan         40      45.00    1800.00\n",
      "Dulce de leche Monfort Rostan    120     150.00   18000.00\n",
      "----------------------------------------\n",
      "                        TOTAL:   21600.00\n",
      "========================================\n",
      "\n",
      "'Helados Monfort Rostan' agregado a la factura.\n",
      "\n",
      "\n",
      "========================================\n",
      "                FACTURA                 \n",
      "========================================\n",
      "Fecha/Hora:           30/04/2025 23:37:49\n",
      "----------------------------------------\n",
      "Producto              Cant.     Precio   Subtotal\n",
      "----------------------------------------\n",
      "Helados Monfort          30      60.00    1800.00\n",
      "Alfajores Rostan         40      45.00    1800.00\n",
      "Dulce de leche Monfort Rostan    120     150.00   18000.00\n",
      "Helados Monfort Rostan     24      42.00    1008.00\n",
      "----------------------------------------\n",
      "                        TOTAL:   22608.00\n",
      "========================================\n",
      "\n"
     ]
    }
   ],
   "source": [
    "from datetime import datetime\n",
    "\n",
    "def agregar_producto(productos):\n",
    "    nombre = input(\"Ingrese el nombre del producto: \")\n",
    "    while True:\n",
    "        try:\n",
    "            cantidad = int(input(f\"Ingrese la cantidad de '{nombre}': \"))\n",
    "            if cantidad > 0:\n",
    "                break\n",
    "            else:\n",
    "                print(\"La cantidad debe ser mayor que cero.\")\n",
    "        except ValueError:\n",
    "            print(\"Por favor, ingrese un número entero para la cantidad.\")\n",
    "    while True:\n",
    "        try:\n",
    "            precio = float(input(f\"Ingrese el precio unitario de '{nombre}': \"))\n",
    "            if precio >= 0:\n",
    "                break\n",
    "            else:\n",
    "                print(\"El precio no puede ser negativo.\")\n",
    "        except ValueError:\n",
    "            print(\"Por favor, ingrese un número válido para el precio.\")\n",
    "    productos.append({\"nombre\": nombre, \"cantidad\": cantidad, \"precio\": precio})\n",
    "    print(f\"'{nombre}' agregado a la factura.\\n\")\n",
    "\n",
    "def calcular_total(productos):\n",
    "    total = 0\n",
    "    for producto in productos:\n",
    "        total += producto[\"cantidad\"] * producto[\"precio\"]\n",
    "    return total\n",
    "\n",
    "def generar_factura(productos):\n",
    "    ahora = datetime.now()\n",
    "    fecha_hora = ahora.strftime(\"%d/%m/%Y %H:%M:%S\")\n",
    "\n",
    "    print(\"\\n\" + \"=\" * 40)\n",
    "    print(f\"{'FACTURA':^40}\")\n",
    "    print(\"=\" * 40)\n",
    "    print(f\"{'Fecha/Hora:':<20} {fecha_hora:>20}\")\n",
    "    print(\"-\" * 40)\n",
    "    print(f\"{'Producto':<20} {'Cant.':>6} {'Precio':>10} {'Subtotal':>10}\")\n",
    "    print(\"-\" * 40)\n",
    "\n",
    "    for producto in productos:\n",
    "        nombre = producto[\"nombre\"]\n",
    "        cantidad = producto[\"cantidad\"]\n",
    "        precio = producto[\"precio\"]\n",
    "        subtotal = cantidad * precio\n",
    "        print(f\"{nombre:<20} {cantidad:>6} {precio:>10.2f} {subtotal:>10.2f}\")\n",
    "\n",
    "    print(\"-\" * 40)\n",
    "    total = calcular_total(productos)\n",
    "    print(f\"{'TOTAL:':>30} {total:>10.2f}\")\n",
    "    print(\"=\" * 40 + \"\\n\")\n",
    "\n",
    "def main():\n",
    "    productos = []\n",
    "    while True:\n",
    "        opcion = input(\"¿Qué desea hacer? (agregar/ver/salir): \").lower()\n",
    "        if opcion == \"agregar\":\n",
    "            agregar_producto(productos)\n",
    "        elif opcion == \"ver\":\n",
    "            if productos:\n",
    "                generar_factura(productos)\n",
    "            else:\n",
    "                print(\"La factura está vacía. Agregue productos primero.\\n\")\n",
    "        elif opcion == \"salir\":\n",
    "            if productos:\n",
    "                generar_factura(productos)\n",
    "            print(\"Gracias por usar el generador de facturas.\")\n",
    "            break\n",
    "        else:\n",
    "            print(\"Opción no válida. Por favor, ingrese 'agregar', 'ver' o 'salir'.\\n\")\n",
    "\n",
    "if __name__ == \"__main__\":\n",
    "    main()"
   ]
  },
  {
   "cell_type": "markdown",
   "id": "52e85457",
   "metadata": {},
   "source": [
    "Algo copié mal por qué ahora funciona distinto. Ahora hay que ver qué es."
   ]
  }
 ],
 "metadata": {
  "kernelspec": {
   "display_name": ".venv",
   "language": "python",
   "name": "python3"
  },
  "language_info": {
   "codemirror_mode": {
    "name": "ipython",
    "version": 3
   },
   "file_extension": ".py",
   "mimetype": "text/x-python",
   "name": "python",
   "nbconvert_exporter": "python",
   "pygments_lexer": "ipython3",
   "version": "3.13.2"
  }
 },
 "nbformat": 4,
 "nbformat_minor": 5
}
