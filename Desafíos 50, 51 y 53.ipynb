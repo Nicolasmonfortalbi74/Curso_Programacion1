{
 "cells": [
  {
   "cell_type": "markdown",
   "id": "add679d5",
   "metadata": {},
   "source": [
    "### Desafío 3\n",
    "\n",
    "Considera cómo podrías implementar una biblioteca que almacene múltiples autores y libros. ¿Qué estructuras de datos usarías?"
   ]
  },
  {
   "cell_type": "markdown",
   "id": "6e83f6e1",
   "metadata": {},
   "source": [
    "Diccionarios (dict):\n",
    "\n",
    "Para acceder rápidamente a autores o libros por un identificador único (como nombre o ISBN)."
   ]
  },
  {
   "cell_type": "code",
   "execution_count": null,
   "id": "6b318936",
   "metadata": {},
   "outputs": [],
   "source": [
    "autores = {\n",
    "    \"J.K. Rowling\": {\"fecha_nacimiento\": \"1965-07-31\", \"libros\": [\"Harry Potter 1\", \"Harry Potter 2\"]},\n",
    "    \"George Orwell\": {\"fecha_nacimiento\": \"1903-06-25\", \"libros\": [\"1984\", \"Rebelión en la granja\"]}\n",
    "}\n",
    "\n",
    "libros = {\n",
    "    \"Harry Potter 1\": {\"anio\": 1997, \"autor\": \"J.K. Rowling\", \"disponible\": True},\n",
    "    \"1984\": {\"anio\": 1949, \"autor\": \"George Orwell\", \"disponible\": False}\n",
    "}\n"
   ]
  },
  {
   "cell_type": "markdown",
   "id": "ecedf22b",
   "metadata": {},
   "source": [
    "Listas (list):\n",
    "\n",
    "Para almacenar múltiples libros de un autor o múltiples autores de un libro si hay colaboraciones.\n",
    "\n",
    "Ejemplo: \"libros\": [\"Libro1\", \"Libro2\"].\n",
    "\n",
    "Clases (OOP):\n",
    "\n",
    "Para manejar objetos más complejos y métodos asociados (como prestar un libro o agregar un autor)."
   ]
  },
  {
   "cell_type": "code",
   "execution_count": null,
   "id": "d3da8f67",
   "metadata": {},
   "outputs": [],
   "source": [
    "class Autor:\n",
    "    def __init__(self, nombre, fecha_nacimiento):\n",
    "        self.nombre = nombre\n",
    "        self.fecha_nacimiento = fecha_nacimiento\n",
    "        self.libros = []\n",
    "\n",
    "    def agregar_libro(self, libro):\n",
    "        self.libros.append(libro)\n",
    "\n",
    "class Libro:\n",
    "    def __init__(self, titulo, anio, autor):\n",
    "        self.titulo = titulo\n",
    "        self.anio = anio\n",
    "        self.autor = autor\n",
    "        self.disponible = True\n"
   ]
  },
  {
   "cell_type": "markdown",
   "id": "609d3b1a",
   "metadata": {},
   "source": [
    "Ventajas de estas estructuras:\n",
    "\n",
    "Diccionarios → acceso rápido por clave (nombre o ISBN).\n",
    "\n",
    "Listas → permiten manejar múltiples elementos relacionados.\n",
    "\n",
    "Clases → encapsulan datos y comportamientos, haciendo el sistema más limpio y mantenible.\n",
    "\n",
    "Conclusión:\n",
    "Para una biblioteca con autores y libros:\n",
    "\n",
    "Usa diccionarios para búsquedas rápidas.\n",
    "\n",
    "Usa listas para manejar colecciones de libros o autores.\n",
    "\n",
    "Usa clases si quieres que los objetos tengan métodos propios y relaciones claras."
   ]
  },
  {
   "cell_type": "markdown",
   "id": "16eeae0a",
   "metadata": {},
   "source": [
    "### Desafío 4\n",
    "\n",
    "Piensa en otros atributos y métodos que podrías agregar a la clase `Autor` para hacerla más completa."
   ]
  },
  {
   "cell_type": "code",
   "execution_count": null,
   "id": "c18a501a",
   "metadata": {},
   "outputs": [],
   "source": [
    "class Autor:\n",
    "    def __init__(self, nombre, fecha_nacimiento, nacionalidad, genero_literario):\n",
    "        self.nombre = nombre\n",
    "        self.fecha_nacimiento = fecha_nacimiento\n",
    "        self.nacionalidad = nacionalidad\n",
    "        self.genero_literario = genero_literario\n",
    "        self.libros = []\n",
    "        self.premios = []\n",
    "\n",
    "    def agregar_libro(self, libro):\n",
    "        self.libros.append(libro)\n",
    "\n",
    "    def listar_libros(self):\n",
    "        return self.libros\n",
    "\n",
    "    def contar_libros(self):\n",
    "        return len(self.libros)\n",
    "\n",
    "    def agregar_premio(self, premio):\n",
    "        self.premios.append(premio)\n",
    "\n",
    "    def mostrar_info(self):\n",
    "        info = f\"Nombre: {self.nombre}\\n\"\n",
    "        info += f\"Nacionalidad: {self.nacionalidad}\\n\"\n",
    "        info += f\"Fecha de nacimiento: {self.fecha_nacimiento}\\n\"\n",
    "        info += f\"Género literario: {self.genero_literario}\\n\"\n",
    "        info += f\"Libros: {', '.join(self.libros)}\\n\"\n",
    "        info += f\"Premios: {', '.join(self.premios) if self.premios else 'Ninguno'}\"\n",
    "        return info\n",
    "\n",
    "# Ejemplo de uso\n",
    "autor = Autor(\"J.K. Rowling\", \"1965-07-31\", \"Británica\", \"Fantasía\")\n",
    "autor.agregar_libro(\"Harry Potter y la piedra filosofal\")\n",
    "autor.agregar_premio(\"Premio Hugo\")\n",
    "print(autor.mostrar_info())\n"
   ]
  },
  {
   "cell_type": "markdown",
   "id": "234b38a4",
   "metadata": {},
   "source": [
    "Clase Autor:\n",
    "Define un “molde” para crear objetos autor, con atributos como nombre, fecha_nacimiento, nacionalidad, genero_literario, y listas para libros y premios.\n",
    "\n",
    "Método agregar_libro(libro):\n",
    "Añade un libro a la lista de libros del autor.\n",
    "\n",
    "Método listar_libros():\n",
    "Devuelve todos los libros que tiene el autor.\n",
    "\n",
    "Método contar_libros():\n",
    "Devuelve la cantidad de libros que tiene.\n",
    "\n",
    "Método agregar_premio(premio):\n",
    "Añade un premio a la lista de premios del autor.\n",
    "\n",
    "Método mostrar_info():\n",
    "Crea y devuelve un texto con toda la información del autor, incluyendo libros y premios.\n",
    "\n",
    "Ejemplo de uso:\n",
    "\n",
    "Se crea un autor (autor = Autor(...))\n",
    "\n",
    "Se le agrega un libro y un premio\n",
    "\n",
    "Se imprime toda su información con mostrar_info()"
   ]
  },
  {
   "cell_type": "markdown",
   "id": "bb87606d",
   "metadata": {},
   "source": [
    "### Desafío 5\n",
    "\n",
    "Reflexiona sobre cómo podrías implementar una función de búsqueda para encontrar un libro específico o autor en una biblioteca."
   ]
  },
  {
   "cell_type": "code",
   "execution_count": null,
   "id": "cb8d3b48",
   "metadata": {},
   "outputs": [],
   "source": [
    "# Supongamos que tenemos listas de libros y autores\n",
    "libros = [\n",
    "    {\"titulo\": \"1984\", \"autor\": \"George Orwell\"},\n",
    "    {\"titulo\": \"Harry Potter y la piedra filosofal\", \"autor\": \"J.K. Rowling\"}\n",
    "]\n",
    "\n",
    "autores = [\n",
    "    {\"nombre\": \"George Orwell\", \"libros\": [\"1984\", \"Rebelión en la granja\"]},\n",
    "    {\"nombre\": \"J.K. Rowling\", \"libros\": [\"Harry Potter y la piedra filosofal\"]}\n",
    "]\n",
    "\n",
    "# Función para buscar un libro por título\n",
    "def buscar_libro(titulo):\n",
    "    for libro in libros:\n",
    "        if libro[\"titulo\"].lower() == titulo.lower():\n",
    "            return libro\n",
    "    return None\n",
    "\n",
    "# Función para buscar un autor por nombre\n",
    "def buscar_autor(nombre):\n",
    "    for autor in autores:\n",
    "        if autor[\"nombre\"].lower() == nombre.lower():\n",
    "            return autor\n",
    "    return None\n",
    "\n",
    "# Ejemplo de uso\n",
    "print(buscar_libro(\"1984\"))\n",
    "print(buscar_autor(\"J.K. Rowling\"))\n"
   ]
  },
  {
   "cell_type": "markdown",
   "id": "ea35715e",
   "metadata": {},
   "source": [
    "for libro in libros → recorre todos los libros.\n",
    "\n",
    "if libro[\"titulo\"].lower() == titulo.lower() → compara ignorando mayúsculas/minúsculas.\n",
    "\n",
    "Devuelve el libro o autor encontrado, o None si no existe."
   ]
  }
 ],
 "metadata": {
  "language_info": {
   "name": "python"
  }
 },
 "nbformat": 4,
 "nbformat_minor": 5
}
