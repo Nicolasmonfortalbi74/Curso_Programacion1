{
 "cells": [
  {
   "cell_type": "code",
   "execution_count": 10,
   "id": "b0af28d6",
   "metadata": {},
   "outputs": [
    {
     "ename": "SyntaxError",
     "evalue": "invalid syntax (2544766114.py, line 2)",
     "output_type": "error",
     "traceback": [
      "  \u001b[36mCell\u001b[39m\u001b[36m \u001b[39m\u001b[32mIn[10]\u001b[39m\u001b[32m, line 2\u001b[39m\n\u001b[31m    \u001b[39m\u001b[31mSolicita al usuario dos números enteros e implementa un try-except que maneje la división por cero y los valores no numéricos.\u001b[39m\n             ^\n\u001b[31mSyntaxError\u001b[39m\u001b[31m:\u001b[39m invalid syntax\n"
     ]
    }
   ],
   "source": [
    "### Desafío 67: \n",
    "Solicita al usuario dos números enteros e implementa un try-except que maneje la división por cero y los valores no numéricos. \n",
    "Muestra mensajes de error apropiados en cada caso."
   ]
  },
  {
   "cell_type": "code",
   "execution_count": 11,
   "id": "a58e7164",
   "metadata": {},
   "outputs": [
    {
     "name": "stdout",
     "output_type": "stream",
     "text": [
      "❌ Error: Debes ingresar valores numéricos enteros.\n"
     ]
    }
   ],
   "source": [
    "try:\n",
    "    # Solicita los dos números al usuario\n",
    "    num1 = int(input(\"Ingresa el primer número entero: \"))\n",
    "    num2 = int(input(\"Ingresa el segundo número entero: \"))\n",
    "\n",
    "    # Intenta realizar la división\n",
    "    resultado = num1 / num2\n",
    "    print(f\"El resultado de dividir {num1} entre {num2} es: {resultado}\")\n",
    "\n",
    "except ZeroDivisionError:\n",
    "    print(\"❌ Error: No se puede dividir entre cero.\")\n",
    "\n",
    "except ValueError:\n",
    "    print(\"❌ Error: Debes ingresar valores numéricos enteros.\")\n",
    "\n",
    "except Exception as e:\n",
    "    print(f\"❌ Ocurrió un error inesperado: {e}\")"
   ]
  },
  {
   "cell_type": "markdown",
   "id": "58eaf873",
   "metadata": {},
   "source": [
    "### Desafío 68: \n",
    "Crea un programa que tome una lista de valores y realice operaciones matemáticas sobre ellos. Implementa el manejo de varias excepciones comunes como ZeroDivisionError, TypeError, y ValueError."
   ]
  },
  {
   "cell_type": "code",
   "execution_count": 15,
   "id": "dbfcc580",
   "metadata": {},
   "outputs": [
    {
     "name": "stdout",
     "output_type": "stream",
     "text": [
      "❌ Error: La lista contiene valores no numéricos.\n"
     ]
    }
   ],
   "source": [
    "def operaciones_matematicas(lista):\n",
    "    try:\n",
    "        # Verifica que todos los elementos sean numéricos\n",
    "        lista_numerica = [float(x) for x in lista]\n",
    "\n",
    "        # Suma total\n",
    "        suma = sum(lista_numerica)\n",
    "        print(f\"✅ Suma de los valores: {suma}\")\n",
    "\n",
    "        # Promedio\n",
    "        promedio = suma / len(lista_numerica)\n",
    "        print(f\"✅ Promedio: {promedio}\")\n",
    "\n",
    "        # División del primer elemento por el último\n",
    "        division = lista_numerica[0] / lista_numerica[-1]\n",
    "        print(f\"✅ División del primero entre el último: {division}\")\n",
    "\n",
    "    except ZeroDivisionError:\n",
    "        print(\"❌ Error: División por cero. El último elemento no puede ser cero.\")\n",
    "\n",
    "    except ValueError:\n",
    "        print(\"❌ Error: La lista contiene valores no numéricos.\")\n",
    "\n",
    "    except TypeError:\n",
    "        print(\"❌ Error: Tipo de dato no válido en la lista.\")\n",
    "\n",
    "    except Exception as e:\n",
    "        print(f\"❌ Error inesperado: {e}\")\n",
    "\n",
    "# Ejemplo de uso\n",
    "valores = input(\"Ingresa una lista de valores separados por coma: \").split(\",\")\n",
    "operaciones_matematicas(valores)"
   ]
  },
  {
   "cell_type": "markdown",
   "id": "5fc3f89a",
   "metadata": {},
   "source": [
    "### Desafío 69: \n",
    "Escribe una función que calcule el factorial de un número entero positivo. Maneja las excepciones si el número ingresado es negativo, no es entero, o es demasiado grande para ser procesado."
   ]
  },
  {
   "cell_type": "code",
   "execution_count": 2,
   "id": "3c775ad6",
   "metadata": {},
   "outputs": [
    {
     "name": "stdout",
     "output_type": "stream",
     "text": [
      "❌ Error de desbordamiento: El número es demasiado grande para calcular su factorial.\n"
     ]
    }
   ],
   "source": [
    "import math\n",
    "\n",
    "def calcular_factorial(numero):\n",
    "    try:\n",
    "        # Verifica si es entero\n",
    "        if not isinstance(numero, int):\n",
    "            raise ValueError(\"El número debe ser un entero.\")\n",
    "\n",
    "        # Verifica si es positivo\n",
    "        if numero < 0:\n",
    "            raise ValueError(\"El número debe ser positivo.\")\n",
    "\n",
    "        # Verifica si es demasiado grande\n",
    "        if numero > 10000:\n",
    "            raise OverflowError(\"El número es demasiado grande para calcular su factorial.\")\n",
    "\n",
    "        resultado = math.factorial(numero)\n",
    "        print(f\"✅ El factorial de {numero} es: {resultado}\")\n",
    "\n",
    "    except ValueError as ve:\n",
    "        print(f\"❌ Valor inválido: {ve}\")\n",
    "\n",
    "    except OverflowError as oe:\n",
    "        print(f\"❌ Error de desbordamiento: {oe}\")\n",
    "\n",
    "    except Exception as e:\n",
    "        print(f\"❌ Error inesperado: {e}\")\n",
    "\n",
    "# Ejemplo de uso\n",
    "try:\n",
    "    entrada = input(\"Ingresa un número entero positivo: \")\n",
    "    numero = int(entrada)\n",
    "    calcular_factorial(numero)\n",
    "except ValueError:\n",
    "    print(\"❌ Error: La entrada debe ser un número entero.\")"
   ]
  },
  {
   "cell_type": "markdown",
   "id": "c1d7322f",
   "metadata": {},
   "source": [
    "### Desafío 70: \n",
    "Crea una excepción personalizada llamada NegativeNumberError que se dispare si el usuario intenta ingresar un número negativo en un programa de cálculo de raíces cuadradas. Implementa el manejo de esta excepción en el programa."
   ]
  },
  {
   "cell_type": "code",
   "execution_count": 4,
   "id": "21683581",
   "metadata": {},
   "outputs": [
    {
     "name": "stdout",
     "output_type": "stream",
     "text": [
      "❌ Error personalizado: No se puede calcular la raíz cuadrada de un número negativo.\n"
     ]
    }
   ],
   "source": [
    "import math\n",
    "\n",
    "# Definición de la excepción personalizada\n",
    "class NegativeNumberError(Exception):\n",
    "    def __init__(self, mensaje=\"No se puede calcular la raíz cuadrada de un número negativo.\"):\n",
    "        super().__init__(mensaje)\n",
    "\n",
    "# Función para calcular la raíz cuadrada\n",
    "def calcular_raiz_cuadrada(numero):\n",
    "    try:\n",
    "        # Verifica si el número es negativo\n",
    "        if numero < 0:\n",
    "            raise NegativeNumberError()\n",
    "\n",
    "        raiz = math.sqrt(numero)\n",
    "        print(f\"✅ La raíz cuadrada de {numero} es: {raiz}\")\n",
    "\n",
    "    except NegativeNumberError as nne:\n",
    "        print(f\"❌ Error personalizado: {nne}\")\n",
    "\n",
    "    except TypeError:\n",
    "        print(\"❌ Error: El valor ingresado no es un número válido.\")\n",
    "\n",
    "    except Exception as e:\n",
    "        print(f\"❌ Error inesperado: {e}\")\n",
    "\n",
    "# Ejemplo de uso\n",
    "try:\n",
    "    entrada = input(\"Ingresa un número para calcular su raíz cuadrada: \")\n",
    "    numero = float(entrada)\n",
    "    calcular_raiz_cuadrada(numero)\n",
    "except ValueError:\n",
    "    print(\"❌ Error: Debes ingresar un número válido.\")"
   ]
  },
  {
   "cell_type": "markdown",
   "id": "cc60db2c",
   "metadata": {},
   "source": [
    "### Desafío 71: \n",
    "Desarrolla un programa que abra un archivo de texto, lea su contenido y lo muestre. Implementa manejo de excepciones para archivos que no existan y usa finally para asegurarte de que el archivo se cierre adecuadamente en cualquier caso."
   ]
  },
  {
   "cell_type": "code",
   "execution_count": 9,
   "id": "94a40326",
   "metadata": {},
   "outputs": [
    {
     "name": "stdout",
     "output_type": "stream",
     "text": [
      "❌ Error: El archivo 'C:/Usuarios/TuNombre/Documentos/datos.txt' no existe.\n"
     ]
    }
   ],
   "source": [
    "def leer_archivo(nombre_archivo):\n",
    "    archivo = None\n",
    "    try:\n",
    "        archivo = open(nombre_archivo, 'r', encoding='utf-8')\n",
    "        contenido = archivo.read()\n",
    "        print(\"✅ Contenido del archivo:\")\n",
    "        print(contenido)\n",
    "\n",
    "    except FileNotFoundError:\n",
    "        print(f\"❌ Error: El archivo '{nombre_archivo}' no existe.\")\n",
    "\n",
    "    except IOError:\n",
    "        print(f\"❌ Error: No se pudo leer el archivo '{nombre_archivo}'.\")\n",
    "\n",
    "    except Exception as e:\n",
    "        print(f\"❌ Error inesperado: {e}\")\n",
    "\n",
    "    finally:\n",
    "        if archivo:\n",
    "            archivo.close()\n",
    "            print(\"🔒 Archivo cerrado correctamente.\")\n",
    "\n",
    "# Ejemplo de uso\n",
    "nombre = input(\"Ingresa el nombre del archivo de texto (con extensión): \")\n",
    "leer_archivo(nombre)"
   ]
  }
 ],
 "metadata": {
  "kernelspec": {
   "display_name": "Python 3",
   "language": "python",
   "name": "python3"
  },
  "language_info": {
   "codemirror_mode": {
    "name": "ipython",
    "version": 3
   },
   "file_extension": ".py",
   "mimetype": "text/x-python",
   "name": "python",
   "nbconvert_exporter": "python",
   "pygments_lexer": "ipython3",
   "version": "3.13.7"
  }
 },
 "nbformat": 4,
 "nbformat_minor": 5
}
