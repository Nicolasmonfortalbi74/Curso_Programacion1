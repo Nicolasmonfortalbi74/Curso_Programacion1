{
 "cells": [
  {
   "cell_type": "code",
   "execution_count": null,
   "id": "d88c1202",
   "metadata": {},
   "outputs": [],
   "source": [
    "Crea una función que tome un objeto Autor y devuelva una lista de todos los títulos de libros escritos por el autor.\n",
    "Asegúrate de que la lista de libros sea accesible solo a través de métodos de la clase Autor."
   ]
  },
  {
   "cell_type": "code",
   "execution_count": 1,
   "id": "ca20d27a",
   "metadata": {},
   "outputs": [
    {
     "name": "stdout",
     "output_type": "stream",
     "text": [
      "['La casa de los espíritus', 'Eva Luna']\n"
     ]
    }
   ],
   "source": [
    "class Autor:\n",
    "    def __init__(self, nombre):\n",
    "        self.nombre = nombre\n",
    "        self.__libros = []  # Lista privada de libros\n",
    "\n",
    "    def agregar_libro(self, titulo):\n",
    "        \"\"\"Agrega un libro al autor.\"\"\"\n",
    "        self.__libros.append({'titulo': titulo})\n",
    "\n",
    "    def obtener_titulos(self):\n",
    "        \"\"\"Devuelve una lista de títulos de libros escritos por el autor.\"\"\"\n",
    "        return [libro['titulo'] for libro in self.__libros]\n",
    "\n",
    "# Función que toma un objeto Autor y devuelve sus títulos\n",
    "def obtener_titulos_autor(autor):\n",
    "    return autor.obtener_titulos()\n",
    "\n",
    "# 🧪 Ejemplo de uso\n",
    "autor = Autor(\"Isabel Allende\")\n",
    "autor.agregar_libro(\"La casa de los espíritus\")\n",
    "autor.agregar_libro(\"Eva Luna\")\n",
    "\n",
    "titulos = obtener_titulos_autor(autor)\n",
    "print(titulos)  # ['La casa de los espíritus', 'Eva Luna']"
   ]
  },
  {
   "cell_type": "markdown",
   "id": "0e61fa08",
   "metadata": {},
   "source": [
    "class Autor: Crea la clase llamada autor."
   ]
  },
  {
   "cell_type": "markdown",
   "id": "a1c9f5bc",
   "metadata": {},
   "source": [
    "1. self.__libros\n",
    "- Es una lista privada que pertenece al objeto Autor.\n",
    "- Contiene diccionarios, cada uno representando un libro.\n",
    "2. for libro in self.__libros\n",
    "- Recorre cada elemento (diccionario) dentro de la lista __libros.\n",
    "- Cada libro es un diccionario como {'titulo': 'Eva Luna'}.\n",
    "3. libro['titulo']\n",
    "- Extrae el valor asociado a la clave 'titulo' de cada diccionario.\n",
    "- En el ejemplo anterior, esto devolvería 'Eva Luna'.\n",
    "4. [libro['titulo'] for libro in self.__libros]\n",
    "- Crea una nueva lista que contiene solo los títulos de los libros.\n",
    "\n",
    "En estos cuatro puntos se toma la lista privada de libros del autor y construye una nueva lista que contiene únicamente los títulos de esos libros.\n",
    "\n"
   ]
  },
  {
   "cell_type": "markdown",
   "id": "0c8be60e",
   "metadata": {},
   "source": [
    "1. def agregar_libro(self, titulo):\n",
    "- Define un método llamado agregar_libro dentro de la clase Autor.\n",
    "- Recibe dos parámetros:\n",
    "- self: referencia al objeto actual (el autor).\n",
    "- titulo: el título del libro que se quiere agregar.\n",
    "2. \"\"\"Agrega un libro al autor.\"\"\"\n",
    "- Es un docstring: una breve descripción del propósito del método.\n",
    "- Ayuda a otros programadores (¡o a ti mismo en el futuro!) a entender qué hace la función.\n",
    "3. self.__libros.append({'titulo': titulo})\n",
    "- self.__libros es la lista privada de libros del autor.\n",
    "- .append(...) agrega un nuevo elemento al final de esa lista.\n",
    "- El elemento agregado es un diccionario con una sola clave 'titulo' y su valor es el que se pasó como argumento.\n"
   ]
  },
  {
   "cell_type": "markdown",
   "id": "f29f98b7",
   "metadata": {},
   "source": [
    "Def obtener_titulos(self):\n",
    "    \"\"\"Devuelve una lista de títulos de libros escritos por el autor.\"\"\"\n",
    "    return [libro['titulo'] for libro in self.__libros]\n",
    "Este método se llama obtener_titulos, y su función es devolver una lista con los títulos de todos los libros que ha escrito el autor. \n",
    "\n",
    "1. def obtener_titulos(self):\n",
    "- Define un método dentro de la clase Autor.\n",
    "- self representa la instancia actual del autor.\n",
    "2. \"\"\"Devuelve una lista de títulos de libros escritos por el autor.\"\"\"\n",
    "- Es un docstring que describe lo que hace el método.\n",
    "- Sirve como documentación para quien lea el código.\n",
    "3. return [libro['titulo'] for libro in self.__libros]\n",
    "- Aquí ocurre la magia:\n",
    "- self.__libros es una lista privada que contiene diccionarios, cada uno representando un libro.\n",
    "- for libro in self.__libros recorre cada libro en esa lista.\n",
    "- libro['titulo'] extrae el título de cada libro.\n",
    "- [libro['titulo'] for libro in self.__libros] construye una nueva lista que contiene solo los títulos.\n",
    "\n"
   ]
  },
  {
   "cell_type": "markdown",
   "id": "dc20ca27",
   "metadata": {},
   "source": [
    "1. def obtener_titulos_autor(autor):\n",
    "- Define una función fuera de la clase Autor.\n",
    "- Recibe un parámetro llamado autor, que se espera sea una instancia de la clase Autor.\n",
    "2. return autor.obtener_titulos()\n",
    "- Llama al método obtener_titulos() del objeto autor.\n",
    "- Ese método devuelve una lista con los títulos de los libros escritos por ese autor.\n",
    "- La función simplemente devuelve esa lista.\n"
   ]
  }
 ],
 "metadata": {
  "kernelspec": {
   "display_name": "Python 3",
   "language": "python",
   "name": "python3"
  },
  "language_info": {
   "codemirror_mode": {
    "name": "ipython",
    "version": 3
   },
   "file_extension": ".py",
   "mimetype": "text/x-python",
   "name": "python",
   "nbconvert_exporter": "python",
   "pygments_lexer": "ipython3",
   "version": "3.13.5"
  }
 },
 "nbformat": 4,
 "nbformat_minor": 5
}
