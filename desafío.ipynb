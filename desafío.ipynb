{
 "cells": [
  {
   "cell_type": "markdown",
   "metadata": {},
   "source": [
    "Desafío 1: crea una suma de dos números"
   ]
  },
  {
   "cell_type": "code",
   "execution_count": null,
   "metadata": {},
   "outputs": [
    {
     "name": "stdout",
     "output_type": "stream",
     "text": [
      "la suma de 7 y 10 es 17\n"
     ]
    }
   ],
   "source": [
    "#solución#\n",
    "def suma (a,b):\n",
    "    return a+b\n",
    "a = 7\n",
    "b = 10\n",
    "resultado = suma (a, b) \n",
    "print(f\"la suma de {a} y {b} es {resultado}\")\n",
    "       "
   ]
  },
  {
   "cell_type": "markdown",
   "metadata": {},
   "source": [
    "Desafío 2 Calcular el Área de un Rectángulo con Presentación\n",
    "Ancho = 10.0\n",
    "Largo = 20.0"
   ]
  },
  {
   "cell_type": "code",
   "execution_count": 19,
   "metadata": {},
   "outputs": [
    {
     "name": "stdout",
     "output_type": "stream",
     "text": [
      "El área del rectángulo es: 200.0\n"
     ]
    }
   ],
   "source": [
    "#solución#\n",
    "\n",
    "Ancho_str = \"10.0\"\n",
    "Largo_str = \"20.0\"\n",
    "Ancho = float(Ancho_str)\n",
    "Largo = float (Largo_str)\n",
    "Area = Largo * Ancho\n",
    "print(f\"El área del rectángulo es: {Area}\")"
   ]
  }
 ],
 "metadata": {
  "kernelspec": {
   "display_name": "Python 3",
   "language": "python",
   "name": "python3"
  },
  "language_info": {
   "codemirror_mode": {
    "name": "ipython",
    "version": 3
   },
   "file_extension": ".py",
   "mimetype": "text/x-python",
   "name": "python",
   "nbconvert_exporter": "python",
   "pygments_lexer": "ipython3",
   "version": "3.13.2"
  }
 },
 "nbformat": 4,
 "nbformat_minor": 2
}
