{
 "cells": [
  {
   "cell_type": "code",
   "execution_count": null,
   "id": "72fef68d",
   "metadata": {},
   "outputs": [],
   "source": [
    "# Desafío 4: Control de notas de estudiantes\n",
    "Como profesor, necesitas manejar las notas de tus estudiantes. Permite ingresar todas las notas de los estudiantes y realiza varias operaciones con esos datos.\n",
    "\n"
   ]
  },
  {
   "cell_type": "code",
   "execution_count": 4,
   "id": "843bade8",
   "metadata": {},
   "outputs": [
    {
     "name": "stdout",
     "output_type": "stream",
     "text": [
      "\n",
      "Notas ingresadas; [12, 3, 5, 6, 7, 8, 9, 10]\n"
     ]
    }
   ],
   "source": [
    "Notas = [] \n",
    "\n",
    "while True:\n",
    "    try:\n",
    "        nota = int(input(\"Ingresa tu nota(o escribe -1 para salir): \"))\n",
    "        if nota == -1:\n",
    "            break\n",
    "        elif 1 <= nota <= 12:\n",
    "            Notas.append(nota)\n",
    "        else:\n",
    "            print(\"Error: la nota debe estar entre el 1 y el 12.\")\n",
    "   \n",
    "        \n",
    "   \n",
    "    except ValueError:\n",
    "        print(\"por favor, ingresa un número válido.\")\n",
    "\n",
    "print(\"\\nNotas ingresadas;\", Notas)"
   ]
  },
  {
   "cell_type": "markdown",
   "id": "53b783bd",
   "metadata": {},
   "source": [
    "Empezamos creando una lista vacía a la que llamaremos Notas con []. En esta se incluirán las notas ingresadas por los estudiantes.\n",
    "Creamos un bucle con while true para que pida su nota alos estudiantes. Esto lo hacemos mediante int(input) ya que vamos a pedir números enteros. También podrían ser decimales con float pero en este caso elegí enteros para no dificultarlo. \n",
    "Se le pide al estudianteq ue escriba su nota y se activa el bucle de forma que preguntará a todos los estudiantes. Cuando no queden estudiantes por responder, el bucle finaliza pulsando -1. Utilizamos break para que esto sea así. \n",
    "Vamosa establecer que las notas deben estar entre 1 y 12 imprimiendo error si no es así. Utilizamos elif para tal propósito, estableciendo que la nota es válida se agregará a la lista Notas.\n",
    "Notas.append cumple la función de agregar la nota introducida por el estudiante a la lista Notas si el número introducido es válido (número natural entre 1 y 12).\n",
    "Utilizamos else para que sí el número introducido no es válido por ser inferior a 1 o superior a 12 imprima el siguiente mensaje: la nota debe estar entre 1 y 12.\n",
    "En caso de que el usuario ingrese un valor incorrecto se mostrará el mensaje \"Por favor ingresa un número válido\". Este caso está pensado para el caso en que el estudiante ingrese una cadena de letras (ocho) o un valor con decimales. Se diferencia de elif anterior en que en aquel caso el estudiante si introducía un valor válido (número natural), pero no estaba comprendido dentro de los que se pide en la lista.\n",
    "Por último, imprimimos el mensaje que muestre las notas ingresadas.\n"
   ]
  },
  {
   "cell_type": "markdown",
   "id": "dae799d3",
   "metadata": {},
   "source": [
    "**Pregunta 1: Calcula el promedio de las notas de la clase. ¿Cómo lo harías?**"
   ]
  },
  {
   "cell_type": "code",
   "execution_count": 6,
   "id": "02ebc1a8",
   "metadata": {},
   "outputs": [
    {
     "name": "stdout",
     "output_type": "stream",
     "text": [
      "La nota media de la clase es: 7.5\n"
     ]
    }
   ],
   "source": [
    "import numpy as np \n",
    "nota_media = np.mean(Notas)\n",
    "print(f\"La nota media de la clase es: {nota_media}\")"
   ]
  },
  {
   "cell_type": "markdown",
   "id": "f9d54401",
   "metadata": {},
   "source": [
    "También lo podría haber hecho con sum(Notas)/len(Notas); dividiendo la sua de todas las notas entre el número total de notas obtenidas."
   ]
  },
  {
   "cell_type": "markdown",
   "id": "8a0ac4ee",
   "metadata": {},
   "source": [
    "**Pregunta 2: Encuentra la nota más baja y la más alta. ¿Cómo lo harías?**"
   ]
  },
  {
   "cell_type": "markdown",
   "id": "dde20d04",
   "metadata": {},
   "source": [
    "Usando las funciones min() y max()"
   ]
  },
  {
   "cell_type": "code",
   "execution_count": 14,
   "id": "54b6e99d",
   "metadata": {},
   "outputs": [
    {
     "name": "stdout",
     "output_type": "stream",
     "text": [
      "La nota más baja es 3\n",
      "La nota más alta es 12\n"
     ]
    }
   ],
   "source": [
    "nota_mas_baja = min(Notas)\n",
    "nota_mas_alta = max(Notas)\n",
    "\n",
    "print(f\"La nota más baja es {nota_mas_baja}\")\n",
    "print(f\"La nota más alta es {nota_mas_alta}\")"
   ]
  },
  {
   "cell_type": "markdown",
   "id": "f4b4f7dc",
   "metadata": {},
   "source": [
    "Utilizamos los comandos min y max para que python detecte las notas más alta y baja y despues print con f strings para que la imprima."
   ]
  },
  {
   "cell_type": "markdown",
   "id": "a98a42f7",
   "metadata": {},
   "source": [
    "# Desafío 1: Gestión del stock de la verdulería\n",
    "\n",
    "¡Bienvenido al desafío de la verdulería! Has sido nombrado el nuevo gerente de una tienda de frutas, verduras y hortalizas. Tu tarea será manejar el stock de la tienda utilizando un arreglo. Aquí hay una serie de tareas que tendrás que completar.\n",
    "\n",
    "## Inventario inicial\n",
    "\n",
    "Aquí está el inventario inicial de la tienda:"
   ]
  },
  {
   "cell_type": "code",
   "execution_count": 17,
   "id": "c643f824",
   "metadata": {},
   "outputs": [],
   "source": [
    "inventario = [\"manzanas\", \"bananas\", \"zanahorias\", \"espinacas\", \"brocoli\", \"cebolla\", \"kiwis\"]"
   ]
  },
  {
   "cell_type": "markdown",
   "id": "1062ff76",
   "metadata": {},
   "source": [
    " **Pregunta 1: ¿Cuántos tipos de productos hay en el inventario inicial?**\n",
    " \n",
    "\n",
    " **Pregunta 2: ¿Qué producto está en la tercera posición del inventario?**"
   ]
  },
  {
   "cell_type": "code",
   "execution_count": 19,
   "id": "94ded776",
   "metadata": {},
   "outputs": [
    {
     "name": "stdout",
     "output_type": "stream",
     "text": [
      "7\n"
     ]
    }
   ],
   "source": [
    "len(inventario)\n",
    "print (len(inventario))"
   ]
  },
  {
   "cell_type": "code",
   "execution_count": 22,
   "id": "e66e6143",
   "metadata": {},
   "outputs": [
    {
     "name": "stdout",
     "output_type": "stream",
     "text": [
      "zanahorias\n"
     ]
    }
   ],
   "source": [
    "tercer_producto = inventario[2]\n",
    "print (tercer_producto)"
   ]
  },
  {
   "cell_type": "markdown",
   "id": "16918b75",
   "metadata": {},
   "source": [
    "He utilizado la función len para determinar la longitud de la lista, es decir, cuantos tipos de productos hay en ella. Para determinar cuál era el producto que estaba en tercer lugar, lo igualé en la posición 2 del inventario ya que empieza a conar desde 0 y le he dado a imprimir sin las \"\" para que no imprimiera literalmente \"tercer producto\" si no la definición del mismo que creé anteriormente."
   ]
  },
  {
   "cell_type": "markdown",
   "id": "9786d64f",
   "metadata": {},
   "source": [
    "## Gestión del inventario\n",
    "Un cliente viene y compra todas las bananas.\n",
    "\n",
    "**Pregunta 3: ¿Cómo actualizarías el inventario después de la venta?**"
   ]
  },
  {
   "cell_type": "markdown",
   "id": "d8b164bc",
   "metadata": {},
   "source": [
    "Podría usar pop o remove:"
   ]
  },
  {
   "cell_type": "code",
   "execution_count": 24,
   "id": "513711df",
   "metadata": {},
   "outputs": [
    {
     "name": "stdout",
     "output_type": "stream",
     "text": [
      "['manzanas', 'espinacas', 'brocoli', 'cebolla', 'kiwis']\n"
     ]
    }
   ],
   "source": [
    "inventario.pop(1)\n",
    "print(inventario)"
   ]
  },
  {
   "cell_type": "code",
   "execution_count": 25,
   "id": "8723e84b",
   "metadata": {},
   "outputs": [
    {
     "ename": "ValueError",
     "evalue": "list.remove(x): x not in list",
     "output_type": "error",
     "traceback": [
      "\u001b[31m---------------------------------------------------------------------------\u001b[39m",
      "\u001b[31mValueError\u001b[39m                                Traceback (most recent call last)",
      "\u001b[36mCell\u001b[39m\u001b[36m \u001b[39m\u001b[32mIn[25]\u001b[39m\u001b[32m, line 1\u001b[39m\n\u001b[32m----> \u001b[39m\u001b[32m1\u001b[39m \u001b[43minventario\u001b[49m\u001b[43m.\u001b[49m\u001b[43mremove\u001b[49m\u001b[43m(\u001b[49m\u001b[33;43m\"\u001b[39;49m\u001b[33;43mbananas\u001b[39;49m\u001b[33;43m\"\u001b[39;49m\u001b[43m)\u001b[49m\n\u001b[32m      2\u001b[39m \u001b[38;5;28mprint\u001b[39m(inventario)\n",
      "\u001b[31mValueError\u001b[39m: list.remove(x): x not in list"
     ]
    }
   ],
   "source": [
    "inventario.remove(\"bananas\")\n",
    "print(inventario)"
   ]
  },
  {
   "cell_type": "markdown",
   "id": "14f5b868",
   "metadata": {},
   "source": [
    "Cómo lo elimine mediante .pop, al utilizar .remove y referirme a \"bananas\" da error, ya que bananas ya no existe en el inventario. Si lo hubiese hecho al revés, usando primero .remove y despues .pop, no habría dado error y habría eliminado el concepto que sustituyese a bananas en la lista, ya que uno utiliza el mismo concepto y el otro su posición en el inventario, por lo que de no eliminar el último concepto, siempre se eliminará el siguiente."
   ]
  },
  {
   "cell_type": "markdown",
   "id": "ed180604",
   "metadata": {},
   "source": [
    "Ahora recibes un envío de nuevos productos: \"frutillas\", \"apio\" y \"papas\".\n",
    "\n",
    "**Pregunta 4: ¿Cómo añadirías estos productos al inventario?**"
   ]
  },
  {
   "cell_type": "markdown",
   "id": "dd349606",
   "metadata": {},
   "source": [
    "Los añadiría al final de la lista con .append."
   ]
  },
  {
   "cell_type": "code",
   "execution_count": 45,
   "id": "2e3b9b18",
   "metadata": {},
   "outputs": [
    {
     "name": "stdout",
     "output_type": "stream",
     "text": [
      "['manzanas', 'espinacas', 'brocoli', 'cebolla', 'kiwis', 'frutillas', 'apio', 'papas']\n"
     ]
    }
   ],
   "source": [
    "inventario.append(\"frutillas\")\n",
    "inventario.append(\"apio\")\n",
    "inventario.append(\"papas\")\n",
    "print(inventario)"
   ]
  },
  {
   "cell_type": "code",
   "execution_count": 43,
   "id": "7c0890b6",
   "metadata": {},
   "outputs": [],
   "source": [
    "inventario.remove(\"frutillas\")"
   ]
  },
  {
   "cell_type": "code",
   "execution_count": 46,
   "id": "ea4ffebe",
   "metadata": {},
   "outputs": [
    {
     "name": "stdout",
     "output_type": "stream",
     "text": [
      "['manzanas', 'espinacas', 'brocoli', 'cebolla', 'kiwis', 'frutillas', 'apio', 'papas']\n"
     ]
    }
   ],
   "source": [
    "print(inventario)"
   ]
  },
  {
   "cell_type": "markdown",
   "id": "a7e70a63",
   "metadata": {},
   "source": [
    "Cómo había apretado dos veces el.append se añadieron duplicados por lo que los tuve que borrar."
   ]
  },
  {
   "cell_type": "markdown",
   "id": "0eb64a82",
   "metadata": {},
   "source": [
    "Intenté poner todos los productos de forma conjunta con .append y me dio error. Pregunté a mi mejor amigo copilot y me dijo que si quería utilizar varios campos a la vez debería utilizar .extend, ya que .append sólo acepta 1. Así que también lo podría haber hecho de lasiguiente forma:\n",
    "Inventario.extend ([\"frutillas\", \"apio\", \"papas\"])\n",
    "Cómo se puede apreciar con .append sólo utilizamos (), mientras que con .extend utilizamos también []."
   ]
  },
  {
   "cell_type": "markdown",
   "id": "8e064606",
   "metadata": {},
   "source": [
    "**Pregunta 5: ¿Cómo verificas si las \"papas\" están ahora en el inventario?**\n",
    "Puedo usar un if in/else:"
   ]
  },
  {
   "cell_type": "code",
   "execution_count": 29,
   "id": "8eb65884",
   "metadata": {},
   "outputs": [
    {
     "name": "stdout",
     "output_type": "stream",
     "text": [
      "las papas están en el inventario\n"
     ]
    }
   ],
   "source": [
    "if \"papas\" in inventario:\n",
    "    print(\"las papas están en el inventario\")\n",
    "else:\n",
    "    print(\"las papas no están en el inventario\")"
   ]
  },
  {
   "cell_type": "markdown",
   "id": "05061eab",
   "metadata": {},
   "source": [
    "Un agricultor viene con una rara fruta llamada \"dragonfruit\", pero sólo tienes espacio para 7 productos en tu tienda.\n",
    "\n",
    "**Pregunta 6: ¿Cómo decidirías qué producto sacar para hacer espacio para el \"dragonfruit\"?**\n"
   ]
  },
  {
   "cell_type": "markdown",
   "id": "4c05ac20",
   "metadata": {},
   "source": [
    "Antes que nada, remarcar que ya hay de hecho 8 productos en mi tienda, si cuento desde el 1; si cuento desde el 0 hay 7 así que voy a suponer que es cómo contaremos el número de productos en la tienda.\n",
    "Supongo que en orden a maximizar los beneficios eliminaría el producto que menos ganancia me reportara. Aunque también es posible que en orden a minimizar las pérdidas eliminara el producto que antes fuese a ponerse malo y me lo comería yo mismo en casa... Cómo en este caso no se establece que productos están más cerca de ponerse malos ni cuáles nos reportan más ganancias elegiré en función de mis gustos, y retiraré los kiwis por qué en casa nos encantan así que tendremos postre para varios días."
   ]
  },
  {
   "cell_type": "code",
   "execution_count": 47,
   "id": "664f3fcb",
   "metadata": {},
   "outputs": [],
   "source": [
    "inventario.remove(\"kiwis\")"
   ]
  },
  {
   "cell_type": "code",
   "execution_count": 48,
   "id": "ed5593ee",
   "metadata": {},
   "outputs": [
    {
     "name": "stdout",
     "output_type": "stream",
     "text": [
      "['manzanas', 'espinacas', 'brocoli', 'cebolla', 'frutillas', 'apio', 'papas']\n"
     ]
    }
   ],
   "source": [
    "print(inventario)"
   ]
  },
  {
   "cell_type": "code",
   "execution_count": 49,
   "id": "32b8eb16",
   "metadata": {},
   "outputs": [],
   "source": [
    "inventario.append(\"dragonfruit\")"
   ]
  },
  {
   "cell_type": "code",
   "execution_count": 50,
   "id": "d0568cda",
   "metadata": {},
   "outputs": [
    {
     "name": "stdout",
     "output_type": "stream",
     "text": [
      "['manzanas', 'espinacas', 'brocoli', 'cebolla', 'frutillas', 'apio', 'papas', 'dragonfruit']\n"
     ]
    }
   ],
   "source": [
    "print(inventario)"
   ]
  },
  {
   "cell_type": "markdown",
   "id": "46489a93",
   "metadata": {},
   "source": [
    "Ahora tenemos 7 posiciones y 8 productos."
   ]
  },
  {
   "cell_type": "markdown",
   "id": "e918616c",
   "metadata": {},
   "source": [
    "## Ordenando el inventario\n",
    "Decides que sería más fácil gestionar el inventario si estuviera ordenado alfabéticamente.\n",
    "\n",
    "**Pregunta 7: ¿Cómo ordenarías el inventario?**\n",
    "Utilizando sort()"
   ]
  },
  {
   "cell_type": "code",
   "execution_count": 52,
   "id": "424db8dd",
   "metadata": {},
   "outputs": [
    {
     "name": "stdout",
     "output_type": "stream",
     "text": [
      "['apio', 'brocoli', 'cebolla', 'dragonfruit', 'espinacas', 'frutillas', 'manzanas', 'papas']\n"
     ]
    }
   ],
   "source": [
    "inventario.sort()\n",
    "print(inventario)"
   ]
  },
  {
   "cell_type": "markdown",
   "id": "b8deffb4",
   "metadata": {},
   "source": [
    "Un nuevo empleado viene y necesita una copia del inventario para poder reponer los estantes.\n",
    "\n",
    "**Pregunta 8: ¿Cómo proporcionarías una copia del inventario al nuevo empleado, asegurándote de que si el empleado hace cambios en su copia, el inventario original no se vea afectado?**\n",
    "Para proporcionar una copia del inventario sin afectar el original, puedes usar el método .copy() en Python, que crea una copia independiente de la lista. Así, cualquier cambio que el nuevo empleado haga en su versión no modificará el inventario original.\n"
   ]
  },
  {
   "cell_type": "code",
   "execution_count": 55,
   "id": "0e811488",
   "metadata": {},
   "outputs": [
    {
     "name": "stdout",
     "output_type": "stream",
     "text": [
      "Inventario original: ['apio', 'brocoli', 'cebolla', 'dragonfruit', 'espinacas', 'frutillas', 'manzanas', 'papas']\n",
      "Copia para el empleado: ['apio', 'brocoli', 'cebolla', 'dragonfruit', 'espinacas', 'frutillas', 'manzanas', 'papas']\n"
     ]
    }
   ],
   "source": [
    "inventario_empleado = inventario.copy()\n",
    "print(\"Inventario original:\", inventario)\n",
    "print(\"Copia para el empleado:\", inventario_empleado)"
   ]
  }
 ],
 "metadata": {
  "kernelspec": {
   "display_name": "Python 3",
   "language": "python",
   "name": "python3"
  },
  "language_info": {
   "codemirror_mode": {
    "name": "ipython",
    "version": 3
   },
   "file_extension": ".py",
   "mimetype": "text/x-python",
   "name": "python",
   "nbconvert_exporter": "python",
   "pygments_lexer": "ipython3",
   "version": "3.13.3"
  }
 },
 "nbformat": 4,
 "nbformat_minor": 5
}
