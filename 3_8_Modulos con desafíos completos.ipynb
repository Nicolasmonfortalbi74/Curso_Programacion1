{
 "cells": [
  {
   "cell_type": "markdown",
   "id": "5cf1685f",
   "metadata": {},
   "source": [
    "# Módulos"
   ]
  },
  {
   "cell_type": "markdown",
   "id": "b3a1d3c7",
   "metadata": {},
   "source": [
    "## Introducción a los módulos en Python:\n",
    "\n",
    "Al construir nuestro procesador de texto, nos damos cuenta de que algunas funciones y características que necesitamos ya existen y han sido implementadas por otros desarrolladores. En lugar de reinventar la rueda, podemos aprovechar estos conjuntos de funciones utilizando módulos en Python. Un módulo es simplemente un archivo que contiene definiciones, funciones y variables que podemos importar a nuestro código para reutilizar y simplificar nuestro trabajo.\n",
    "\n",
    "De hecho, probablemente ya hayas utilizado módulos sin darte cuenta, mediante la instrucción \"import\". Por ejemplo, si alguna vez has usado funciones matemáticas como \"sqrt\" o \"pi\", lo más probable es que hayas importado el módulo `math` para acceder a ellas, para ser más exacto:\n"
   ]
  },
  {
   "cell_type": "code",
   "execution_count": null,
   "id": "ecdfdd78",
   "metadata": {},
   "outputs": [],
   "source": [
    "import math\n",
    "\n",
    "# Usamos la función sqrt para calcular la raíz cuadrada\n",
    "resultado = math.sqrt(16)"
   ]
  },
  {
   "cell_type": "markdown",
   "id": "6251d15c",
   "metadata": {},
   "source": [
    "## ¿Por qué usar módulos?"
   ]
  },
  {
   "cell_type": "markdown",
   "id": "c8c0b883",
   "metadata": {},
   "source": [
    "\n",
    "Utilizar módulos nos permite mantener nuestro código organizado, reutilizar código y compartir funcionalidades entre diferentes proyectos. Imagina que en nuestro procesador de texto quisiéramos añadir la capacidad de trabajar con fechas, como añadir fechas de creación o modificación a los documentos. En lugar de escribir todo el código desde cero para manejar fechas, podemos utilizar el módulo `datetime` de Python.\n",
    "\n",
    "Es importante mencionar que no todos los módulos están incluidos en la instalación base de Python. Algunos módulos de terceros deben ser instalados antes de poder usarlos. Estos suelen instalarse utilizando herramientas como `pip`, que es el gestor de paquetes de Python. Por ejemplo, si quisiéramos utilizar un módulo especializado para manejar archivos PDF, tendríamos que buscar un módulo de terceros, instalarlo con `pip`, y luego importarlo en nuestro código. Por ejemplo, para instalar el módulo pyPDF, podemos utilizar el siguiente comando:\n"
   ]
  },
  {
   "cell_type": "code",
   "execution_count": null,
   "id": "9edb08fb",
   "metadata": {},
   "outputs": [],
   "source": [
    "pip install pypdf"
   ]
  },
  {
   "cell_type": "markdown",
   "id": "d2c20c1e",
   "metadata": {},
   "source": [
    "*Nota: Los módulos de terceros en Python que se pueden instalar mediante `pip` provienen de un repositorio central llamado PyPI (Python Package Index). Antes de que los paquetes se publiquen en PyPI, son revisados y validados para asegurar su <span style=\"color:skyblue\"> calidad y seguridad. </span> Además, la comunidad de Python está atenta para detectar y resolver posibles problemas de seguridad en los paquetes.*"
   ]
  },
  {
   "cell_type": "markdown",
   "id": "070311ef",
   "metadata": {},
   "source": [
    "## Importando un módulo completo\n",
    "\n",
    "Para usar un módulo, primero debemos importarlo. A continuación, un ejemplo utilizando el módulo datetime."
   ]
  },
  {
   "cell_type": "code",
   "execution_count": null,
   "id": "6286a405",
   "metadata": {},
   "outputs": [],
   "source": [
    "import datetime\n",
    "\n",
    "fecha_actual = datetime.datetime.now()\n",
    "print(f\"La fecha y hora actuales son: {fecha_actual}\")\n"
   ]
  },
  {
   "cell_type": "markdown",
   "id": "a7744ad2",
   "metadata": {},
   "source": [
    "El módulo `datetime` viene en la instalación estándar de Python que proporciona funciones para manipular fechas y tiempos de manera sencilla y eficiente. Este módulo permite realizar operaciones como obtener la fecha y hora actuales, calcular diferencias entre fechas, o formatear fechas de diversas maneras.\n",
    "\n",
    "Lo interesante de `datetime` es que se basa en la configuración del reloj de tu computadora para obtener la fecha y la hora. Esto significa que al usar funciones como \"datetime.datetime.now()\", el valor retornado refleja la hora local configurada en el sistema en el que se está ejecutando el código."
   ]
  },
  {
   "cell_type": "markdown",
   "id": "26258a1e",
   "metadata": {},
   "source": [
    "## Importando solo partes de un módulo\n",
    "\n",
    "En ocasiones, solo necesitamos una función o clase específica de un módulo. En lugar de importar todo el módulo, lo cual puede ser innecesario y consumir más recursos, podemos optar por importar solo la parte que realmente necesitamos. Esto no solo hace que nuestro código sea más eficiente, sino que también lo vuelve más legible y fácil de mantener."
   ]
  },
  {
   "cell_type": "code",
   "execution_count": null,
   "id": "83781614",
   "metadata": {},
   "outputs": [],
   "source": [
    "from datetime import datetime\n",
    "\n",
    "fecha_actual = datetime.now()\n",
    "print(f\"La fecha y hora actuales son: {fecha_actual}\")\n"
   ]
  },
  {
   "cell_type": "markdown",
   "id": "9526f068",
   "metadata": {},
   "source": [
    "## Renombrando módulos al importar\n",
    "\n",
    "A veces, por conveniencia o para evitar conflictos, podemos querer renombrar un módulo o parte de él al importarlo.\n",
    "¿Hay alguna manera de reducir \"datetime\" para no repetir todo el tiempo? Claro que si! el \"as\" permite abreviar el nombre del modulo que quieras importar."
   ]
  },
  {
   "cell_type": "code",
   "execution_count": null,
   "id": "eba94b52",
   "metadata": {},
   "outputs": [],
   "source": [
    "import datetime as dt\n",
    "\n",
    "fecha_actual = dt.datetime.now()\n",
    "print(f\"La fecha y hora actuales son: {fecha_actual}\")\n"
   ]
  },
  {
   "cell_type": "markdown",
   "id": "3efdc816",
   "metadata": {},
   "source": [
    "En este ejemplo, hemos renombrado el módulo `datetime` como `dt`, lo que nos permite utilizar un nombre más corto y cómodo sin sacrificar la funcionalidad. Esta práctica es especialmente útil cuando trabajamos con módulos cuyos nombres son largos o repetitivos, ya que reduce la cantidad de escritura y mejora la legibilidad del código, al igual que algunas abreviaturas se han vuelto casi universales para referirse a ciertos módulos."
   ]
  },
  {
   "cell_type": "markdown",
   "id": "3258fb88",
   "metadata": {},
   "source": [
    "## Módulos personalizados\n",
    "\n",
    "En Python, no solo podemos aprovechar los módulos estándar y de terceros, sino que también tenemos la libertad de crear nuestros propios módulos. Supongamos que, en el proceso de desarrollo de nuestro procesador de texto, hemos escrito varias funciones que nos ayudan a contar palabras, verificar la ortografía y ajustar márgenes. En lugar de escribir estas funciones una y otra vez en diferentes proyectos, podemos agruparlas y guardarlas en un archivo separado para reutilizarlas.\n",
    "\n",
    "Por ejemplo, imagina que hemos creado las siguientes funciones:"
   ]
  },
  {
   "cell_type": "code",
   "execution_count": null,
   "id": "caa6ac25",
   "metadata": {},
   "outputs": [],
   "source": [
    "# procesador_texto.py\n",
    "\n",
    "def contar_palabras(texto):\n",
    "    return len(texto.split())\n",
    "\n",
    "def verificar_ortografia(texto):\n",
    "    # Simulamos una función que verifica la ortografía.\n",
    "    # En una aplicación real, esto podría ser más complejo.\n",
    "    return \"Ortografía verificada.\"\n",
    "\n",
    "def ajustar_margenes(texto, margen_izquierdo=10, margen_derecho=10):\n",
    "    return ' ' * margen_izquierdo + texto + ' ' * margen_derecho"
   ]
  },
  {
   "cell_type": "markdown",
   "id": "b8ffbdf6",
   "metadata": {},
   "source": [
    "Una vez guardadas en el archivo procesador_texto.py, podemos importar este módulo personalizado en otros programas:"
   ]
  },
  {
   "cell_type": "code",
   "execution_count": null,
   "id": "02d0407f",
   "metadata": {},
   "outputs": [],
   "source": [
    "#from procesador_texto import contar_palabras, verificar_ortografia, ajustar_margenes\n",
    "\n",
    "texto = \"El procesamiento de texto en Python es poderoso.\"\n",
    "print(contar_palabras(texto))  # Imprime: 8\n",
    "print(verificar_ortografia(texto))  # Imprime: Ortografía verificada.\n",
    "print(ajustar_margenes(texto, 5, 5))  # Ajusta los márgenes del texto"
   ]
  },
  {
   "cell_type": "markdown",
   "id": "755e37df",
   "metadata": {},
   "source": [
    "Al importar nuestro módulo personalizado, podemos acceder y utilizar las funciones que contiene, facilitando la reutilización de código y manteniendo nuestros programas principales más limpios y organizados."
   ]
  },
  {
   "cell_type": "markdown",
   "id": "805c5029",
   "metadata": {},
   "source": [
    "\n",
    "## Desafíos\n"
   ]
  },
  {
   "cell_type": "markdown",
   "id": "7c9c2813",
   "metadata": {},
   "source": [
    "**Desafio 0:**\n",
    "\n",
    "Utiliza el módulo `random` para crear un programa que genere un número aleatorio entre 1 y 100."
   ]
  },
  {
   "cell_type": "markdown",
   "id": "f326e631",
   "metadata": {},
   "source": [
    "**Desafío 1:**\n",
    "\n",
    "Investiga y utiliza al menos tres funciones del módulo `string` que puedan ser útiles para mejorar nuestro procesador de texto."
   ]
  },
  {
   "cell_type": "code",
   "execution_count": null,
   "id": "d909cae9",
   "metadata": {},
   "outputs": [],
   "source": [
    "import string\n",
    "\n",
    "#  string.ascii_letters → todas las letras (mayúsculas y minúsculas)\n",
    "print(\"Letras del alfabeto:\", string.ascii_letters)\n",
    "\n",
    "# string.digits → todos los números del 0 al 9\n",
    "print(\"Dígitos disponibles:\", string.digits)\n",
    "\n",
    "# string.punctuation → todos los signos de puntuación\n",
    "print(\"Signos de puntuación:\", string.punctuation)\n",
    "\n",
    "# Ejemplo de uso: limpiar un texto eliminando signos de puntuación\n",
    "texto = \"¡Hola, mundo! Esto es un texto de prueba #1.\"\n",
    "texto_limpio = ''.join(c for c in texto if c not in string.punctuation)\n",
    "print(\"Texto limpio:\", texto_limpio)\n"
   ]
  },
  {
   "cell_type": "markdown",
   "id": "6308100a",
   "metadata": {},
   "source": [
    "string.ascii_letters:útil para validar si un texto solo contiene letras.\n",
    "\n",
    "string.digits: útil para detectar o eliminar números.\n",
    "\n",
    "string.punctuation: útil para limpiar textos de símbolos o puntuación."
   ]
  },
  {
   "cell_type": "markdown",
   "id": "51a97b5a",
   "metadata": {},
   "source": [
    "**Desafío 2:**\n",
    "\n",
    "Utiliza el módulo `random` de Python para crear un programa que genere una contraseña aleatoria de 8 caracteres que incluya letras minúsculas, letras mayúsculas y números."
   ]
  },
  {
   "cell_type": "code",
   "execution_count": null,
   "id": "ab7e5b50",
   "metadata": {},
   "outputs": [],
   "source": [
    "import random\n",
    "import string\n",
    "\n",
    "# Conjunto de caracteres posibles\n",
    "caracteres = string.ascii_letters + string.digits\n",
    "# ascii_letters = letras mayúsculas y minúsculas\n",
    "# digits = números del 0 al 9\n",
    "\n",
    "# Generar la contraseña de 8 caracteres\n",
    "contraseña = ''.join(random.choice(caracteres) for _ in range(8))\n",
    "\n",
    "# Mostrar el resultado\n",
    "print(\"Tu contraseña aleatoria es:\", contraseña)\n"
   ]
  },
  {
   "cell_type": "markdown",
   "id": "98820ade",
   "metadata": {},
   "source": [
    "string.ascii_letters → contiene todas las letras (a–z y A–Z).\n",
    "\n",
    "string.digits → contiene los números del 0 al 9.\n",
    "\n",
    "random.choice(caracteres) → elige un carácter al azar del conjunto.\n",
    "\n",
    "El bucle for _ in range(8) → repite eso 8 veces.\n",
    "\n",
    "''.join(...) → junta los 8 caracteres en una sola cadena (la contraseña)."
   ]
  },
  {
   "cell_type": "markdown",
   "id": "e5b7bb33",
   "metadata": {},
   "source": [
    "**Desafío 3:**\n",
    "\n",
    "Crea un módulo personalizado que contenga funciones para cambiar el formato del texto (por ejemplo, a negrita, itálica, etc.) e impórtalo en un nuevo programa."
   ]
  },
  {
   "cell_type": "code",
   "execution_count": null,
   "id": "11e85603",
   "metadata": {},
   "outputs": [],
   "source": [
    "# formato_texto.py\n",
    "def negrita(texto):\n",
    "    \"\"\"Devuelve el texto en negrita usando formato Markdown.\"\"\"\n",
    "    return f\"**{texto}**\"\n",
    "\n",
    "def italica(texto):\n",
    "    \"\"\"Devuelve el texto en cursiva (itálica) usando formato Markdown.\"\"\"\n",
    "    return f\"*{texto}*\"\n",
    "\n",
    "def subrayado(texto):\n",
    "    \"\"\"Devuelve el texto subrayado (usando ANSI en consola).\"\"\"\n",
    "    return f\"\\033[4m{texto}\\033[0m\"\n",
    "\n",
    "def mayusculas(texto):\n",
    "    \"\"\"Convierte el texto a mayúsculas.\"\"\"\n",
    "    return texto.upper()\n"
   ]
  },
  {
   "cell_type": "code",
   "execution_count": null,
   "id": "afe639df",
   "metadata": {},
   "outputs": [],
   "source": [
    "# programa_principal.py\n",
    "import formato_texto  # Importamos nuestro módulo\n",
    "\n",
    "texto = \"Hola, mundo\"\n",
    "\n",
    "print(\"Texto en negrita:\", formato_texto.negrita(texto))\n",
    "print(\"Texto en cursiva:\", formato_texto.italica(texto))\n",
    "print(\"Texto subrayado:\", formato_texto.subrayado(texto))\n",
    "print(\"Texto en mayúsculas:\", formato_texto.mayusculas(texto))\n"
   ]
  },
  {
   "cell_type": "markdown",
   "id": "d5bd47fc",
   "metadata": {},
   "source": [
    "Un módulo en Python es simplemente un archivo .py que contiene funciones o clases reutilizables.\n",
    "\n",
    "Lo importás en otro programa con import nombre_del_modulo.\n",
    "\n",
    "Luego podés usar sus funciones con la sintaxis nombre_modulo.función()."
   ]
  },
  {
   "cell_type": "markdown",
   "id": "41ccace2",
   "metadata": {},
   "source": [
    "**Desafío 4:**\n",
    "\n",
    "Utiliza el módulo `collections` para analizar un texto y generar estadísticas avanzadas, \n",
    "como las 10 palabras más comunes y su frecuencia. \n",
    "Extiende esto creando un gráfico de barras con matplotlib para visualizar la frecuencia de las palabras."
   ]
  },
  {
   "cell_type": "code",
   "execution_count": null,
   "id": "215f0ae5",
   "metadata": {},
   "outputs": [],
   "source": [
    "import collections\n",
    "import re\n",
    "import matplotlib.pyplot as plt\n",
    "\n",
    "# --- 1. Texto de Ejemplo y Stop Words (Palabras a Ignorar) ---\n",
    "TEXTO = \"\"\"\n",
    "El módulo collections en Python es excelente. La clase Counter, en particular, \n",
    "hace que contar elementos en una lista sea trivial. Usaremos Counter para analizar \n",
    "este texto y ver la frecuencia de las palabras. La visualización con matplotlib \n",
    "hace el resultado mucho más claro.\n",
    "\"\"\"\n",
    "\n",
    "STOP_WORDS = set(['el', 'la', 'los', 'las', 'un', 'una', 'es', 'de', 'en', 'para', 'con', 'que', 'este', 'este', 'este', 'este', 'este'])\n",
    "\n",
    "def analizar_y_graficar_conciso(texto):\n",
    "    # Limpieza: Convertir a minúsculas y extraer solo palabras.\n",
    "    palabras = re.findall(r'\\b\\w+\\b', texto.lower())\n",
    "    \n",
    "    # Filtrado: Eliminamos stop words y palabras de una sola letra.\n",
    "    palabras_limpias = [p for p in palabras if p not in STOP_WORDS and len(p) > 1]\n",
    "    \n",
    "    # 2. Conteo: Usamos Counter para contar y most_common(10) para el Top 10.\n",
    "    top_10 = collections.Counter(palabras_limpias).most_common(10)\n",
    "    \n",
    "    # Separar resultados para impresión y gráfico\n",
    "    palabras, frecuencias = zip(*top_10)\n",
    "    \n",
    "    print(\"--- Top 10 Palabras y Frecuencia ---\")\n",
    "    for p, f in top_10:\n",
    "        print(f\"'{p}': {f}\")\n",
    "\n",
    "    # 3. Visualización con Matplotlib\n",
    "    plt.figure(figsize=(10, 6))\n",
    "    plt.bar(palabras, frecuencias, color='#3498DB')\n",
    "    plt.title('Top 10 Frecuencias de Palabras')\n",
    "    plt.xlabel('Palabra')\n",
    "    plt.ylabel('Frecuencia')\n",
    "    plt.xticks(rotation=45, ha='right')\n",
    "    plt.tight_layout()\n",
    "    plt.show()\n",
    "\n",
    "# Ejecución\n",
    "if __name__ == \"__main__\":\n",
    "    analizar_y_graficar_conciso(TEXTO)"
   ]
  },
  {
   "cell_type": "markdown",
   "id": "5b3c7293",
   "metadata": {},
   "source": [
    "Este script utiliza tres librerías clave de Python: collections, re y matplotlib.\n",
    "\n",
    "Limpieza de Datos (re):\n",
    "\n",
    "re.findall(r'\\b\\w+\\b', texto.lower()): Esta línea convierte el texto a minúsculas y usa una expresión regular (\\b\\w+\\b) para encontrar todas las \"palabras\" (secuencias de caracteres alfanuméricos), ignorando signos de puntuación como comas o puntos.\n",
    "\n",
    "palabras_limpias = [p for p in palabras if ... ]: Usa una comprensión de listas muy concisa para filtrar las palabras obtenidas, excluyendo las definidas en STOP_WORDS y aquellas de una sola letra.\n",
    "\n",
    "Conteo de Frecuencias (collections.Counter):\n",
    "\n",
    "collections.Counter(palabras_limpias): Aquí está la magia. El objeto Counter toma la lista de palabras limpias y, automáticamente, crea un diccionario donde las claves son las palabras y los valores son sus frecuencias.\n",
    "\n",
    ".most_common(10): Este método, específico de Counter, devuelve las 10 entradas más frecuentes como una lista de tuplas (palabra, frecuencia).\n",
    "\n",
    "Visualización (matplotlib.pyplot):\n",
    "\n",
    "palabras, frecuencias = zip(*top_10): Esta línea es un truco conciso de Python. Usa zip(*top_10) para descomprimir la lista de tuplas [(p1, f1), (p2, f2), ...] en dos listas separadas: una con todas las palabras y otra con todas las frecuencias.\n",
    "\n",
    "plt.bar(palabras, frecuencias, ...): Crea el gráfico de barras utilizando las dos listas recién separadas.\n",
    "\n",
    "plt.show(): Muestra la ventana del gráfico."
   ]
  },
  {
   "cell_type": "markdown",
   "id": "ad90daba",
   "metadata": {},
   "source": [
    "**Desafío 5:**\n",
    "\n",
    "Utiliza el módulo `os` para interactuar con el sistema operativo y añade características como guardar un archivo o leer un archivo existente en nuestro procesador de texto."
   ]
  },
  {
   "cell_type": "markdown",
   "id": "19ea748a",
   "metadata": {},
   "source": [
    "import os\n",
    "\n",
    "# --- Funciones Esenciales ---\n",
    "\n",
    "def guardar(archivo, contenido):\n",
    "    \"\"\"Guarda contenido en el archivo (sobrescribe).\"\"\"\n",
    "    try:\n",
    "        with open(archivo, 'w', encoding='utf-8') as f:\n",
    "            f.write(contenido)\n",
    "        return f\"Guardado: '{archivo}'\"\n",
    "    except Exception as e:\n",
    "        return f\"Error al guardar: {e}\"\n",
    "\n",
    "def cargar(archivo):\n",
    "    \"\"\"Verifica con 'os' y lee el archivo.\"\"\"\n",
    "    if os.path.exists(archivo):\n",
    "        try:\n",
    "            with open(archivo, 'r', encoding='utf-8') as f:\n",
    "                return f.read()\n",
    "        except Exception as e:\n",
    "            return f\"Error de lectura: {e}\"\n",
    "    else:\n",
    "        return \"ERROR: Archivo no existe.\"\n"
   ]
  },
  {
   "cell_type": "markdown",
   "id": "84e65b35",
   "metadata": {},
   "source": [
    "import os: Importamos el módulo os (Operating System). Este módulo proporciona funciones para interactuar con el sistema operativo, como manipular rutas de archivos o verificar su existencia.\n",
    "Función para Guardar (guardar)\n",
    "Propósito: Toma un nombre de archivo (archivo) y el texto (contenido) y lo escribe en el disco.\n",
    "\n",
    "try...except: Se utiliza para manejar cualquier error que pueda ocurrir durante la operación de escritura (por ejemplo, si no hay permisos o espacio en disco).\n",
    "\n",
    "with open(archivo, 'w', encoding='utf-8') as f:: Esta es la forma estándar y segura de abrir archivos en Python.\n",
    "\n",
    "'w' (write): Indica el modo de escritura. Crea el archivo si no existe, o lo sobrescribe si ya existe.\n",
    "\n",
    "encoding='utf-8': Asegura que caracteres especiales (tildes, eñes) se guarden correctamente.\n",
    "\n",
    "El bloque with garantiza que el archivo se cierre automáticamente (f.close()), incluso si ocurre un error.\n",
    "\n",
    "f.write(contenido): Escribe el texto en el archivo.\n",
    "\n",
    " Función para Cargar (cargar)\n",
    " Propósito: Lee y devuelve el contenido de un archivo de texto.\n",
    "\n",
    "if os.path.exists(archivo):: Esta es la característica clave del módulo os que solicitaste. Antes de intentar abrir el archivo, esta función consulta al sistema operativo para verificar si la ruta especificada es válida y el archivo existe. Esto es una buena práctica de programación para evitar fallos.\n",
    "\n",
    "with open(archivo, 'r', ...): Abre el archivo.\n",
    "\n",
    "'r' (read): Indica el modo de lectura.\n",
    "\n",
    "return f.read(): Lee todo el contenido del archivo y lo devuelve como una cadena de texto.\n",
    "\n",
    "Manejo de Errores: Si el archivo no existe, devuelve un mensaje de ERROR. Si existe pero hay un problema de lectura (por ejemplo, el archivo está corrupto o siendo utilizado por otro programa), captura la Exception y devuelve un error de lectura"
   ]
  },
  {
   "cell_type": "markdown",
   "id": "9b10274e",
   "metadata": {},
   "source": [
    "**Desafio 6:**\n",
    "\n",
    "Calculadora de Fechas\n",
    "Objetivo:\n",
    "Escribir un programa en Python que permita calcular la diferencia entre dos fechas, utilizando el módulo `datetime.`"
   ]
  },
  {
   "cell_type": "code",
   "execution_count": null,
   "id": "afd2a5d6",
   "metadata": {},
   "outputs": [],
   "source": [
    "from datetime import datetime\n",
    "\n",
    "# Pedimos al usuario que ingrese las fechas en formato año-mes-día\n",
    "fecha1_str = input(\"Ingresa la primera fecha (AAAA-MM-DD): \")\n",
    "fecha2_str = input(\"Ingresa la segunda fecha (AAAA-MM-DD): \")\n",
    "\n",
    "# Convertimos las cadenas de texto a objetos datetime\n",
    "fecha1 = datetime.strptime(fecha1_str, \"%Y-%m-%d\")\n",
    "fecha2 = datetime.strptime(fecha2_str, \"%Y-%m-%d\")\n",
    "\n",
    "# Calculamos la diferencia entre las fechas\n",
    "diferencia = fecha2 - fecha1\n",
    "\n",
    "# Mostramos la diferencia en días\n",
    "print(f\"La diferencia entre las fechas es de {diferencia.days} días.\")\n"
   ]
  },
  {
   "cell_type": "markdown",
   "id": "5730eda8",
   "metadata": {},
   "source": [
    "Importar datetime:\n",
    "Necesitamos datetime para trabajar con fechas de manera fácil.\n",
    "\n",
    "Pedir fechas al usuario:\n",
    "input() captura lo que el usuario escribe. Se espera que sea algo como 2025-10-28.\n",
    "\n",
    "Convertir cadenas a fechas:\n",
    "datetime.strptime(texto, formato) convierte la cadena en un objeto datetime.\n",
    "Formato %Y-%m-%d:\n",
    "\n",
    "%Y → año con 4 dígitos\n",
    "\n",
    "%m → mes con 2 dígitos\n",
    "\n",
    "%d → día con 2 dígitos\n",
    "\n",
    "Restar fechas:\n",
    "Restar dos objetos datetime devuelve un objeto timedelta, que tiene un atributo .days que nos dice la cantidad de días de diferencia.\n",
    "\n",
    "Mostrar el resultado:\n",
    "diferencia.days nos da directamente los días entre las dos fechas."
   ]
  }
 ],
 "metadata": {
  "kernelspec": {
   "display_name": "Python 3",
   "language": "python",
   "name": "python3"
  },
  "language_info": {
   "codemirror_mode": {
    "name": "ipython",
    "version": 3
   },
   "file_extension": ".py",
   "mimetype": "text/x-python",
   "name": "python",
   "nbconvert_exporter": "python",
   "pygments_lexer": "ipython3",
   "version": "3.12.2"
  }
 },
 "nbformat": 4,
 "nbformat_minor": 5
}
