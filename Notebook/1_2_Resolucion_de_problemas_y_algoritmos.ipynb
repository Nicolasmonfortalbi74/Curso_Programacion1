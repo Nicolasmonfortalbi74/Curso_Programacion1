{
 "cells": [
  {
   "cell_type": "markdown",
   "metadata": {},
   "source": [
    "# 1. Introducción\n",
    "La resolución de problemas es una de las habilidades fundamentales en programación. Es la capacidad de diseñar una solución sistemática y eficiente para un problema dado, y luego implementarla en un lenguaje de programación como Python. Este tema abarca los conceptos esenciales y las técnicas utilizadas para abordar problemas de manera efectiva.\n",
    "\n",
    "# 2. Proceso de Resolución de Problemas\n",
    "El proceso de resolución de problemas puede dividirse en varias etapas, cada una de las cuales es crucial para desarrollar una solución eficaz:\n",
    "\n",
    "Comprender el problema: Antes de intentar resolver un problema, es vital comprenderlo completamente. Esto implica leer y analizar el enunciado del problema, identificar los datos de entrada y salida, y determinar las restricciones y los requisitos.\n",
    "\n",
    "Planificar la solución: Una vez que se entiende el problema, el siguiente paso es planificar una solución. Esto puede implicar la creación de un algoritmo o un conjunto de pasos que se deben seguir para resolver el problema.\n",
    "\n",
    "Dividir el problema: A menudo, los problemas complejos pueden ser divididos en subproblemas más pequeños y manejables. Esta técnica, conocida como \"divide y vencerás\", facilita el desarrollo y la implementación de la solución.\n",
    "\n",
    "Desarrollar un algoritmo: Un algoritmo es una secuencia finita de pasos bien definidos que resuelven un problema específico. Los algoritmos deben ser claros, precisos y eficientes.\n",
    "\n",
    "Implementar la solución: Una vez que se ha desarrollado un algoritmo, el siguiente paso es implementarlo en un lenguaje de programación. En nuestro caso, utilizaremos Python para este propósito.\n",
    "\n",
    "Probar y depurar: Después de implementar la solución, es importante probarla con diferentes casos de prueba para asegurar que funcione correctamente. Si se encuentran errores, deben ser depurados y corregidos.\n",
    "\n",
    "Documentar y refactorizar: Finalmente, es útil documentar el código y, si es necesario, refactorizarlo para mejorar su legibilidad y eficiencia.\n",
    "\n",
    "# 3. Algoritmos y Pseudocódigo\n",
    "Un algoritmo es una serie de pasos lógicos y finitos que conducen a la solución de un problema. El pseudocódigo es una herramienta utilizada para representar estos algoritmos de manera informal, sin la sintaxis estricta de un lenguaje de programación específico.\n",
    "\n",
    "Ejemplo de Pseudocódigo:\n",
    "\n",
    "Imaginemos que queremos crear un algoritmo para encontrar el número máximo en una lista de números. El pseudocódigo podría ser algo así:\n",
    "\n",
    "```textplain\n",
    "Inicio\n",
    "   Definir una lista de números\n",
    "   Definir una variable maximo y asignarle el primer número de la lista\n",
    "   Para cada número en la lista\n",
    "      Si el número es mayor que maximo\n",
    "         Asignar el valor de número a maximo\n",
    "   Fin para\n",
    "   Retornar maximo\n",
    "Fin"
   ]
  },
  {
   "cell_type": "markdown",
   "metadata": {
    "notebookRunGroups": {
     "groupValue": "1"
    }
   },
   "source": [
    "3.5 COMPLIAR UN PSEUDOCÓDIGO\n",
    "https://pseint.sourceforge.net/"
   ]
  },
  {
   "cell_type": "markdown",
   "metadata": {},
   "source": [
    "# 4. Implementación en Python\n",
    "El pseudocódigo anterior se puede implementar en Python de la siguiente manera:"
   ]
  },
  {
   "cell_type": "code",
   "execution_count": 3,
   "metadata": {},
   "outputs": [],
   "source": [
    "#Se define la función para buscar un número máximo en una lista\n",
    "def encontrar_maximo(lista):\n",
    "    maximo = lista[0]\n",
    "    for numero in lista:\n",
    "            if numero > maximo:\n",
    "                maximo = numero\n",
    "    return maximo\n",
    "#lista = [3, 5, 7, 8, 1, 4]\n",
    "#maximo = 8\n",
    "#numero = 8\n",
    "def encontrar_minimo(lista):\n",
    "    minimo = lista[0]\n",
    "    for numero in lista:\n",
    "        if numero < minimo:\n",
    "            minimo = numero\n",
    "    return minimo\n"
   ]
  },
  {
   "cell_type": "markdown",
   "metadata": {},
   "source": [
    "la función encontrar_maximo recibe un argumento llamado (lista) y devuelve el valor de la varia le maximo. Maximo, en este caso es un valor de la lista (lista).\n",
    "La lina maximo = lista(0) asigna a la variable maximo el primer valor de la lista.\n",
    "En la line for numero in lista: se recorre la lista y se asigna a numero el valor actual del elemento de la lista.\n",
    "La linea if numero > maximo: compara el valor de numero con el valor de maximo. \n",
    "maximo=numero asigna el valor de numero a maximo. Cuando se cumple la condicion especificada de numero > maximo.\n",
    "Return maximo, retorna al ser invocada la funcion de maximo."
   ]
  },
  {
   "cell_type": "code",
   "execution_count": 4,
   "metadata": {},
   "outputs": [
    {
     "name": "stdout",
     "output_type": "stream",
     "text": [
      "El número máximo es: 10\n"
     ]
    }
   ],
   "source": [
    "# Ejemplo de uso\n",
    "#numeros = [3, 5, 7, 8, 1, 4]\n",
    "\n",
    "numeros=[\"a\", \"b\", \"c\", \"8\", \"10\", \"233\"]\n",
    "minimo = encontrar_minimo(numeros)\n",
    "print(\"El número máximo es:\", minimo)"
   ]
  },
  {
   "cell_type": "code",
   "execution_count": null,
   "metadata": {},
   "outputs": [],
   "source": [
    "Si pongo comillas entre los números compara los valores otorgados a estos números según el código ascii, si no pongo comillas compara el número.\n",
    "En las letras si no pongo comillas lo toma como no definido. \n",
    "El mínimo o máximo elemento no siempre será el número mínimo ya que se puede utilizar palabras o letras entre comillas usando código ascii.\n",
    "Los valores que van entre comillas se llaman caracteres y si van sin comillas son variables. "
   ]
  },
  {
   "cell_type": "markdown",
   "metadata": {},
   "source": [
    "# 5. Estrategias de Resolución de Problemas\n",
    "Existen varias estrategias que se pueden emplear para resolver problemas de programación. Algunas de las más comunes incluyen:\n",
    "\n",
    "Top-down: Esta estrategia implica descomponer el problema en subproblemas más pequeños y resolver cada uno de ellos de manera secuencial. Es una técnica útil para problemas complejos que pueden dividirse en partes independientes.\n",
    "\n",
    "Bottom-up: En esta estrategia, se resuelven primero los subproblemas más pequeños y se utilizan sus soluciones para construir la solución del problema principal. Es útil cuando los subproblemas tienen dependencias entre sí.\n",
    "\n",
    "Recursión: La recursión es una técnica en la que una función se llama a sí misma para resolver subproblemas más pequeños del mismo tipo. Es especialmente útil para problemas que se pueden dividir en problemas similares de menor tamaño.\n",
    "\n",
    "Programación dinámica: Esta técnica se utiliza para resolver problemas complejos dividiéndolos en subproblemas más pequeños y almacenando las soluciones de los subproblemas para evitar cálculos repetitivos. Es útil para problemas que tienen una estructura de superposición de subproblemas.\n",
    "\n",
    "Greedy: \n",
    "\"Es difícil, si no imposible, definir con precisión qué se entiende por un algoritmo greedy. Un algoritmo es greedy si construye una solución en pequeños pasos, eligiendo una decisión en cada paso de manera miope para optimizar algún criterio subyacente.\"\n",
    "Referencia APA:\n",
    "Kleinberg, J., & Tardos, É. (2005). Algorithm Design (p. 116). Pearson.\n",
    "\n",
    "El algoritmo Greedy es una estrategia de resolución de problemas que construye una solución en pequeños pasos, tomando decisiones óptimas locales en cada paso con el objetivo de optimizar un criterio subyacente. Este enfoque miope implica elegir, en cada etapa, la opción que parece la mejor en ese momento sin considerar el impacto a largo plazo. Para implementarlo, primero se define el criterio de optimización. Luego, se procede iterativamente eligiendo la opción que maximiza (o minimiza) este criterio hasta que se completa la solución. Aunque no siempre garantiza la solución óptima global, el algoritmo Greedy es valioso por su simplicidad y eficiencia en una variedad de problemas, como la selección de intervalos, la construcción de árboles de expansión mínimos y la codificación de Huffman.\n",
    "\n",
    "# 6. Ejemplos de Problemas y Algoritmos\n",
    "A continuación, se presentan algunos ejemplos de problemas y algoritmos para ilustrar cómo se pueden aplicar las técnicas y estrategias de resolución de problemas.\n",
    "\n",
    "## Ejemplo 1: Encontrar el máximo común divisor (MCD)\n",
    "El problema consiste en encontrar el máximo común divisor de dos números. Un algoritmo conocido para resolver este problema es el algoritmo de Euclides.\n",
    "\n",
    "Pseudocódigo:\n",
    "\n",
    "```textplain\n",
    "Inicio\n",
    "   Definir dos números a y b\n",
    "   Mientras b no sea cero\n",
    "      Asignar a el valor de b\n",
    "      Asignar a b el residuo de a dividido por b\n",
    "   Fin mientras\n",
    "   Retornar a\n",
    "Fin\n",
    "Implementación en Python:\n",
    "\n",
    "\n"
   ]
  },
  {
   "cell_type": "code",
   "execution_count": 30,
   "metadata": {},
   "outputs": [
    {
     "name": "stdout",
     "output_type": "stream",
     "text": [
      "El MCD de 45 y 95 es: 5\n"
     ]
    }
   ],
   "source": [
    "def mcd(a, b):\n",
    "    while b != 0:\n",
    "        a, b = b, a % b\n",
    "    return a\n",
    "\n",
    "# Ejemplo de uso\n",
    "a = 45\n",
    "b = 95\n",
    "resultado = mcd(a, b)\n",
    "print(\"El MCD de\", a, \"y\", b, \"es:\", resultado)"
   ]
  },
  {
   "cell_type": "markdown",
   "metadata": {},
   "source": [
    "## Ejemplo 2: Ordenar una lista de números utilizando el algoritmo de selección\n",
    "El problema consiste en ordenar una lista de números en orden ascendente. El algoritmo de selección es un algoritmo simple que encuentra el elemento mínimo en cada iteración y lo coloca en la posición correcta.\n",
    "\n",
    "Pseudocódigo:\n",
    "\n",
    "```textplain\n",
    "Inicio\n",
    "   Para cada elemento en la lista\n",
    "      Encontrar el elemento mínimo en la sublista no ordenada\n",
    "      Intercambiar el elemento mínimo con el primer elemento de la sublista no ordenada\n",
    "   Fin para\n",
    "Fin\n",
    "Implementación en Python:\n"
   ]
  },
  {
   "cell_type": "code",
   "execution_count": 4,
   "metadata": {},
   "outputs": [
    {
     "name": "stdout",
     "output_type": "stream",
     "text": [
      "Lista ordenada: [11, 12, 22, 25, 64]\n"
     ]
    }
   ],
   "source": [
    "def ordenar_seleccion(lista):\n",
    "    for i in range(len(lista)):\n",
    "        min_index = i\n",
    "        for j in range(i + 1, len(lista)):\n",
    "            if lista[j] < lista[min_index]:\n",
    "                min_index = j\n",
    "        lista[i], lista[min_index] = lista[min_index], lista[i]\n",
    "    return lista\n",
    "\n",
    "# Ejemplo de uso\n",
    "numeros = [64, 25, 12, 22, 11]\n",
    "ordenados = ordenar_seleccion(numeros)\n",
    "print(\"Lista ordenada:\", ordenados)"
   ]
  },
  {
   "cell_type": "markdown",
   "metadata": {},
   "source": [
    "# Desafío 1: Suma de los primeros n números naturales\n",
    "Descripción: Escribe un algoritmo que calcule la suma de los primeros n números naturales.\n",
    "\n",
    "# Desafío 2: Número de elementos pares en una lista\n",
    "Descripción: Escribe un algoritmo que cuente el número de elementos pares en una lista de números."
   ]
  },
  {
   "cell_type": "markdown",
   "metadata": {},
   "source": [
    "Desafío 1\n",
    "Si n=10 la función de be dar el resultado de la suma de todos los números naturales menores e iguales a 10\n",
    "1+2+3+4+5+6+7+8+9+10.\n",
    "La operación suma es una operación binaria, por lo tanto, lo que realizamos es lo siguiente:\n",
    "1+2=3+3=6+4=10+5=15+6=21+7=28:\n",
    "1+2=3\n",
    "3+3=6 donde el primer 3 es el resultado de la fila anterior.\n",
    "6+4= 10 ya terminé? no, por que recién estoy sumando hasta el 4 y debo sumar hasta el 7, incluyendo el 7.\n",
    "10+ 5 = 15\n",
    "15+6 = 21\n",
    "21 + 7 = 28 aca paro, por qué el segundo sumando es el valor de n al que quería llegar, n = 7."
   ]
  },
  {
   "cell_type": "code",
   "execution_count": 45,
   "metadata": {},
   "outputs": [],
   "source": [
    "def suma_numeros_naturales(n):\n",
    "    #verificar que n sea un número natural\n",
    "    if n < 1:\n",
    "        return \"el valor de n debe ser un número natural mayor o igual a 1\"\n",
    "    #calcular la suma de los primeros n números naturales\n",
    "    suma = n * (n+1) // 2\n",
    "    return suma"
   ]
  },
  {
   "cell_type": "code",
   "execution_count": 46,
   "metadata": {},
   "outputs": [
    {
     "name": "stdout",
     "output_type": "stream",
     "text": [
      "La suma de los primeros 100 numeros naturales es:5050\n"
     ]
    }
   ],
   "source": [
    "#Ejemplo de uso\n",
    "n = 100\n",
    "resultado= suma_numeros_naturales(n)\n",
    "print(f\"La suma de los primeros {n} numeros naturales es:{resultado}\")"
   ]
  },
  {
   "cell_type": "code",
   "execution_count": 50,
   "metadata": {},
   "outputs": [
    {
     "name": "stdout",
     "output_type": "stream",
     "text": [
      "la suma de los primeros 7 números es: 28\n"
     ]
    }
   ],
   "source": [
    "def suma_n(n):\n",
    "    papel = 0\n",
    "    for i in range (n+1):\n",
    "        papel = papel + i\n",
    "    return papel\n",
    "\n",
    "print (\"la suma de los primeros 7 números es:\" , suma_n(7))\n",
    "\n",
    "        "
   ]
  },
  {
   "cell_type": "code",
   "execution_count": 53,
   "metadata": {},
   "outputs": [
    {
     "name": "stdout",
     "output_type": "stream",
     "text": [
      "La suma de los primeros  100  es: 5050\n"
     ]
    }
   ],
   "source": [
    "def suma_n(n):\n",
    "    papel=0\n",
    "    for i in range (n+1):\n",
    "        papel = papel+i\n",
    "    return papel\n",
    "def sum_n(n):\n",
    "    papel = n*(n+1)//2\n",
    "    return papel\n",
    "valor = 100\n",
    "print(\"La suma de los primeros \", valor,\" es:\" ,sum_n(valor))\n"
   ]
  },
  {
   "cell_type": "markdown",
   "metadata": {},
   "source": [
    "Desafío 2"
   ]
  },
  {
   "cell_type": "code",
   "execution_count": 27,
   "metadata": {},
   "outputs": [
    {
     "name": "stdout",
     "output_type": "stream",
     "text": [
      "Número de elementos pares: 5\n"
     ]
    }
   ],
   "source": [
    "def contar_pares(lista):\n",
    "    #inicializamos el contador de numeros pares\n",
    "    contador_pares = 0\n",
    "    \n",
    "    #Iteramos sobre cada elemento de la lista\n",
    "    for numero in lista:\n",
    "        #Verificamos si el número es par\n",
    "        if numero % 2 == 0:\n",
    "            #Incrementamos el contador si el número es par\n",
    "            contador_pares +=1\n",
    "    #Devolvemos el número total de elementos pares\n",
    "    return contador_pares\n",
    "\n",
    "# Ejemplo de uso\n",
    "lista_numeros = [1,2,3,4,5,6,7,8,9,10]\n",
    "print(\"Número de elementos pares:\", contar_pares(lista_numeros))  \n"
   ]
  }
 ],
 "metadata": {
  "kernelspec": {
   "display_name": "Python 3",
   "language": "python",
   "name": "python3"
  },
  "language_info": {
   "codemirror_mode": {
    "name": "ipython",
    "version": 3
   },
   "file_extension": ".py",
   "mimetype": "text/x-python",
   "name": "python",
   "nbconvert_exporter": "python",
   "pygments_lexer": "ipython3",
   "version": "3.13.2"
  }
 },
 "nbformat": 4,
 "nbformat_minor": 2
}
