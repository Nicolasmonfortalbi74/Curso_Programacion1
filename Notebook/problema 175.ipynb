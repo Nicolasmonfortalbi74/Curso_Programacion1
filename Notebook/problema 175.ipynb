{
 "cells": [
  {
   "cell_type": "code",
   "execution_count": null,
   "id": "83faa399",
   "metadata": {},
   "outputs": [],
   "source": [
    "Escribir un programa que determine si un número es armónico."
   ]
  },
  {
   "cell_type": "markdown",
   "id": "2c576e14",
   "metadata": {},
   "source": [
    "Un número armónico es la suma de los recíprocos de los primeros n números naturales. Matemáticamente, se define como:\n",
    "[ H_n = 1 + \\frac{1}{2} + \\frac{1}{3} + \\dots + \\frac{1}{n} ]\n",
    "Estos números aparecen en diversas áreas de la matemática, como la teoría de números y el análisis asintótico. También están relacionados con la serie armónica, que diverge a infinito aunque su crecimiento es muy lento\n"
   ]
  },
  {
   "cell_type": "markdown",
   "id": "6352da35",
   "metadata": {},
   "source": [
    "Imagina que tienes un grupo de amigos y decides repartir una pizza entre todos. Al principio, si hay solo una persona, se queda con toda la pizza. Pero si hay dos personas, cada una recibe la mitad. Si hay tres personas, cada una recibe un tercio, y así sucesivamente.\n",
    "Un número armónico es como sumar todas esas porciones de pizza a medida que agregas más amigos a la mesa:\n",
    "- 1 persona → 1 pizza entera\n",
    "- 2 personas → 1 + ½ pizza\n",
    "- 3 personas → 1 + ½ + ⅓ pizza\n",
    "- 4 personas → 1 + ½ + ⅓ + ¼ pizza\n",
    "Cada vez que agregas más personas, el tamaño de la porción que reciben es más pequeño, pero el total de pizza repartida sigue creciendo, aunque cada vez más lentamente.\n"
   ]
  },
  {
   "cell_type": "markdown",
   "id": "6fd185ad",
   "metadata": {},
   "source": [
    "Cada vez que agregas más personas, el tamaño individual de la porción disminuye, pero el total de pizza repartida sigue aumentando.\n",
    "Ahora, aunque el total de pizza distribuida crece, lo hace cada vez más lentamente porque las nuevas porciones son muy pequeñas. Por ejemplo:\n",
    "- De 1 a 2 personas, la nueva porción es ½.\n",
    "- De 2 a 3 personas, la nueva porción es ⅓ (más pequeña que ½).\n",
    "- De 3 a 4 personas, la nueva porción es ¼ (más pequeña que ⅓).\n",
    "Esto es lo mismo que sucede con los números armónicos: al sumar más fracciones, el total sigue creciendo, pero con aportes cada vez más pequeños.\n"
   ]
  },
  {
   "cell_type": "markdown",
   "id": "4b299473",
   "metadata": {},
   "source": [
    "Un número armónico generalmente se refiere a la suma de los recíprocos de los primeros n números naturales. Sin embargo, si deseas verificar si un número pertenece a la serie armónica, puedes hacerlo comparando si su valor coincide con la suma parcial de los recíprocos.\n"
   ]
  },
  {
   "cell_type": "code",
   "execution_count": 1,
   "id": "aceb25b6",
   "metadata": {},
   "outputs": [],
   "source": [
    "def es_armonico(numero, limite=100):\n",
    "    suma_armonica = 0\n",
    "\n"
   ]
  },
  {
   "cell_type": "markdown",
   "id": "9d9c079c",
   "metadata": {},
   "source": [
    "- La función es_armonico(numero, limite=100) busca si el número ingresado coincide con alguna suma parcial de la serie armónica.\n",
    "- Se inicializa suma_armonica = 0 para ir sumando los recíprocos de los números.\n",
    "- numero: el número que queremos verificar.\n",
    "- limite=100: el límite hasta el cual se calculará la suma armónica \n",
    "- Se crea la variable suma_armonica y se le asigna 0. Esta variable almacenará la suma de los recíprocos de los primeros n números.\n",
    "- Imagina que tienes un frasco vacío y vas agregando pequeñas cantidades de agua poco a poco. Al principio, el frasco está vacío (esto sería cuando la variable suma_armonica vale 0).\n",
    "Cada vez que agregas un poco más de agua, la cantidad total dentro del frasco aumenta. En el programa, lo que hacemos es sumar pequeñas fracciones de un número, como si estuviéramos agregando gotas al frasco.\n",
    "Por ejemplo, primero agregamos 1, luego ½, luego ⅓, luego ¼, y así sucesivamente. La variable suma_armonica guarda el total acumulado de todas esas pequeñas sumas.\n",
    "Al final, el frasco tiene una cantidad total de agua, que en nuestro caso es la suma de los recíprocos de los números. Así es como construimos la serie armónica en el código\n",
    "magina que tienes una alcancía 🏦 donde vas guardando monedas. Al principio, la alcancía está vacía (como cuando suma_armonica = 0).\n",
    "Cada vez que agregas una moneda, el dinero en la alcancía suma una nueva cantidad, pero cada vez es un valor más pequeño: \n",
    "1 Primero, agregas 1 moneda (total: 1).\n",
    "2️ Luego, agregas ½ moneda (total: 1 + ½).\n",
    "3 Después, agregas ⅓ de moneda (total: 1 + ½ + ⅓).\n",
    "4️ Luego, ¼ de moneda (total: 1 + ½ + ⅓ + ¼).\n",
    "Cada vez sumas un poco más, pero el valor agregado es cada vez más pequeño. Aunque sigas agregando monedas por mucho tiempo, el monto total seguirá creciendo lentamente.\n",
    "Este es el mismo principio que se usa en el cálculo de la serie armónica en matemáticas, pero aquí lo estamos viendo con monedas. En el código, la variable suma_armonica actúa como la alcancía, acumulando pequeñas fracciones en cada paso.\n",
    "\n",
    "\n",
    "\n"
   ]
  },
  {
   "cell_type": "code",
   "execution_count": 2,
   "id": "902f6910",
   "metadata": {},
   "outputs": [
    {
     "ename": "_IncompleteInputError",
     "evalue": "incomplete input (1228534398.py, line 1)",
     "output_type": "error",
     "traceback": [
      "  \u001b[36mCell\u001b[39m\u001b[36m \u001b[39m\u001b[32mIn[2]\u001b[39m\u001b[32m, line 1\u001b[39m\n\u001b[31m    \u001b[39m\u001b[31mfor i in range(1, limite + 1):\u001b[39m\n                                  ^\n\u001b[31m_IncompleteInputError\u001b[39m\u001b[31m:\u001b[39m incomplete input\n"
     ]
    }
   ],
   "source": [
    " for i in range(1, limite + 1):"
   ]
  },
  {
   "cell_type": "markdown",
   "id": "ccb5559a",
   "metadata": {},
   "source": [
    "Con la función for i inrang(1, límite +1) establecemos un bucle for que ejecuta el código dentro de él varias veces.\n",
    "Range (1, límite + 1) significa que i tomará valores desde 1 hasta límite.\n",
    "Si límite es 100, el bucle correerá 100 veces, con i avanzando de 1 a 100. Si fuese límite=5 tomaría 1,2,3,4,5 c´mo valores."
   ]
  },
  {
   "cell_type": "code",
   "execution_count": 3,
   "id": "56999c1e",
   "metadata": {},
   "outputs": [
    {
     "ename": "NameError",
     "evalue": "name 'suma_armonica' is not defined",
     "output_type": "error",
     "traceback": [
      "\u001b[31m---------------------------------------------------------------------------\u001b[39m",
      "\u001b[31mNameError\u001b[39m                                 Traceback (most recent call last)",
      "\u001b[36mCell\u001b[39m\u001b[36m \u001b[39m\u001b[32mIn[3]\u001b[39m\u001b[32m, line 1\u001b[39m\n\u001b[32m----> \u001b[39m\u001b[32m1\u001b[39m \u001b[43msuma_armonica\u001b[49m += \u001b[32m1\u001b[39m / i\n",
      "\u001b[31mNameError\u001b[39m: name 'suma_armonica' is not defined"
     ]
    }
   ],
   "source": [
    "suma_armonica += 1 / i"
   ]
  },
  {
   "cell_type": "markdown",
   "id": "b75bc7bd",
   "metadata": {},
   "source": [
    "Suma_armonica += 1/i suma el recíproco de i a suma_armonica.\n",
    "En la primera iteración (i=1) la suma sera 1/1 0 1.\n",
    "En la segunda (i=2), se agrega 1/2= 0'5 dando un total de 1.5.\n",
    "En la tercera un tercio y así sucesivamente.\n",
    "Así con cada iteración, suma_armonica, crece siguiento la serie armonica."
   ]
  },
  {
   "cell_type": "code",
   "execution_count": null,
   "id": "b0547f37",
   "metadata": {},
   "outputs": [],
   "source": [
    "if round(suma_armonica, 6) == round(numero, 6):\n",
    "            return True\n",
    "\n",
    "    return False\n",
    "\n"
   ]
  },
  {
   "cell_type": "markdown",
   "id": "9cb4b8d9",
   "metadata": {},
   "source": [
    "If round(suma_armonica, 6) == round(numero6): revisa si suma_armonica coincide con el número ingersado por el usuario.\n",
    "Round(uma_armonica,6) redondea el valor a 6 decimales para evitar errores de precisión con números flotantes.\n",
    "Si suma_armonica es igual a numero, la función retorna True, indicando que el número pertenece a la serie armónica.\n",
    "Por ejemplo, si el usuario ingresa 3'345678 la función verificará si en algún momento la suma armónica alcanza ese dalor. Si ello sucede, devuelve True."
   ]
  },
  {
   "cell_type": "markdown",
   "id": "3b46d704",
   "metadata": {},
   "source": [
    "4 return False (si no hubo coincidencia)\n",
    "Si después de todas las iteraciones la suma armónica nunca coincide con numero, el programa llega a esta línea y devuelve False, indicando que el número NO pertenece a la serie armónica.\n",
    "💡 Ejemplo:\n",
    "Si ingresamos 5.5, pero la suma armónica nunca alcanza ese valor dentro del límite, la función devolverá False.\n"
   ]
  },
  {
   "cell_type": "markdown",
   "id": "8ef3b35f",
   "metadata": {},
   "source": [
    "Técnicamente, no es necesario incluir else antes de return False en este caso, porque el return False está fuera del bucle for.\n",
    "- El for recorre los números de 1 hasta limite, sumando los recíprocos.\n",
    "- Si en algún momento suma_armonica coincide con numero, la función retorna True inmediatamente y termina la ejecución.\n",
    "- Si el bucle finaliza sin encontrar una coincidencia, la función llega al return False, que se ejecuta solo si el if nunca devolvió True.\n",
    "- Si agregáramos else antes del return False, funcionaría igual, pero no es obligatorio.\n",
    "\n"
   ]
  },
  {
   "cell_type": "code",
   "execution_count": null,
   "id": "eba5a3d0",
   "metadata": {},
   "outputs": [],
   "source": [
    "num = float(input(\"Ingresa un número: \"))"
   ]
  },
  {
   "cell_type": "markdown",
   "id": "d7d0c697",
   "metadata": {},
   "source": [
    "Pedimos al usuario que ingrese un número decimal con la funcion float(input)."
   ]
  },
  {
   "cell_type": "code",
   "execution_count": null,
   "id": "9c8fb6d6",
   "metadata": {},
   "outputs": [],
   "source": [
    "# Verificamos si es armónico\n",
    "if es_armonico(num):\n",
    "    print(f\"{num} es parte de la serie armónica.\")\n",
    "else:\n",
    "    print(f\"{num} NO es parte de la serie armónica.\")\n"
   ]
  },
  {
   "cell_type": "markdown",
   "id": "cc3ffbb6",
   "metadata": {},
   "source": [
    "Verificamos si es armónico, con la función if, si lo és le pedimos que imprima que es parte de la serie armónica, y si no lo es le pedimos que imprima que NO es parte de la serie armónica.\n",
    "If se encarga de evaluar el resultado de la función.\n",
    "Utilizamos cadenas de formato (f-strings) para insertar valores de variables dentro de un texto. En este la variable es el número ingresado por el usuario, y definirá si es o no es partede la serie armónica."
   ]
  },
  {
   "cell_type": "code",
   "execution_count": 13,
   "id": "27ef2f1e",
   "metadata": {},
   "outputs": [
    {
     "name": "stdout",
     "output_type": "stream",
     "text": [
      "4.343434 NO es parte de la serie armónica.\n"
     ]
    }
   ],
   "source": [
    "def es_armonico(numero, limite=100):\n",
    "    suma_armonica = 0\n",
    "\n",
    "    for i in range(1, limite + 1):\n",
    "        suma_armonica += 1 / i\n",
    "        if round(suma_armonica, 6) == round(numero, 6):\n",
    "            return True\n",
    "\n",
    "    return False\n",
    "\n",
    "# Pedimos al usuario un número\n",
    "num = float(input(\"Ingresa un número: \"))\n",
    "\n",
    "# Verificamos si es armónico\n",
    "if es_armonico(num):\n",
    "    print(f\"{num} es parte de la serie armónica.\")\n",
    "else:\n",
    "    print(f\"{num} NO es parte de la serie armónica.\")\n"
   ]
  }
 ],
 "metadata": {
  "kernelspec": {
   "display_name": "Python 3",
   "language": "python",
   "name": "python3"
  },
  "language_info": {
   "codemirror_mode": {
    "name": "ipython",
    "version": 3
   },
   "file_extension": ".py",
   "mimetype": "text/x-python",
   "name": "python",
   "nbconvert_exporter": "python",
   "pygments_lexer": "ipython3",
   "version": "3.13.2"
  }
 },
 "nbformat": 4,
 "nbformat_minor": 5
}
