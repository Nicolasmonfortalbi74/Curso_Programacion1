{
 "cells": [
  {
   "cell_type": "code",
   "execution_count": null,
   "id": "893c6eac",
   "metadata": {},
   "outputs": [],
   "source": [
    "Problema 187: escribir un programa en python que calcule el área de un triángulo dado sus tres lados."
   ]
  },
  {
   "cell_type": "markdown",
   "id": "889db428",
   "metadata": {},
   "source": [
    "Puedes calcular el área de un triángulo con la fórmula de Herón, que utiliza los tres lados del triángulo para obtener el área sin necesidad de conocer la altura."
   ]
  },
  {
   "cell_type": "code",
   "execution_count": 9,
   "id": "3d45f649",
   "metadata": {},
   "outputs": [
    {
     "name": "stdout",
     "output_type": "stream",
     "text": [
      "El área del triángulo es: 9.17\n"
     ]
    }
   ],
   "source": [
    "import math\n",
    "\n",
    "def calcular_area_triangulo(a: float, b: float, c: float) -> float:\n",
    "    \"\"\" Calcula el área de un triángulo utilizando la fórmula de Herón. \"\"\"\n",
    "    s = (a + b + c) / 2  # Calculamos el semiperímetro\n",
    "    area = math.sqrt(s * (s - a) * (s - b) * (s - c))  # Aplicamos la fórmula de Herón\n",
    "    return area\n",
    "\n",
    "# Solicitar los lados al usuario\n",
    "lado1 = float(input(\"Ingrese el primer lado: \"))\n",
    "lado2 = float(input(\"Ingrese el segundo lado: \"))\n",
    "lado3 = float(input(\"Ingrese el tercer lado: \"))\n",
    "\n",
    "# Verificar si los lados forman un triángulo válido\n",
    "if (lado1 + lado2 > lado3) and (lado1 + lado3 > lado2) and (lado2 + lado3 > lado1):\n",
    "    print(f\"El área del triángulo es: {calcular_area_triangulo(lado1, lado2, lado3):.2f}\")\n",
    "else:\n",
    "    print(\"Los lados ingresados no forman un triángulo válido.\")"
   ]
  },
  {
   "cell_type": "markdown",
   "id": "ef8e05bc",
   "metadata": {},
   "source": [
    "El programa verifica si los lados ingresados cumplen con la desigualdad triangular, es decir, que la suma de dos lados siempre sea mayor que el tercero. Si los lados forman un triángulo válido, calcula el área utilizando la fórmula de Herón y muestra el resultado."
   ]
  },
  {
   "cell_type": "markdown",
   "id": "244f6609",
   "metadata": {},
   "source": [
    "En primer lugar la instrucción import math en Python importa el módulo math, que proporciona funciones matemáticas avanzadas que no están disponibles por defecto en Python. "
   ]
  },
  {
   "cell_type": "markdown",
   "id": "d0056b37",
   "metadata": {},
   "source": [
    "En segundo lugar definimos la función:\n",
    "- Def calcular_area_triangulo(...) indica que estamos definiendo una función llamada calcular_area_triangulo.\n",
    "- A: float, b: float, c: float son los parámetros de la función, los tres lados del triángulo. Se específica que deben ser número del tipo float, es decir que pueden contener decimales. Python también nos aceptará números naturales (5'000000).\n",
    "- Float indica que devuelve un valor flotante, es decir, el área del triángulo."
   ]
  },
  {
   "cell_type": "markdown",
   "id": "7ae81133",
   "metadata": {},
   "source": [
    "Docstring, es un comentario explicativo entre triple comillas que sirve como documentación para la función. Explica brevemente su propósito."
   ]
  },
  {
   "cell_type": "markdown",
   "id": "c2050383",
   "metadata": {},
   "source": [
    "Cálculo del Semiperímetro.\n",
    "s = (a + b + c) / 2 # Calculamos el semiperímtetro.\n",
    "La fórmula de Herón requiere calcular primero el semiperímetro, que es la mitad de la suma de los tres lados."
   ]
  },
  {
   "cell_type": "markdown",
   "id": "5a295e69",
   "metadata": {},
   "source": [
    "Cálculo del área con la fórmula de Herón:\n",
    "área = math.sqrt(s * (s-a) * (s-b) * (s-c)) # Aplicamos la fórmula de Herón.\n",
    "- Se usa mat.sqrt(...) para calcular la raíz cuadrada de la expresión de Herón.\n",
    "- La Fórmula de Herón es:\n",
    "[A = \\sqrt{s(s-a)(s-b)(s-c)}].\n",
    "- Esta ecuación utiliza el semiperímetro s y los tres lados a b y c para obetener el área del triángulo.\n"
   ]
  },
  {
   "cell_type": "markdown",
   "id": "6b4088d9",
   "metadata": {},
   "source": [
    "Retorno del resultado: return area.\n",
    "- Devuelve el valor calculado, es decir, el área del triángulo."
   ]
  },
  {
   "cell_type": "markdown",
   "id": "bc1c4357",
   "metadata": {},
   "source": [
    "# Solicitar los lados al usuario\n",
    "lado1 = float(input(\"Ingrese el primer lado: \"))\n",
    "lado2 = float(input(\"Ingrese el segundo lado: \"))\n",
    "lado3 = float(input(\"Ingrese el tercer lado: \"))\n",
    "Eset fragmento solicita al usuario que ingrese los tres lados de un triángulo y los converte a tipo float para asegurarse de que sean números decimales."
   ]
  },
  {
   "cell_type": "markdown",
   "id": "b3e83244",
   "metadata": {},
   "source": [
    "1. Lado1 = float(input(\"Ingrese el primer lado: \"))\n",
    "    - La función input() solicita al usuario que introduzca un valor desde el teclado.\n",
    "    - Float(...) convierte ese valor en un número decimal (float), permitiendo valores con decimales.\n",
    "2. Lado2 = float(input(\"Ingrese el segundo lado: \"))\n",
    "    - Hace lo mismo para el segundo lado.\n",
    "3. Lado3= float(input(\"Ingrese el tercer lado: \"))\n",
    "    - Lo mismo para el tercero"
   ]
  },
  {
   "cell_type": "markdown",
   "id": "e0a54eca",
   "metadata": {},
   "source": [
    "Validación de entrada: si el usuario ingresa texto en lugar de un número, el programa generará un error. Para evitarlo puedes usar la excepción try-except:\n",
    "Except VAlue error:\n",
    "    print(\"Error: Debes ingresar un número válido.)"
   ]
  },
  {
   "cell_type": "markdown",
   "id": "81c6aeef",
   "metadata": {},
   "source": [
    "# Verificar si los lados forman un triángulo válido\n",
    "if (lado1 + lado2 > lado3) and (lado1 + lado3 > lado2) and (lado2 + lado3 > lado1):"
   ]
  },
  {
   "cell_type": "markdown",
   "id": "5c5c672f",
   "metadata": {},
   "source": [
    "1. Verificación de la desigualdad triangular:\n",
    "if (lado1 + lado2 > lado3) and (lado1 + lado3 > lado2) and (lado2 + lado3 > lado1):\n",
    "- Esta condición verifica si los tres lados ingersados cmplen con la desiualdad triangular, regla matemática que establece que la suma de dos lados de un triángulo siempre debe ser mayor que el tercer lado.\n",
    "- Si esta condición es verdadera, significa que los lados forman un triángulo válido.\n"
   ]
  },
  {
   "cell_type": "markdown",
   "id": "ee2b8d0b",
   "metadata": {},
   "source": [
    "Ejemplos de triángulo válido:\n",
    "lados: 3, 4, 5:\n",
    "3 + 4 > 5 Verdadero\n",
    "3 + 5 > 4 Verdadero\n",
    "4 + 5 > 3 Verdadero\n",
    "Ejemplos inválidos: 1, 2, 3\n",
    "1 + 2 > 3 Falso. Esto significa que los lados no forma un triángulo."
   ]
  },
  {
   "cell_type": "markdown",
   "id": "8ce5e6c1",
   "metadata": {},
   "source": [
    "print(f\"El área del triángulo es: {calcular_area_triangulo(lado1, lado2, lado3):.2f}\"):\n",
    "Cálculo del ára si los lados son válidos. \n",
    "- Si la condición anterior se cumple, el código llama a la función calcular_area_triangulo(lado1,lado2,lado3),\n",
    "- La función calcula el área usando la fórmula de Herón y la imprime con dos decimales (:2.f)."
   ]
  },
  {
   "cell_type": "markdown",
   "id": "3801b0e2",
   "metadata": {},
   "source": [
    "else:\n",
    "    print(\"Los lados ingresados no forman un triángulo válido.\"):\n",
    "Mensaje de error si los lados no forman un triángulo.\n",
    "Si los lados no cumplen la condición, el programa muestar el mensaje de error.\n",
    "Esto evita cáculos incorrectos y le informa al usuario de que los vlaores ingresados no forman un triángulo.\n"
   ]
  }
 ],
 "metadata": {
  "kernelspec": {
   "display_name": "Python 3",
   "language": "python",
   "name": "python3"
  },
  "language_info": {
   "codemirror_mode": {
    "name": "ipython",
    "version": 3
   },
   "file_extension": ".py",
   "mimetype": "text/x-python",
   "name": "python",
   "nbconvert_exporter": "python",
   "pygments_lexer": "ipython3",
   "version": "3.13.2"
  }
 },
 "nbformat": 4,
 "nbformat_minor": 5
}
