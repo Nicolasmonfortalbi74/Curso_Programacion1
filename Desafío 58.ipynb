{
 "cells": [
  {
   "cell_type": "code",
   "execution_count": null,
   "id": "9e4bfd64",
   "metadata": {},
   "outputs": [],
   "source": [
    "Crea una clase Bibliotecario que herede de Usuario y tenga atributos específicos como sección y años_experiencia."
   ]
  },
  {
   "cell_type": "code",
   "execution_count": 1,
   "id": "cf2763ab",
   "metadata": {},
   "outputs": [
    {
     "name": "stdout",
     "output_type": "stream",
     "text": [
      "Nombre: Laura Gómez\n",
      "Correo: laura@biblioteca.com\n",
      "Sección: Historia\n",
      "Años de experiencia: 8\n"
     ]
    }
   ],
   "source": [
    "# Clase base Usuario\n",
    "class Usuario:\n",
    "    def __init__(self, nombre, correo):\n",
    "        self.nombre = nombre\n",
    "        self.correo = correo\n",
    "\n",
    "    def mostrar_info(self):\n",
    "        print(f\"Nombre: {self.nombre}\")\n",
    "        print(f\"Correo: {self.correo}\")\n",
    "\n",
    "# Clase derivada Bibliotecario\n",
    "class Bibliotecario(Usuario):\n",
    "    def __init__(self, nombre, correo, seccion, años_experiencia):\n",
    "        super().__init__(nombre, correo)\n",
    "        self.seccion = seccion\n",
    "        self.años_experiencia = años_experiencia\n",
    "\n",
    "    def mostrar_info(self):\n",
    "        super().mostrar_info()\n",
    "        print(f\"Sección: {self.seccion}\")\n",
    "        print(f\"Años de experiencia: {self.años_experiencia}\")\n",
    "\n",
    "# Ejemplo de uso\n",
    "biblio = Bibliotecario(\"Laura Gómez\", \"laura@biblioteca.com\", \"Historia\", 8)\n",
    "biblio.mostrar_info()"
   ]
  },
  {
   "cell_type": "markdown",
   "id": "d0e6f5e9",
   "metadata": {},
   "source": [
    "Class Usuario:\n",
    "- Define una nueva clase llamada Usuario.\n",
    "- Todo lo que esté indentado dentro de esta clase será parte de ella.\n",
    "- class Usuario: define una clase llamada Usuario, que representa a una persona genérica en el sistema.\n",
    "- __init__ es el constructor: se ejecuta cuando se crea un nuevo objeto. Recibe nombre y correo como parámetros y los guarda como atributos del objeto.\n",
    "- mostrar_info es un método que imprime la información del usuario (nombre y correo).\n",
    "\n",
    "Def __init__(self, nombre, correo):\n",
    "- Este es el constructor de la clase. Se llama automáticamente cuando creas un nuevo objeto.\n",
    "- self representa el objeto que se está creando. Es obligatorio en todos los métodos de clase.\n",
    "- nombre y correo son parámetros que se pasan al crear el objeto.\n",
    "- __init__ es un método especial en Python que se ejecuta automáticamente cuando se crea un nuevo objeto de una clase. Sirve para inicializar los atributos del objeto.\n",
    "\n",
    "Self.nombre = nombre\n",
    "- Guarda el valor del parámetro nombre dentro del objeto como un atributo.\n",
    "- Así, cada usuario tendrá su propio nombre.\n",
    "Self.correo = correo\n",
    "- Lo mismo, pero para el correo electrónico.\n",
    "\n",
    "- class Bibliotecario(Usuario): crea una clase que hereda de Usuario. Esto significa que Bibliotecario tiene todos los atributos y métodos de Usuario, más los suyos propios.\n",
    "- __init__ recibe los datos del usuario más dos nuevos: seccion y años_experiencia.\n",
    "- Usa super().__init__(nombre, correo) para llamar al constructor de Usuario y no repetir código.\n",
    "- Luego guarda los nuevos atributos específicos del bibliotecario.\n",
    "- mostrar_info sobrescribe el método de la clase base:\n",
    "- Primero llama a super().mostrar_info() para mostrar nombre y correo.\n",
    "- Luego imprime la sección y los años de experiencia.\n",
    "\n",
    "Finalmente con el ejemplo de uso creamos un objeto llamado biblio de la clase Bibliotecario.\n",
    "- Le pasamos los datos: nombre, correo, sección y años de experiencia.\n",
    "- Luego llamamos al método mostrar_info() para imprimir toda la información del bibliotecario.\n",
    "\n",
    "\n",
    "\n"
   ]
  }
 ],
 "metadata": {
  "kernelspec": {
   "display_name": "Python 3",
   "language": "python",
   "name": "python3"
  },
  "language_info": {
   "codemirror_mode": {
    "name": "ipython",
    "version": 3
   },
   "file_extension": ".py",
   "mimetype": "text/x-python",
   "name": "python",
   "nbconvert_exporter": "python",
   "pygments_lexer": "ipython3",
   "version": "3.13.6"
  }
 },
 "nbformat": 4,
 "nbformat_minor": 5
}
