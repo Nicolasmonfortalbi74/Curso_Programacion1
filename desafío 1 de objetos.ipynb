{
 "cells": [
  {
   "cell_type": "code",
   "execution_count": null,
   "id": "833deab1",
   "metadata": {},
   "outputs": [],
   "source": [
    "### Desafío 1\n",
    "Amplía la clase Autor para incluir una lista de libros escritos por el autor. Implementa métodos para agregar y eliminar libros de esta lista.\n"
   ]
  },
  {
   "cell_type": "code",
   "execution_count": null,
   "id": "e4ede5f7",
   "metadata": {},
   "outputs": [
    {
     "name": "stdout",
     "output_type": "stream",
     "text": [
      "Libro 'La tregua' agregado.\n",
      "Libro 'Gracias por el fuego' agregado.\n",
      "Libro 'La tregua' eliminado.\n",
      "Nombre: Mario Benedetti\n",
      "Nacionalidad: Uruguayo\n",
      "Libros:\n",
      " - Gracias por el fuego\n",
      "Libro 'Romancero_gitano' agregado.\n",
      "Nombre: Federico García Lorca\n",
      "Nacionalidad: Español\n",
      "Libros:\n",
      " - Romancero_gitano\n",
      "Libro 'El Silmarillion' agregado.\n",
      "Libro 'El hobbit' agregado.\n",
      "Libro 'historias de la edad media' agregado.\n",
      "Libro 'diccionario élfico' agregado.\n",
      "Nombre: J.R.R Tolkien\n",
      "Nacionalidad: Británico\n",
      "Libros:\n",
      " - El Silmarillion\n",
      " - El hobbit\n",
      " - historias de la edad media\n",
      " - diccionario élfico\n"
     ]
    }
   ],
   "source": [
    "class Autor:\n",
    "    # Constructor de la clase\n",
    "    def __init__(self, nombre=\"\", nacionalidad=\"\"):\n",
    "        self.nombre = nombre\n",
    "        self.nacionalidad = nacionalidad\n",
    "        self.libros = []  # Lista de libros escritos por el autor\n",
    "\n",
    "    # Método para mostrar los detalles del autor\n",
    "    def mostrar_autor(self):\n",
    "        print(f\"Nombre: {self.nombre}\")\n",
    "        print(f\"Nacionalidad: {self.nacionalidad}\")\n",
    "        print(\"Libros:\")\n",
    "        if self.libros:\n",
    "            for libro in self.libros:\n",
    "                print(f\" - {libro}\")\n",
    "        \n",
    "\n",
    "  \n",
    "    def agregar_libro(self, libro):\n",
    "        if libro not in self.libros:\n",
    "            self.libros.append(libro)\n",
    "            print(f\"Libro '{libro}' agregado.\")\n",
    "      \n",
    "\n",
    "    def eliminar_libro(self, libro):\n",
    "        if libro in self.libros:\n",
    "            self.libros.remove(libro)\n",
    "            print(f\"Libro '{libro}' eliminado.\")\n",
    "        \n",
    "\n",
    "\n",
    "autor1 = Autor(\"Mario Benedetti\", \"Uruguayo\")\n",
    "autor1.agregar_libro(\"La tregua\")\n",
    "autor1.agregar_libro(\"Gracias por el fuego\")\n",
    "autor1.eliminar_libro(\"La tregua\")\n",
    "autor1.mostrar_autor()\n",
    "\n",
    "autor2 = Autor(\"Federico García Lorca\", \"Español\")\n",
    "autor2.agregar_libro(\"Romancero_gitano\")\n",
    "autor2.mostrar_autor()\n",
    "\n",
    "autor3 = Autor(\"J.R.R Tolkien\", \"Británico\")\n",
    "autor3.agregar_libro(\"El Silmarillion\")\n",
    "autor3.agregar_libro(\"El hobbit\")\n",
    "autor3.agregar_libro(\"historias de la edad media\")\n",
    "autor3.agregar_libro(\"diccionario élfico\")\n",
    "autor3.mostrar_autor()"
   ]
  }
 ],
 "metadata": {
  "kernelspec": {
   "display_name": "Python 3",
   "language": "python",
   "name": "python3"
  },
  "language_info": {
   "codemirror_mode": {
    "name": "ipython",
    "version": 3
   },
   "file_extension": ".py",
   "mimetype": "text/x-python",
   "name": "python",
   "nbconvert_exporter": "python",
   "pygments_lexer": "ipython3",
   "version": "3.13.2"
  }
 },
 "nbformat": 4,
 "nbformat_minor": 5
}
