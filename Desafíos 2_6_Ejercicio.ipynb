{
 "cells": [
  {
   "cell_type": "code",
   "execution_count": null,
   "id": "738e511e",
   "metadata": {},
   "outputs": [],
   "source": [
    "DESAFÍOS "
   ]
  },
  {
   "cell_type": "markdown",
   "id": "4bbe9ba1",
   "metadata": {},
   "source": [
    "🔹 Desafío 1: Calificaciones aprobadas\n",
    "Contar cuántos estudiantes aprobaron y cuántos no, considerando 7 como nota mínima de aprobación. Usá condicionales para resolver el problema."
   ]
  },
  {
   "cell_type": "code",
   "execution_count": null,
   "id": "d4b9a110",
   "metadata": {},
   "outputs": [
    {
     "name": "stdout",
     "output_type": "stream",
     "text": [
      "La cantidad de aprobados es 5\n"
     ]
    }
   ],
   "source": [
    "Calificaciones = [12,1,6,9,10,5,4,8,9]\n",
    "Aprobado = 0\n",
    "No_aprobado = 0\n",
    "for nota in Calificaciones:\n",
    "    if nota >= 7:\n",
    "        Aprobado = Aprobado+1\n",
    "    else:\n",
    "        No_aprobado = No_aprobado +1\n",
    "        \n",
    "print (f\"La cantidad de aprobados es {Aprobado}\")\n",
    "\n",
    "# Creamos una lista con las calificaciones.\n",
    "# Determinamos que en principo hay 0 aprobados y 0 no aprobados.\n",
    "# Utilizamos la función for para recorrer la lista y determinamos que si la nota es mayor o igual a 7, se sumará uno al número\n",
    "# De aprobados, si es menor, se sumará uno a la listade no aprobados.\n",
    "# Lo imprimiimos utilizando la f\" que indica que se está utilizando una f-string, que permite insertar variables directamente\n",
    "# Dentro de una cadena de texto sin necesidad de concatenarlas manualmente.\n",
    "# Se utilizan las llaves {} para incluir los valores dentro del string.\n",
    "\n"
   ]
  },
  {
   "cell_type": "markdown",
   "id": "68f7bce0",
   "metadata": {},
   "source": [
    " Desafío 2: Mejora del cálculo\n",
    "Modificar el código del cálculo de promedio para que permita ingresar todas las calificaciones en una sola línea, separadas por comas, y luego calcular el promedio automáticamente."
   ]
  },
  {
   "cell_type": "code",
   "execution_count": 2,
   "id": "56ac94e2",
   "metadata": {},
   "outputs": [
    {
     "name": "stdout",
     "output_type": "stream",
     "text": [
      "El promedio de las calificaciones es: 6.428571428571429\n"
     ]
    }
   ],
   "source": [
    "suma_calificaciones = 0\n",
    "contador_asignaturas = 0\n",
    "\n",
    "calificacion = int(input(\"Ingrese una calificación (entre 1 y 12) o 0 para terminar: \"))\n",
    "\n",
    "while calificacion != 0:\n",
    "    suma_calificaciones += calificacion\n",
    "    contador_asignaturas += 1\n",
    "    calificacion = int(input(\"Ingrese una calificación (entre 1 y 12) o 0 para terminar: \"))\n",
    "\n",
    "promedio = suma_calificaciones / contador_asignaturas\n",
    "print(f\"El promedio de las calificaciones es: {promedio}\")\n",
    "\n",
    "# suma_calificaciones almacenará el total de calificaciones, y contador_asignaturas contará cuantas calificaciones se ingresaron.\n",
    "# Utilizamos la función int para pedir al usuario que ingrese un dato. \n",
    "# Para que devuelva un valor numérico y no un string, utilizamos la función int, de forma que si el usuario \n",
    "# Ingresa algo que no sea un número, el programa generará error.\n",
    "# Input recibe el texto ingresario por el usuario y int convierte ese texto en un número entero.\n",
    "# Si sólo estuviese input pediría una cadena e textos o string, pero al tener int delante me pedirá que ingrese un número.\n",
    "# Utilizamos el bucle while para pedir al usuario múltiples calificaciones y calcular su promedio. \n",
    "# La condición del while calificación != 0 significa que el bucle se ejecuta mientras la calificación sea diferente a 0.\n",
    "# Si el usuario ingresa 0, el bucle se termina.\n",
    "# Sumamos las calificaciones con Suma_calificaciones += calificación. \n",
    "# Se agrega cada calificación a la variable suma_calificaciones, que almacena el total de puntos. \n",
    "# Contador_asignaturas += 1 aumentará el contador de asignatuars en 1 por cada valor de suma_calificaciones que introducimos.\n",
    "# repetimos el calificacion = int(input...) para volver a pedir un valor numérico como calificación, o 0 para salir, para terminar.\n",
    "# Se pide una nueva calificación al usuario hasta que ingrese 0 y finalice el bucle.\n",
    "# Así suma_calificaciones contendrá una suma de todos los valores numéricos que haya ingresado el usuario, mientras que\n",
    "# Contador_asigntarutas contendrá el total de veces que el usuario haya ingresado valores.\n",
    "# El promedio se calcula dividiendo la suma_calificaciones entre el contador_asignaturas, es decir, la suma de las notas\n",
    "# Entre el número de notas.\n",
    "# De nuevo, imprimimos usando un f-string para imprimir la frase \"El promedio de calificaciones\" insertando el valor\n",
    "# numérico resultante del promedio{promedio} obtenido por la operación relalizada anteriormente (suma_calificaciones/contador_asignaturas).\n",
    "\n",
    "\n",
    "\n",
    "\n"
   ]
  },
  {
   "cell_type": "markdown",
   "id": "c81be2ba",
   "metadata": {},
   "source": [
    "Vas a simular una carrera de autos. Cada auto tiene una velocidad aleatoria (puedes usar la biblioteca random de Python) y cada ciclo del bucle representa un segundo de la carrera. Al final de cada segundo, cada auto avanza una distancia igual a su velocidad. La carrera dura 10 segundos. Al final de la carrera, debes imprimir el auto ganador. Si hay un empate, debes imprimir todos los autos que empataron.\n",
    "\n",
    "*Nota:* Este desafío puede requerir que aprendas sobre conceptos adicionales, por ejemplo cómo generar números aleatorios."
   ]
  },
  {
   "cell_type": "markdown",
   "id": "20f876ab",
   "metadata": {},
   "source": [
    "Formas de generar un número aleatorio usando la biblioteca random de Python:"
   ]
  },
  {
   "cell_type": "code",
   "execution_count": null,
   "id": "59fff1f1",
   "metadata": {},
   "outputs": [
    {
     "name": "stdout",
     "output_type": "stream",
     "text": [
      "69\n"
     ]
    }
   ],
   "source": [
    "import random\n",
    "\n",
    "numero_aleatorio = random.randint(1, 100) \n",
    "print(numero_aleatorio)\n",
    "\n",
    "#Importa un número aleatorio comprendido entre los dos números indicados en la tupla y lo imprime."
   ]
  },
  {
   "cell_type": "code",
   "execution_count": null,
   "id": "e282d1ae",
   "metadata": {},
   "outputs": [
    {
     "name": "stdout",
     "output_type": "stream",
     "text": [
      "1\n",
      "2\n",
      "3\n",
      "4\n",
      "5\n",
      "6\n",
      "7\n",
      "8\n",
      "9\n",
      "10\n",
      "11\n",
      "12\n",
      "13\n",
      "14\n",
      "15\n",
      "16\n",
      "17\n",
      "18\n",
      "19\n",
      "20\n",
      "21\n",
      "22\n",
      "23\n",
      "24\n",
      "25\n",
      "26\n",
      "27\n",
      "28\n",
      "29\n",
      "30\n",
      "31\n",
      "32\n",
      "33\n",
      "34\n",
      "35\n",
      "36\n",
      "37\n",
      "38\n",
      "39\n",
      "40\n",
      "41\n",
      "42\n",
      "43\n",
      "44\n",
      "45\n",
      "46\n",
      "47\n",
      "48\n",
      "49\n",
      "50\n",
      "51\n",
      "52\n",
      "53\n",
      "54\n",
      "55\n",
      "56\n",
      "57\n",
      "58\n",
      "59\n",
      "60\n",
      "61\n",
      "62\n",
      "63\n",
      "64\n",
      "65\n",
      "66\n",
      "67\n",
      "68\n",
      "69\n",
      "70\n",
      "71\n",
      "72\n",
      "73\n",
      "74\n",
      "75\n",
      "76\n",
      "77\n",
      "78\n",
      "79\n",
      "80\n",
      "81\n",
      "82\n",
      "83\n",
      "84\n",
      "85\n",
      "86\n",
      "87\n",
      "88\n",
      "89\n",
      "90\n",
      "91\n",
      "92\n",
      "93\n",
      "94\n",
      "95\n",
      "96\n",
      "97\n",
      "98\n",
      "99\n"
     ]
    }
   ],
   "source": [
    "for numero in range (1,100):\n",
    "    print (numero)\n",
    "    # Este no nos sirve ya que está creando un bucle en lugar de un número aleatorio. Además no usa la biblioteca random."
   ]
  },
  {
   "cell_type": "code",
   "execution_count": null,
   "id": "7a065428",
   "metadata": {},
   "outputs": [
    {
     "name": "stdout",
     "output_type": "stream",
     "text": [
      "0.045848618529528595\n"
     ]
    }
   ],
   "source": [
    "import random\n",
    "\n",
    "numero_aleatorio = random.random()\n",
    "print(numero_aleatorio)\n",
    "#Genera un número decimal aleatorio entre 0 y 1"
   ]
  },
  {
   "cell_type": "code",
   "execution_count": null,
   "id": "59813187",
   "metadata": {},
   "outputs": [
    {
     "name": "stdout",
     "output_type": "stream",
     "text": [
      "16.273215468793513\n"
     ]
    }
   ],
   "source": [
    "import random\n",
    "\n",
    "numero_aleatorio = random.uniform(10, 20)  \n",
    "print(numero_aleatorio)\n",
    "#Genera un número aleatorio entre los dos dentro de la tupla y lo imprime."
   ]
  },
  {
   "cell_type": "code",
   "execution_count": null,
   "id": "3e3c5b02",
   "metadata": {},
   "outputs": [
    {
     "name": "stdout",
     "output_type": "stream",
     "text": [
      "[25, 72, 13, 54, 62]\n"
     ]
    }
   ],
   "source": [
    "import random\n",
    "\n",
    "numeros_aleatorios = [random.randint(10, 100) for _ in range(5)]  \n",
    "print(numeros_aleatorios)\n",
    "#Genera varios números aleatorios dentro de la lista y los imprime.\n",
    "#Concretamente genera una lista de números copmrendidos dentro de los dos números indicados en la tupla anterior (10, 100).\n",
    "#La cantidad de números que genera viene determinado por range ()."
   ]
  },
  {
   "cell_type": "code",
   "execution_count": null,
   "id": "b9f36962",
   "metadata": {},
   "outputs": [
    {
     "name": "stdout",
     "output_type": "stream",
     "text": [
      "[2, 1, 4, 3, 5]\n"
     ]
    }
   ],
   "source": [
    "import random\n",
    "\n",
    "lista = [1, 2, 3, 4, 5]\n",
    "random.shuffle(lista) \n",
    "print(lista)\n",
    "# Mezcla los números dentro de una lista."
   ]
  },
  {
   "cell_type": "code",
   "execution_count": 3,
   "id": "2f2e1586",
   "metadata": {},
   "outputs": [
    {
     "name": "stdout",
     "output_type": "stream",
     "text": [
      "\n",
      "Resultados de la carrera:\n",
      "Auto 1: 730 metros\n",
      "Auto 2: 2540 metros\n",
      "Auto 3: 2500 metros\n",
      "Auto 4: 2670 metros\n",
      "Auto 5: 1400 metros\n",
      "Auto 6: 2130 metros\n",
      "Auto 7: 830 metros\n",
      "Auto 8: 1400 metros\n",
      "\n",
      "Ganador(es):\n",
      "Auto 4\n"
     ]
    }
   ],
   "source": [
    "# Pimero importamos la biblioteca random de python de la cual podremos generar la velocidad aleatoria de los autos.\n",
    "import random\n",
    "\n",
    "# Establecemos el número de autos que competirán en la carrera\n",
    "\n",
    "num_autos = 8\n",
    "\n",
    "# Cómo vamos a establecer la velocidad aleatoria de los 8 autos, nos interesa generar 8 números aleatorios.\n",
    "# Por tanto usaremos el comando random.randit for in range (8).\n",
    "# Cómo son 8 autos vamos a crear un diccionario llamado autos dónde cada elemento es el nombre del auto.\n",
    "# Vamos a generar automáticamente el nombre de cada auto usando f\"Auto {i+1}. \n",
    "# Cuando i = 0, se genera \"Auto1,\", cuando i= 1, se genra \"Auto2\", y así sucesivamente hasta num_autos.\n",
    "\n",
    "autos = {f\"Auto {i+1}\": random.randint(0, 280) for i in range(num_autos)}\n",
    "\n",
    "# Creamos un diccionario llamado posiciones que almacena la distancia recorrida por cada auto.\n",
    "# Lo igualamos a 0 para determinar que todos los autos comiencen en la misma posición.\n",
    "# Utiizamos el comando for para que dicho diccionario recorra la lista de autos establecida anteriormente.\n",
    "\n",
    "posiciones = {auto: 0 for auto in autos}\n",
    "\n",
    "# A continuación vamos a establecer la duración de la carrera que será de 10 segundos.\n",
    "# Creamos un bucle la función for que recorra los segundos de duración de la carrera, desde 1 hasta 10.\n",
    "# El valor de la duración de la carrera determina cuántas veces se ejecutará el bucle de simulación.\n",
    "# Cada vez que se ejecute pasa 1 segundo de la carrera, obteniendo 10 velocidades y 10 posiciones en cada uno.\n",
    "# Creamos otro bucle con for para que el primer bucle recorra todos los autos de la carrera y obtener una velocidad y posición para cada uno.\n",
    "# Cómo el diccionario autos almacena la velocidad de cada auto, y auto su posicion, autos[auto] determina la posición de cada auto.\n",
    "# Actualizaremos la posición de cada auto utilizadno la fórmula posiciones[auto] += autos[auto].\n",
    "# Posiciones[auto] representa cuántos metros ha recorrido el auto hasta el momento.\n",
    "# += autos[auto] le suma la velocidad del auto, haciéndolo avanzar.\n",
    "\n",
    "duración_carrera = 10\n",
    "for segundo in range(1, duración_carrera +1):\n",
    "    for auto in autos:\n",
    "        posiciones[auto] += autos[auto]\n",
    "\n",
    "# Teniendo en cuenta la distancia recorrida por cada auto, vamos a determinar el ganador. Dentro de los valores de posiciones, \n",
    "# vamos a buscar la mayor de ellas determinando la mayor distancia recorrida por cualquier auto en la carrera. \n",
    "# Le denominaremos distancia_maxima igualando al máximo valor de posiciones con la función max(posiciones.values()).\n",
    "# posiciones.values() devuelve una lista con todas las distancias recorridas.\n",
    "# max(posiciones.values()) busca el valor más alto en esa lista.\n",
    "# El resultado se guardara cómo distancia_máxima, que representará la distancia más larga alcanzada y determinará el ganador.\n",
    "\n",
    "distancia_maxima = max(posiciones.values())\n",
    "\n",
    "# Utilizaremos el diccionario posiciones y el comando .items para devolver la distancia de los autos.\n",
    "# For auto, distancia in posiciones.items, recorre cada auto (auto) y su distancia(distancia) en el diccionario de posiciones. \n",
    "# En cada uno de los valores recorridos obtieneel nombre del auto y la distancia que recorrió.\n",
    "# Utiilzamos el If distancia y lo igualamos a la distancia máxima, es decir el mayor valor de posiciones para determinar el ganador.\n",
    "# Lo nombramos cómo ganadores por qué es posible que más de un auto haya recorrido la distancia máxima y haya más de un ganador.\n",
    "\n",
    "\n",
    "ganadores = [auto for auto, distancia in posiciones.items() if distancia == distancia_maxima]\n",
    "\n",
    "# Imprimimos los resultados con Print(\"\\n). La función (\\n genera una línea en blanco, es como un intro para mejorar la presentación.\n",
    "# A los resultados los denominamos Resultados de la carrera.\n",
    "# Utilizaremos la función for para recorrer el diccionario posiciones de cada auto, que almacena cuántos metros recorrió cada uno.\n",
    "# De nuevo posiciones.items() devuelve pares (auto, distancia), devolviendo la distancia recorrida por cada auto.\n",
    "# Utilizamos de nuevo print(f\"{auto}: {distancia} metros\") - usando una f-string (f\"\") para imprimir el nombre del auto junto\n",
    "# Con su distancia recorrida. f(\"\") es una forma de formatear cadenas en Python de manera clara y concisa. la f antes de las comillas indica\n",
    "# Que es una f-string. Esto permite que se inserten valores dentro de la cadena usando llaves {}. Dentro de las llaves {} se colocan\n",
    "# Las variables que quieres incluir en una cadena de texto. Insertamos auto y distancia y la salida será un texto en la que las variables\n",
    "# se reemplazan por sus valores actuales.\n",
    "# De nuevo usaremos  print(\"\\nGanador(es):\") para mostrar el título del ganador.\n",
    "# Por último, print(\", \".join(ganadores)), que une los nombres de los autos en una sola linea, separados por comas.\n",
    "# Utiliza el método .join () de ñas cademas em Python para unir todos los elementos de la lista ganadores en una sola cadena.\n",
    "# Ganadores es una lista de strings con los nombres de los autos que alcanzaron la máxima distancia.\n",
    "# \",\".join(ganadores) convierte la lista en un solo string, donde los elementos están separados por \",\".\n",
    "# Los denominamos ganadores(es) ya que incluye singular y plural, pues puede que haya un sólo ganador o más de uno.\n",
    "\n",
    "\n",
    "print(\"\\nResultados de la carrera:\")\n",
    "\n",
    "for auto, distancia in posiciones.items():\n",
    "    print(f\"{auto}: {distancia} metros\")\n",
    "\n",
    "print(\"\\nGanador(es):\")\n",
    "print(\", \".join(ganadores))\n",
    "\n",
    "\n",
    "\n",
    "\n",
    "\n",
    "\n",
    "\n",
    "\n",
    "\n"
   ]
  }
 ],
 "metadata": {
  "kernelspec": {
   "display_name": "Python 3",
   "language": "python",
   "name": "python3"
  },
  "language_info": {
   "codemirror_mode": {
    "name": "ipython",
    "version": 3
   },
   "file_extension": ".py",
   "mimetype": "text/x-python",
   "name": "python",
   "nbconvert_exporter": "python",
   "pygments_lexer": "ipython3",
   "version": "3.13.2"
  }
 },
 "nbformat": 4,
 "nbformat_minor": 5
}
