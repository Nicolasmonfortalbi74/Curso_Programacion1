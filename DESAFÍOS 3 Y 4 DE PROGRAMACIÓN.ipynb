{
 "cells": [
  {
   "cell_type": "markdown",
   "id": "6605557a",
   "metadata": {},
   "source": [
    "DESAFÍOS 3 Y 4"
   ]
  },
  {
   "cell_type": "markdown",
   "id": "648f663e",
   "metadata": {},
   "source": [
    "DESAFÍO 3: Realizar conversiones de una temperatura dada en Celsius a Fahrenheit y Kelvin utilizando operaciones directas sobre variables."
   ]
  },
  {
   "cell_type": "markdown",
   "id": "7ac30b28",
   "metadata": {},
   "source": [
    "3.1. Realizar conversiones de unatemperatura dada en Celsius a Fahrenheit"
   ]
  },
  {
   "cell_type": "code",
   "execution_count": null,
   "id": "01f281e2",
   "metadata": {},
   "outputs": [
    {
     "name": "stdout",
     "output_type": "stream",
     "text": [
      "1 grados Celsius son 33.8 grados Fahrenheit\n",
      "2 grados Celsius son 35.6 grados Fahrenheit\n",
      "3 grados Celsius son 37.4 grados Fahrenheit\n",
      "4 grados Celsius son 39.2 grados Fahrenheit\n",
      "5 grados Celsius son 41.0 grados Fahrenheit\n",
      "6 grados Celsius son 42.8 grados Fahrenheit\n",
      "7 grados Celsius son 44.6 grados Fahrenheit\n",
      "8 grados Celsius son 46.4 grados Fahrenheit\n",
      "9 grados Celsius son 48.2 grados Fahrenheit\n",
      "10 grados Celsius son 50.0 grados Fahrenheit\n",
      "[33.8, 35.6, 37.4, 39.2, 41.0, 42.8, 44.6, 46.4, 48.2, 50.0]\n"
     ]
    }
   ],
   "source": [
    "#Se crea una lista con los grados celsius\n",
    "grados_celsius = [1,2,3,4,5,6,7,8,9,10]\n",
    "\n",
    "#convertir los grados celsius a grados farenheit\n",
    "grados_fahrenheit = []\n",
    "for celsius in grados_celsius: \n",
    "    fahrenheit = (celsius * 9/5) + 32\n",
    "    grados_fahrenheit.append (fahrenheit)\n",
    "    \n",
    "    \n",
    "#imprimir el resultado     \n",
    "for celsius in grados_celsius:\n",
    "    print(celsius, \"grados Celsius son\", grados_fahrenheit[grados_celsius.index(celsius)], \"grados Fahrenheit\")\n",
    "    \n",
    "print (grados_fahrenheit)\n"
   ]
  },
  {
   "cell_type": "markdown",
   "id": "e5e46f50",
   "metadata": {},
   "source": [
    "He utilizado los datos y operaciones que Domingo facilitó en clase; obtención de la función que determina la conversión de grados celsius a farenheit y aplicación de dicha función a una lista de números. La verificación viene dada por el cálculo manual de dicha conversión:\n",
    "Establecemos una progresión aritmétrica que es es una sucesión numérica donde cada término, excepto el primero, es igual al número anterior más una cantidad constante.\n",
    " En este caso la constante sería 32 y el patrón 1,8 el cual multiplicamos por el número de la lista; después lo sumamos a la constante y obtenemos el resultado y comprobamos que los números arrojados por el programa son efectivamente correctos;\n",
    "Así el número uno de la lista vendría determinado de la siguiente forma: \n",
    " 32 + 1' 8 x 1 = 33'8\n",
    " 32 + 1'8 x 2 = 35'6\n",
    " 32 + 1'8 x 3 = 37'4\n",
    "Y así sucesivamente.\n"
   ]
  },
  {
   "cell_type": "markdown",
   "id": "736804e0",
   "metadata": {},
   "source": [
    "WEBGRAFÍA\n",
    "https://www.portaleducativo.net/cuarto-medio/12/progresion-aritmetica"
   ]
  },
  {
   "cell_type": "markdown",
   "id": "6d87e81b",
   "metadata": {},
   "source": [
    "3.2. Realizar conversiones de unatemperatura dada en Fahrenheit a Celsius"
   ]
  },
  {
   "cell_type": "code",
   "execution_count": null,
   "id": "722ee2e2",
   "metadata": {},
   "outputs": [],
   "source": [
    "Fórmula de Fahrenheit a Celsius\n",
    "La temperatura T en grados Celsius (° C) es igual a la temperatura T en grados Fahrenheit (° F) menos 32, multiplicado por 5/9:\n",
    "\n",
    "T (° C) = ( T (° F) - 32) × 5/9\n",
    "\n",
    "o\n",
    "\n",
    "T (° C) = ( T (° F) - 32) / (9/5)\n",
    "\n",
    "o\n",
    "\n",
    "T (° C) = ( T (° F) - 32) / 1.8\n",
    "\n",
    "Ejemplo\n",
    "Convertir 68 grados Fahrenheit a grados Celsius:\n",
    "\n",
    "T (° C) = (68 ° F - 32) × 5/9 = 20 ° C"
   ]
  },
  {
   "cell_type": "markdown",
   "id": "65129cf2",
   "metadata": {},
   "source": [
    "Cómo se puede apreciar es la misma fórmula a la inversa, por lo que voy a intentar aplicarla cambiando las variables numéricas en la fórmula de la progresión aritmétrica establecida anteriormente."
   ]
  },
  {
   "cell_type": "code",
   "execution_count": null,
   "id": "47e4ded2",
   "metadata": {},
   "outputs": [
    {
     "name": "stdout",
     "output_type": "stream",
     "text": [
      "1 grados fahrenheit son -17.22222222222222 grados celsius\n",
      "2 grados fahrenheit son -16.666666666666668 grados celsius\n",
      "3 grados fahrenheit son -16.11111111111111 grados celsius\n",
      "4 grados fahrenheit son -15.555555555555555 grados celsius\n",
      "5 grados fahrenheit son -15.0 grados celsius\n",
      "6 grados fahrenheit son -14.444444444444445 grados celsius\n",
      "7 grados fahrenheit son -13.88888888888889 grados celsius\n",
      "8 grados fahrenheit son -13.333333333333332 grados celsius\n",
      "9 grados fahrenheit son -12.777777777777777 grados celsius\n",
      "10 grados fahrenheit son -12.222222222222221 grados celsius\n",
      "[-17.22222222222222, -16.666666666666668, -16.11111111111111, -15.555555555555555, -15.0, -14.444444444444445, -13.88888888888889, -13.333333333333332, -12.777777777777777, -12.222222222222221]\n"
     ]
    }
   ],
   "source": [
    "#Se crea una lista con los grados fahrenheit\n",
    "grados_fahrenheit = [1,2,3,4,5,6,7,8,9,10]\n",
    "\n",
    "#convertir los grados fahrenheit a grados celsius\n",
    "grados_celsius = []\n",
    "for fahrenheit in grados_fahrenheit: \n",
    "    celsius = (fahrenheit - 32) / (9/5)\n",
    "    grados_celsius.append (celsius)\n",
    "    \n",
    "    \n",
    "#imprimir el resultado     \n",
    "for fahrenheit in grados_fahrenheit:\n",
    "    print(fahrenheit, \"grados fahrenheit son\", grados_celsius[grados_fahrenheit.index(fahrenheit)], \"grados celsius\")\n",
    "    \n",
    "print (grados_celsius)"
   ]
  },
  {
   "cell_type": "markdown",
   "id": "1735b41f",
   "metadata": {},
   "source": [
    "Al parecer estaba equivocado y en vez de cambiar variables numéricas tan sólo tuve que cambiar el símbolo de las operaciones, sustituyendo la suma de la constante 32 por una resta y la multiplicación de la constante 1'8 obtenida de la fracción 5/9 establecida en la fórmula por una división. Ahora voy a utilizar el conversor de grados celsius a fahrenheit online para comprbar la validez de los resultados obtenidos."
   ]
  },
  {
   "cell_type": "markdown",
   "id": "0756345a",
   "metadata": {},
   "source": [
    "Al parecer hay algún error ya que los resultados del conversor no coinciden con los obtenidos. Voy a intentar realizar el cálculo manual para descubrir el error."
   ]
  },
  {
   "cell_type": "markdown",
   "id": "cff7d742",
   "metadata": {},
   "source": [
    "El error estaba en que no sólo tenía que invertir el símbolo de las operaciones; no me había fijado en que también había que invertir el orden. Después de invertir el orden me seguía dando números erróneos y probé en sustituir el 9/5 por 1.8 y me daba correcto por lo que me percaté que tenía que poner un paréntesis en el 9/5 para dar prioridad a dicha operación."
   ]
  },
  {
   "cell_type": "markdown",
   "id": "1ada4c27",
   "metadata": {},
   "source": [
    "WEBGRAFÍA\n",
    "https://www.rapidtables.org/convert/temperature/how-fahrenheit-to-celsius.html\n",
    "https://www.rapidtables.org/convert/temperature/fahrenheit-to-celsius.html"
   ]
  },
  {
   "cell_type": "markdown",
   "id": "c07700b8",
   "metadata": {},
   "source": [
    " DESAFÍO 4: Verificar múltiplos de varios números\n",
    "Crear un programa que, dado un número, verifique si es múltiplo de: 2, 3, 5, 7, 9, 10 y 11. Imprimir un mensaje por cada verificación.\n",
    "\n"
   ]
  },
  {
   "cell_type": "markdown",
   "id": "8a11cb6d",
   "metadata": {},
   "source": [
    "Paso 1: establecer el código para comprobar la multiplicidad de dos números."
   ]
  },
  {
   "cell_type": "code",
   "execution_count": null,
   "id": "faa9a25d",
   "metadata": {},
   "outputs": [],
   "source": [
    "def es_multiplo (numero, multiplo):\n",
    "    #si el residuo es 0, es múltiplo\n",
    "    if numero % multiplo == 0:\n",
    "        return True\n",
    "    else:\n",
    "        return False"
   ]
  },
  {
   "cell_type": "markdown",
   "id": "ee7d4268",
   "metadata": {},
   "source": [
    "Vamos a elegir el 2 como constante y vamos a probar la función con uno de los núemeros de la lista que sabemos que si es múltiple; el 2.\n"
   ]
  },
  {
   "cell_type": "code",
   "execution_count": null,
   "id": "6c12abfd",
   "metadata": {},
   "outputs": [
    {
     "name": "stdout",
     "output_type": "stream",
     "text": [
      "Sí es múltiplo\n"
     ]
    }
   ],
   "source": [
    "def es_multiplo (numero, multiplo):\n",
    "    return numero % multiplo == 0\n",
    "if es_multiplo (2,2):\n",
    "    print (\"Sí es múltiplo\")\n",
    "else:\n",
    "    print (\"No es múltiplo\")"
   ]
  },
  {
   "cell_type": "markdown",
   "id": "8ad79374",
   "metadata": {},
   "source": [
    "Imprime sí es múltiplo por lo que es correcto. Ahora vamos a establecer una lista de números en el cual vamos a incluir todas las variables para poder comprobar cuál de ellos es múltiplo y cual no."
   ]
  },
  {
   "cell_type": "code",
   "execution_count": 7,
   "id": "62d1c081",
   "metadata": {},
   "outputs": [
    {
     "name": "stdout",
     "output_type": "stream",
     "text": [
      "2 es múltiplo de 2.\n",
      "2 no es múltiplo de 3.\n",
      "2 no es múltiplo de 5.\n",
      "2 no es múltiplo de 7.\n",
      "2 no es múltiplo de 9.\n",
      "2 no es múltiplo de 10.\n",
      "2 no es múltiplo de 11.\n"
     ]
    }
   ],
   "source": [
    "def verificar_multiplos (numero, lista_numeros):\n",
    "    n = [2,3,5,7,9,10,11]\n",
    "    for n in lista_numeros:\n",
    "        if numero % n == 0:\n",
    "            print (f\"[numero] es múltiplo de [n].\")\n",
    "        else:\n",
    "            print (f\"[numero] no es multiplo de [n]\")\n",
    "        \n",
    "    \n",
    "numero = 2\n",
    "lista_numeros = [2,3,5,7,9,10, 11]\n",
    "\n",
    "\n",
    "\n",
    "\n",
    "if numero % 2 == 0:\n",
    "    print(f\"{numero} es múltiplo de 2.\")\n",
    "else:\n",
    "    print(f\"{numero} no es múltiplo de 2.\")\n",
    "\n",
    "if numero % 3 == 0:\n",
    "    print(f\"{numero} es múltiplo de 3.\")\n",
    "else:\n",
    "    print(f\"{numero} no es múltiplo de 3.\")\n",
    "\n",
    "if numero % 5 == 0:\n",
    "    print(f\"{numero} es múltiplo de 5.\")\n",
    "else:\n",
    "    print(f\"{numero} no es múltiplo de 5.\")\n",
    "\n",
    "if numero % 7 == 0:\n",
    "    print(f\"{numero} es múltiplo de 7.\")\n",
    "else:\n",
    "    print(f\"{numero} no es múltiplo de 7.\")\n",
    "\n",
    "if numero % 9 == 0:\n",
    "    print(f\"{numero} es múltiplo de 9.\")\n",
    "else:\n",
    "    print(f\"{numero} no es múltiplo de 9.\")\n",
    "\n",
    "if numero % 10 == 0:\n",
    "    print(f\"{numero} es múltiplo de 10.\")\n",
    "else:\n",
    "    print(f\"{numero} no es múltiplo de 10.\")\n",
    "\n",
    "if numero % 11 == 0:\n",
    "    print(f\"{numero} es múltiplo de 11.\")\n",
    "else:\n",
    "    print(f\"{numero} no es múltiplo de 11.\")\n"
   ]
  },
  {
   "cell_type": "markdown",
   "id": "41db405d",
   "metadata": {},
   "source": [
    "Los resultados imprimidos son correctos. Sin embargo a la hora de imprimir el resultado no se determina de forma clara a que número hace referencia al no indicar el numero o la posición en la lista e imprimir todos cómo [n] por lo que voy a tratar de cambiarlo para que si lo espefifique."
   ]
  },
  {
   "cell_type": "markdown",
   "id": "4e2e9d1c",
   "metadata": {},
   "source": [
    "He intentado establecer un índice por medio de los comandos .append y .index como en la lista anterior pero he fracasado estrepitosamente en el intento por lo que le he preguntado a chatgpt un modo alternativo de imprimir la lista. Reiniciamos el ejercicio."
   ]
  },
  {
   "cell_type": "markdown",
   "id": "d7795f52",
   "metadata": {},
   "source": [
    "\n",
    "# Programa para verificar múltiplos\n",
    "\n",
    "# Solicitar al usuario un número\n",
    "numero = int(input(\"Introduce un número: \"))\n",
    "\n",
    "# Verificaciones\n",
    "if numero % 2 == 0:\n",
    "    print(f\"{numero} es múltiplo de 2.\")\n",
    "else:\n",
    "    print(f\"{numero} no es múltiplo de 2.\")\n",
    "\n",
    "if numero % 3 == 0:\n",
    "    print(f\"{numero} es múltiplo de 3.\")\n",
    "else:\n",
    "    print(f\"{numero} no es múltiplo de 3.\")\n",
    "\n",
    "if numero % 5 == 0:\n",
    "    print(f\"{numero} es múltiplo de 5.\")\n",
    "else:\n",
    "    print(f\"{numero} no es múltiplo de 5.\")\n",
    "\n",
    "if numero % 7 == 0:\n",
    "    print(f\"{numero} es múltiplo de 7.\")\n",
    "else:\n",
    "    print(f\"{numero} no es múltiplo de 7.\")\n",
    "\n",
    "if numero % 9 == 0:\n",
    "    print(f\"{numero} es múltiplo de 9.\")\n",
    "else:\n",
    "    print(f\"{numero} no es múltiplo de 9.\")\n",
    "\n",
    "if numero % 10 == 0:\n",
    "    print(f\"{numero} es múltiplo de 10.\")\n",
    "else:\n",
    "    print(f\"{numero} no es múltiplo de 10.\")\n",
    "\n",
    "if numero % 11 == 0:\n",
    "    print(f\"{numero} es múltiplo de 11.\")\n",
    "else:\n",
    "    print(f\"{numero} no es múltiplo de 11.\")"
   ]
  },
  {
   "cell_type": "markdown",
   "id": "060d7834",
   "metadata": {},
   "source": [
    "Chatgpt me créo este código para verificar cada número de la lista, indicándome que previamente debía establecer un programa para verificar los múltiplos y establecer un número. El programa ya había sido creado y el número era el dos así que copié los códigos de verificación y los añadí debajo.\n",
    "El resultado ha sido satisfactorio y ahora nos imprime lo que queríamos ver. \n",
    "Sin embargo me sigue imprimiendo también:\n",
    "[numero] es múltiplo de [n]\n",
    "[numero] no es multiplo de [n]\n",
    "[numero] no es multiplo de [n]\n",
    "[numero] no es multiplo de [n]\n",
    "[numero] no es multiplo de [n]\n",
    "[numero] no es multiplo de [n]\n",
    "[numero] no es multiplo de [n]\n",
    "No nos interesa así que voy a intentar eliminar el comando verificar_multiplos (numero, lista_numeros)."
   ]
  },
  {
   "cell_type": "markdown",
   "id": "860940eb",
   "metadata": {},
   "source": [
    "He eliminado el comando verificar_multiplos y el resultado es el esperado imprimiendo sólo un mensaje por cada verificación y concretando a cuál se refiere:\n",
    "2 es múltiplo de 2.\n",
    "2 no es múltiplo de 3.\n",
    "2 no es múltiplo de 5.\n",
    "2 no es múltiplo de 7.\n",
    "2 no es múltiplo de 9.\n",
    "2 no es múltiplo de 10.\n",
    "2 no es múltiplo de 11.\n",
    " Ha costado un poco pero ha valido la pena."
   ]
  },
  {
   "cell_type": "markdown",
   "id": "27d083a0",
   "metadata": {},
   "source": [
    "En este caso la verificación es bien sencilla; el único número que es múltiplo de 2 es el mismo 2 ya que todos los otros números son mayores que dos por lo que el resultado de dividir 2 entre cualquiera de ellos no sería un número entero."
   ]
  },
  {
   "cell_type": "markdown",
   "id": "dcdc3cf1",
   "metadata": {},
   "source": [
    "WEBGRAFÍA:\n",
    "https://www.youtube.com/watch?v=EsAo1geOPeU\n",
    "Copilot\n",
    "Chatgpt\n",
    "https://parzibyte.me/blog/2020/12/28/python-multiplo-submultiplo-numero/"
   ]
  }
 ],
 "metadata": {
  "kernelspec": {
   "display_name": ".venv",
   "language": "python",
   "name": "python3"
  },
  "language_info": {
   "codemirror_mode": {
    "name": "ipython",
    "version": 3
   },
   "file_extension": ".py",
   "mimetype": "text/x-python",
   "name": "python",
   "nbconvert_exporter": "python",
   "pygments_lexer": "ipython3",
   "version": "3.13.2"
  }
 },
 "nbformat": 4,
 "nbformat_minor": 5
}
