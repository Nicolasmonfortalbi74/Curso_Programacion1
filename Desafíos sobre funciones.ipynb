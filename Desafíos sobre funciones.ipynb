{
 "cells": [
  {
   "cell_type": "code",
   "execution_count": null,
   "id": "3aa36456",
   "metadata": {},
   "outputs": [],
   "source": [
    "1. Crea una función que tome una lista de números y devuelva la suma y el promedio de esos números."
   ]
  },
  {
   "cell_type": "code",
   "execution_count": 20,
   "id": "69ace780",
   "metadata": {},
   "outputs": [
    {
     "name": "stdout",
     "output_type": "stream",
     "text": [
      "La suma es: 267\n",
      "El promedio es: 44.5\n"
     ]
    }
   ],
   "source": [
    "def calcular_suma_y_promedio(lista):\n",
    "    suma = 0\n",
    "    cantidad = 0\n",
    "\n",
    "    for numero in lista:\n",
    "        suma = suma + numero\n",
    "        cantidad = cantidad + 1\n",
    "\n",
    "    if cantidad != 0:\n",
    "        promedio = suma / cantidad\n",
    "    else:\n",
    "        promedio = 0\n",
    "\n",
    "    return suma, promedio\n",
    "\n",
    "numeros = [3, 17, 32, 56, 74, 85]\n",
    "suma, promedio = calcular_suma_y_promedio(numeros)\n",
    "\n",
    "print(\"La suma es:\", suma)\n",
    "print(\"El promedio es:\", promedio)"
   ]
  },
  {
   "cell_type": "markdown",
   "id": "600f2128",
   "metadata": {},
   "source": [
    "def calcular_suma_y_promedio(lista):\n",
    "Se define una función llamada calcular_suma_y_promedio que recibe una lista de números llamada lista.\n",
    "\n"
   ]
  },
  {
   "cell_type": "markdown",
   "id": "6cbd8d35",
   "metadata": {},
   "source": [
    "suma = 0\n",
    "    cantidad = 0\n",
    "Se crean dos variables dos variables:\n",
    "\n",
    "suma que empezamos en 0 para ir guardando la suma de los números.\n",
    "\n",
    "cantidad que empezamos en 0 para contar cuántos números tiene la lista."
   ]
  },
  {
   "cell_type": "markdown",
   "id": "62448030",
   "metadata": {},
   "source": [
    "for numero in lista:\n",
    "        suma = suma + numero\n",
    "        cantidad = cantidad + 1\n",
    "        Se usa un bucle for para recorrer todos los números de la lista.\n",
    "\n",
    "En cada vuelta:\n",
    "\n",
    "Se suma el número actual a suma.\n",
    "\n",
    "Se aumenta cantidad en 1 para contar ese número."
   ]
  },
  {
   "cell_type": "markdown",
   "id": "d27592b8",
   "metadata": {},
   "source": [
    "if cantidad != 0:\n",
    "        promedio = suma / cantidad\n",
    "    else:\n",
    "        promedio = 0\n",
    "Después de sumar y contar todos los números, se calcula el promedio:\n",
    "\n",
    "Si la lista tiene números (cantidad no es cero), dividimos la suma por la cantidad.\n",
    "\n",
    "Si la lista está vacía (cantidad es cero), evitamos dividir por cero y dejamos el promedio como 0.\n",
    "\n"
   ]
  },
  {
   "cell_type": "markdown",
   "id": "4709d606",
   "metadata": {},
   "source": [
    "return suma, promedio\n",
    "La función devuelve dos cosas:\n",
    "\n",
    "La suma de todos los números.\n",
    "\n",
    "El promedio calculado."
   ]
  },
  {
   "cell_type": "markdown",
   "id": "0e5406c1",
   "metadata": {},
   "source": [
    "2. Diseña una función que tome una cadena y devuelva la misma cadena, pero con el primer carácter de cada palabra en mayúsculas."
   ]
  },
  {
   "cell_type": "code",
   "execution_count": 22,
   "id": "9e5b72d8",
   "metadata": {},
   "outputs": [
    {
     "name": "stdout",
     "output_type": "stream",
     "text": [
      "Hola, Me Llamo Nicolás, Soy De Jávea Y Recientemente Cumplí 18 Años. Me Gusta La Torta Frita Con Dulce De Leche Me Voy A Comer 102 Para Celebrar Mi Mayoría De Edad Recientemente Adquirida\n"
     ]
    }
   ],
   "source": [
    "def poner_mayusculas(cadena):\n",
    "    palabras = cadena.split(\" \")\n",
    "    resultado = \"\"\n",
    "\n",
    "    for palabra in palabras:\n",
    "        if palabra != \"\":\n",
    "            primera_letra = palabra[0].upper()  \n",
    "            resto = palabra[1:] \n",
    "            resultado += primera_letra + resto + \" \"\n",
    "        else:\n",
    "            resultado += \" \"\n",
    "\n",
    "    return resultado.strip()  \n",
    "texto = \"hola, me llamo nicolás, soy de jávea y recientemente cumplí 18 años. me gusta la torta frita con dulce de leche me voy a comer 102 para celebrar mi mayoría de edad recientemente adquirida\"\n",
    "resultado = poner_mayusculas(texto)\n",
    "print(resultado)"
   ]
  },
  {
   "cell_type": "markdown",
   "id": "a7548c1a",
   "metadata": {},
   "source": [
    "def poner_mayusculas(cadena):\n",
    "Creamos una función a la que nombramos cómo poner_mayúsuclas que va a trabajar con una cadena de texto, una frase o gurpo de palabras a la que llamamos cadena.\n"
   ]
  },
  {
   "cell_type": "markdown",
   "id": "dd788933",
   "metadata": {},
   "source": [
    "cadena.split (\" \") divide el texto introducido y lo convierte en una lista de palabras. [\"hola, me, llamo, nicolás, soy, de.... ]"
   ]
  },
  {
   "cell_type": "markdown",
   "id": "d47c8c8f",
   "metadata": {},
   "source": [
    "con resultado = \" \" se crea una variable a la que llamamos resultado. Se deja un espacio vacío, en el que después se irá guardando la función que será el texto con las palabras que escribamos convertidas a palabras con mayúscula."
   ]
  },
  {
   "cell_type": "markdown",
   "id": "067bba3c",
   "metadata": {},
   "source": [
    "for palabra in palabras recorre todas las palabras introducidas en la cadena de texto"
   ]
  },
  {
   "cell_type": "markdown",
   "id": "26f64014",
   "metadata": {},
   "source": [
    "if palabra != \"\" verifica si la variable palabra no está vacía."
   ]
  },
  {
   "cell_type": "markdown",
   "id": "543dc21e",
   "metadata": {},
   "source": [
    "primera_letra = palabra[0].upper() convierte la primera letra de la palabra y la convierte en mayúscula. Es un método nativo de python."
   ]
  },
  {
   "cell_type": "markdown",
   "id": "86b39b8c",
   "metadata": {},
   "source": [
    "resultado += primera_letra + resto + \" \" sirve para juntar la primera palabra que hemos convertido en mayúscula con el resto que permanecen igual."
   ]
  },
  {
   "cell_type": "markdown",
   "id": "e88f3518",
   "metadata": {},
   "source": [
    "resultado += \" \" sirve para agregar espacios entre cada palabra de la cadena de texto\n",
    "else:\n",
    "            resultado += \" \" sirve para que si añadiste más de un espacio también se imprima el número de espacios que añadiste. Sin esta línea, si hubiese más de un espacio al imprimirlos python los transformaría en uno solo."
   ]
  },
  {
   "cell_type": "markdown",
   "id": "649f975d",
   "metadata": {},
   "source": [
    " return resultado.strip() return devuelve el resultado y strip elimina los espacios en blanco extra al inicio y al final, respetando los que hay entre palabra y palabra. Sin strip, podría imprimir una cadena de texto con espacios innecesarios al principio y al final del texto."
   ]
  },
  {
   "cell_type": "markdown",
   "id": "9232b4ed",
   "metadata": {},
   "source": [
    "resultado = poner_mayusculas(texto)\n",
    "print(resultado)\n",
    "Aquí le decimos a python que el ersultado que queremos que imprima es el de la función resultante de la que hemos definido anteriormente como poner_mayusculas(cadena). En python texto se identifica automáticamente como una cadena de caracteres cuando su valor está entre comillas. Hemos definido texto = \"hola me llamo nicolas...\" por lo que utilizará ese texto para retornar la función definida anteriormente."
   ]
  },
  {
   "cell_type": "code",
   "execution_count": null,
   "id": "b7d7a17b",
   "metadata": {},
   "outputs": [],
   "source": [
    "Tittle y capitalize"
   ]
  }
 ],
 "metadata": {
  "kernelspec": {
   "display_name": "Python 3",
   "language": "python",
   "name": "python3"
  },
  "language_info": {
   "codemirror_mode": {
    "name": "ipython",
    "version": 3
   },
   "file_extension": ".py",
   "mimetype": "text/x-python",
   "name": "python",
   "nbconvert_exporter": "python",
   "pygments_lexer": "ipython3",
   "version": "3.13.3"
  }
 },
 "nbformat": 4,
 "nbformat_minor": 5
}
