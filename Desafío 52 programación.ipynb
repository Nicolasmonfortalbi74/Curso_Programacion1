{
 "cells": [
  {
   "cell_type": "code",
   "execution_count": null,
   "id": "d07eb5cb",
   "metadata": {},
   "outputs": [],
   "source": [
    "Crea una clase Libro que tenga atributos privados para el título, autor y ISBN. \n",
    "Proporciona métodos getter y setter para cada atributo."
   ]
  },
  {
   "cell_type": "markdown",
   "id": "f827e7f9",
   "metadata": {},
   "source": [
    "- ISBN (International Standard Book Number): Es un número único que identifica un libro comercialmente. Sirve para distinguir ediciones, formatos y editoriales. Es como el “DNI” de un libro.\n",
    "- Atributos privados (__titulo, __autor, __isbn): En Python, los atributos con doble guion bajo (__) son privados, lo que significa que no deberían accederse directamente desde fuera de la clase. Esto promueve el encapsulamiento.\n",
    "- Getter (get_titulo(), etc.): Son métodos que permiten obtener el valor de un atributo privado. En vez de acceder directamente a libro.__titulo, usás libro.get_titulo() para respetar la encapsulación.\n",
    "- Setter (set_titulo(nuevo_titulo), etc.): Son métodos que permiten modificar el valor de un atributo privado. Así, podés cambiar el título de forma controlada y segura.\n"
   ]
  },
  {
   "cell_type": "code",
   "execution_count": null,
   "id": "a2f010a5",
   "metadata": {},
   "outputs": [],
   "source": []
  },
  {
   "cell_type": "code",
   "execution_count": 17,
   "id": "0cf4c05f",
   "metadata": {},
   "outputs": [
    {
     "name": "stdout",
     "output_type": "stream",
     "text": [
      "El Principito - Edición Ilustrada\n",
      "Saint-Exupéry\n",
      "987654321\n",
      "El señor de las moscas - El libro de bolsillo\n",
      "Golding\n",
      "902202122\n"
     ]
    }
   ],
   "source": [
    "class Libro:\n",
    "    def __init__(self, titulo, autor, isbn):\n",
    "        self.__titulo = titulo\n",
    "        self.__autor = autor\n",
    "        self.__isbn = isbn\n",
    "\n",
    "    # Getters\n",
    "    def get_titulo(self):\n",
    "        return self.__titulo\n",
    "\n",
    "    def get_autor(self):\n",
    "        return self.__autor\n",
    "\n",
    "    def get_isbn(self):\n",
    "        return self.__isbn\n",
    "\n",
    "    # Setters\n",
    "    def set_titulo(self, nuevo_titulo):\n",
    "        self.__titulo = nuevo_titulo\n",
    "\n",
    "    def set_autor(self, nuevo_autor):\n",
    "        self.__autor = nuevo_autor\n",
    "\n",
    "    def set_isbn(self, nuevo_isbn):\n",
    "        self.__isbn = nuevo_isbn\n",
    "        \n",
    "libro1 = Libro(\"El principito\", \"Antoine de Saint-Exupéry\", \"123456789\")\n",
    "\n",
    "libro1.set_titulo(\"El Principito - Edición Ilustrada\")\n",
    "libro1.set_autor(\"Saint-Exupéry\")\n",
    "libro1.set_isbn(\"987654321\")\n",
    "\n",
    "print(libro1.get_titulo())  # Imprime: El Principito - Edición Ilustrada\n",
    "print(libro1.get_autor())\n",
    "print(libro1.get_isbn())\n",
    "libro2.set_titulo(\"El señor de las moscas - El libro de bolsillo\")\n",
    "libro2.set_autor(\"Golding\")\n",
    "libro2.set_isbn(\"902202122\")\n",
    "\n",
    "print(libro2.get_titulo())\n",
    "print(libro2.get_autor())\n",
    "print(libro2.get_isbn())\n",
    "      \n",
    "     "
   ]
  },
  {
   "cell_type": "markdown",
   "id": "a2b6cfbe",
   "metadata": {},
   "source": [
    "- Class libro define una nueva clase llamada libro para crear objetos relacionados con libros.\n",
    "\n",
    "- Def __init__(self, titulo, autor, isbn) es el método constructor, llamado __init__, que se ejecuta automáticamente cada vez que se crea (instancia) un objeto Libro.\n",
    "- self.__titulo = titulo, self.__autor = autor, self.__isbn = isbn son parámetros que recibe el método constructor agregados por quien crea el libro. Aquí se almacenan los valores recibidos como atributos privados del objeto. Llevan __ para que sea más difícil acceder a ellos desde fuera de la clase y modificarlos. - self.__titulo guarda el valor del título, self.__autor guarda el nombre del autor, self.__isbn guarda el ISBN. Se usa self para referirse al objeto mismo\n",
    "Un getter es una función que te permite acceder al valor de un atributo privado de un objeto. Como en Python los atributos con doble guión bajo \n",
    "(__) se consideran privados, no se deben leer directamente desde fuera de la clase. Los getters solucionan eso: dan acceso controlado y seguro a esos datos.\n",
    "- Def get_titulo(self),return self.__titulo devuelve el valor del atributo privado __titulo. Si tienes un objeto llamado libro1, podrías obtener su título usando libro1.get_titulo().\n",
    "- Def get_autor(self),return self.__autor devuelve el nombre del autor del libro.\n",
    "- Def get_isbn(self), return self.__isbn Devuelve el número ISBN del libro.\n",
    "Los setters son métodos usados para modificar los valores de atributos privados de un objeto. Permiten cambiar el valor de un atributo privado desde fuera de la clase, pero de forma controlada. Como los atributos están definidos con doble guión bajo (__), no se pueden modificar directamente (por ejemplo, no deberías hacer libro.__titulo = \"Nuevo título\"). En su lugar, usásusas estos métodos para hacerlo correctamente.\n",
    "- def set_titulo(self, nuevo_titulo), self.__titulo = nuevo_titulo cambia el valor del atributo __titulo al que le pases como argumento (nuevo_titulo).\n",
    "-def set_autor(self, nuevo_autor),self.__autor = nuevo_autor actualiza el autor del libro con el nuevo nombre que le indiques.\n",
    "- def set_isbn(self, nuevo_isbn), self.__isbn = nuevo_isbn reemplaza el ISBN actual con uno nuevo.\n",
    "print(libro1.get_titulo()), print(libro1.get_autor()), print(libro1.get_isbn()): Usamos print para mostrar en pantalla la información introducida sobre el libro1, el 2 o el que deseemos que se muestre. Podríamos mostrar solamente el título si lo deseamos o todos los campos de información introducidos según los print que introduzcamos.\n",
    "\n",
    "\n",
    "\n",
    "\n",
    "\n",
    "\n",
    "\n",
    "\n",
    "\n",
    "\n",
    "\n",
    "\n",
    "\n",
    "\n"
   ]
  }
 ],
 "metadata": {
  "kernelspec": {
   "display_name": "Python 3",
   "language": "python",
   "name": "python3"
  },
  "language_info": {
   "codemirror_mode": {
    "name": "ipython",
    "version": 3
   },
   "file_extension": ".py",
   "mimetype": "text/x-python",
   "name": "python",
   "nbconvert_exporter": "python",
   "pygments_lexer": "ipython3",
   "version": "3.13.5"
  }
 },
 "nbformat": 4,
 "nbformat_minor": 5
}
