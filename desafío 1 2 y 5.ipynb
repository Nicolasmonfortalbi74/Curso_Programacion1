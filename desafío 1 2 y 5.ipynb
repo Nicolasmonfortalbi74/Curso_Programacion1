{
 "cells": [
  {
   "cell_type": "code",
   "execution_count": null,
   "id": "7c998c36",
   "metadata": {},
   "outputs": [],
   "source": [
    "# Desafío 1: Clasificar numeros\n",
    "\n",
    "Dado tres números distintos, clasificarlos en orden ascendente utilizando comparaciones encadenadas y operadores lógicos."
   ]
  },
  {
   "cell_type": "code",
   "execution_count": null,
   "id": "4ae04e00",
   "metadata": {},
   "outputs": [],
   "source": [
    "def ordenar_tres(a, b, c):\n",
    "    if a < b < c:\n",
    "        return (a, b, c)\n",
    "    if a < c < b:\n",
    "        return (a, c, b)\n",
    "    if b < a < c:\n",
    "        return (b, a, c)\n",
    "    if b < c < a:\n",
    "        return (b, c, a)\n",
    "    if c < a < b:\n",
    "        return (c, a, b)\n",
    "    # queda: c < b < a\n",
    "    return (c, b, a)\n",
    "\n",
    "# Ejemplos\n",
    "print(ordenar_tres(5, 2, 8))  # (2, 5, 8)\n",
    "print(ordenar_tres(7, 9, 1))  # (1, 7, 9)\n"
   ]
  },
  {
   "cell_type": "markdown",
   "id": "3b114f28",
   "metadata": {},
   "source": [
    "hay 3 números distintos: a, b, c.\n",
    "\n",
    "Entre 3 elementos hay 6 órdenes posibles (permutaciones).\n",
    "\n",
    "Cada if en el código comprueba una de esas órdenes usando comparaciones (a < b < c) o and (a < b and b < c).\n",
    "\n",
    "Tan pronto como una condición es True, devolvemos la tupla con los números en ese orden — eso ya está ordenado de menor a mayor.\n",
    "\n",
    "Si ninguna de las 5 primeras condiciones se cumple, entonces la sexta (la que queda) es necesariamente la verdadera; por eso el return final devuelve esa opción.\n",
    "\n",
    "Ejemplo práctico: para (5, 2, 8):\n",
    "\n",
    "a < b < c → 5 < 2 < 8 es False.\n",
    "\n",
    "a < c < b → 5 < 8 < 2 es False.\n",
    "\n",
    "b < a < c → 2 < 5 < 8 es True → devolvemos (2, 5, 8) y el programa termina."
   ]
  },
  {
   "cell_type": "markdown",
   "id": "765ff5e1",
   "metadata": {},
   "source": [
    "# Desafío 2: Calcular promedio\n",
    "Crear un programa que lea 5 calificaciones y calcule su promedio"
   ]
  },
  {
   "cell_type": "code",
   "execution_count": null,
   "id": "f675ee80",
   "metadata": {},
   "outputs": [],
   "source": [
    "# Pedimos 5 calificaciones\n",
    "nota1 = float(input(\"Ingresa la primera nota: \"))\n",
    "nota2 = float(input(\"Ingresa la segunda nota: \"))\n",
    "nota3 = float(input(\"Ingresa la tercera nota: \"))\n",
    "nota4 = float(input(\"Ingresa la cuarta nota: \"))\n",
    "nota5 = float(input(\"Ingresa la quinta nota: \"))\n",
    "\n",
    "# Calculamos el promedio\n",
    "promedio = (nota1 + nota2 + nota3 + nota4 + nota5) / 5\n",
    "\n",
    "# Mostramos el resultado\n",
    "print(\"El promedio es:\", promedio)\n"
   ]
  },
  {
   "cell_type": "markdown",
   "id": "72c1dbd8",
   "metadata": {},
   "source": [
    "Se piden 5 notas con input().\n",
    "\n",
    "Se convierten a números con float() para poder sumar.\n",
    "\n",
    "Se suman todas y se dividen entre 5 → eso da el promedio.\n",
    "\n",
    "Se muestra el resultado con print()"
   ]
  },
  {
   "cell_type": "markdown",
   "id": "8b05cb19",
   "metadata": {},
   "source": [
    "# Desafío 5: Calculadora de Módulo\n",
    "\n",
    "Escribe un programa que defina dos variables enteras a y b. Utiliza el operador de módulo (%) para calcular el residuo de la división de a entre b, y luego imprime el resultado. Asegúrate de que el programa maneje adecuadamente el caso en que b sea cero, imprimiendo un mensaje de error en ese caso."
   ]
  },
  {
   "cell_type": "code",
   "execution_count": null,
   "id": "f42a6990",
   "metadata": {},
   "outputs": [],
   "source": [
    "# Definimos dos números enteros\n",
    "a = int(input(\"Ingresa el valor de a: \"))\n",
    "b = int(input(\"Ingresa el valor de b: \"))\n",
    "\n",
    "# Verificamos que b no sea cero\n",
    "if b == 0:\n",
    "    print(\"Error: No se puede dividir entre cero\")\n",
    "else:\n",
    "    residuo = a % b\n",
    "    print(\"El residuo de\", a, \"entre\", b, \"es:\", residuo)\n"
   ]
  },
  {
   "cell_type": "markdown",
   "id": "4e2e3e6a",
   "metadata": {},
   "source": [
    "Se piden los valores de a y b con input() y se convierten a enteros.\n",
    "\n",
    "Si b es 0, mostramos un mensaje de error para evitar división por cero.\n",
    "\n",
    "Si b no es cero, usamos a % b para obtener el residuo de la división.\n",
    "\n",
    "Mostramos el residuo con print()"
   ]
  }
 ],
 "metadata": {
  "language_info": {
   "name": "python"
  }
 },
 "nbformat": 4,
 "nbformat_minor": 5
}
