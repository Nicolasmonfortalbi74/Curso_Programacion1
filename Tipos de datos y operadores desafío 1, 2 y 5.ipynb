{
 "cells": [
  {
   "cell_type": "code",
   "execution_count": null,
   "id": "fcecdd07",
   "metadata": {},
   "outputs": [],
   "source": [
    "# Desafío 1: Clasificar numeros\n",
    "\n",
    "Dado tres números distintos, clasificarlos en orden ascendente utilizando comparaciones \n",
    "encadenadas y operadores lógicos."
   ]
  },
  {
   "cell_type": "code",
   "execution_count": null,
   "id": "7b9eff24",
   "metadata": {},
   "outputs": [],
   "source": [
    "\n",
    "a = float(input(\"Ingrese el primer número: \"))\n",
    "b = float(input(\"Ingrese el segundo número: \"))\n",
    "c = float(input(\"Ingrese el tercer número: \"))\n",
    "\n",
    "\n",
    "if a < b and b < c:\n",
    "    print(f\"Orden ascendente: {a}, {b}, {c}\")\n",
    "elif a < c and c < b:\n",
    "    print(f\"Orden ascendente: {a}, {c}, {b}\")\n",
    "elif b < a and a < c:\n",
    "    print(f\"Orden ascendente: {b}, {a}, {c}\")\n",
    "elif b < c and c < a:\n",
    "    print(f\"Orden ascendente: {b}, {c}, {a}\")\n",
    "elif c < a and a < b:\n",
    "    print(f\"Orden ascendente: {c}, {a}, {b}\")\n",
    "else:\n",
    "    print(f\"Orden ascendente: {c}, {b}, {a}\")"
   ]
  },
  {
   "cell_type": "markdown",
   "id": "30cdc8ea",
   "metadata": {},
   "source": [
    "En primer lugar solicitamos tres números distintos al usuario. Lo hacemos con float(input). El input implica que el usuario debe ingresar un número y el float que puede ser decimal."
   ]
  },
  {
   "cell_type": "markdown",
   "id": "4c72bca0",
   "metadata": {},
   "source": [
    "En segundo lugar vamos a relizar una serie de comparaciones encadenadas para ordenar los números. \n",
    "El código clasifica tres números distintos en orden ascendent utilizando comparaciones encadenadas y el operador lógico and.\n",
    "Cada if y elif compara tres números (a,b y c) para determinar el orden correcto.\n"
   ]
  },
  {
   "cell_type": "markdown",
   "id": "b8fd6382",
   "metadata": {},
   "source": [
    "Primera condición\n",
    "- If a < b and b > c:\n",
    "print (f\"orden ascendente: {a}, {b}, {c}\").\n",
    "Significa que a es menor q b y b es menor que c.\n",
    "Si a = 1, b = 2 y c = 3 imprimirá 1,2,3-"
   ]
  },
  {
   "cell_type": "markdown",
   "id": "230a809b",
   "metadata": {},
   "source": [
    "Segunda condición\n",
    "elif a < c and c < b:\n",
    "    print(f\"Orden ascendente: {a}, {c}, {b}\")\n",
    "Elif (else if) se ejecuta sólo si la primera condición no se cumplió.\n",
    "Significa que a es menor que c y c es menor que b.\n",
    "Si a = 1, c = 2 y b = 3 el orden será 1,2,3 también pero considerando otra disposición inicial (a, c, b)."
   ]
  },
  {
   "cell_type": "markdown",
   "id": "215ff6e5",
   "metadata": {},
   "source": [
    "Tercera condición\n",
    "elif b < a and a < c:\n",
    "    print(f\"Orden ascendente: {b}, {a}, {c}\")\n",
    "De nuevo con elif determinamos que si ninguna de las condiciones anteriores se cumplió copmruebe la siguiente.\n",
    "En este caso significa que b es menor que a y que a es menor que c.\n",
    "Por ejemplo si b=1, a=2 y c= 3, se imprimirá 1,2,3 tomando el orden (b,a,c)."
   ]
  },
  {
   "cell_type": "markdown",
   "id": "2f896408",
   "metadata": {},
   "source": [
    "Cuarta condición\n",
    "elif b < c and c < a:\n",
    "    print(f\"Orden ascendente: {b}, {c}, {a}\")\n",
    "    B es menor que c y c es menor que a.\n",
    "    B= 1, c = 2, a = 3.\n",
    "    Imprime 1, 2, 3tomando el orden (b,c,a)"
   ]
  },
  {
   "cell_type": "markdown",
   "id": "8c70d95b",
   "metadata": {},
   "source": [
    "Quinta condición\n",
    "elif c < a and a < b:\n",
    "    print(f\"Orden ascendente: {c}, {a}, {b}\")\n",
    "c es menor que a y a es menor que b\n",
    "Ejemplo: C=1, a = 2 y b = 3.\n",
    "Imprime 1,2,3 tomando (c, a, b)"
   ]
  },
  {
   "cell_type": "markdown",
   "id": "a94b7c4b",
   "metadata": {},
   "source": [
    "Sexta condición\n",
    "else:\n",
    "    print(f\"Orden ascendente: {c}, {b}, {a}\")\n",
    "Si ninguna de las condiciones anteriores se cumple significa que c es el menor, b el segundo y a el mayor.\n",
    "Ejemplo, c=1, b=2 y a=3, ipmrimirá 1,2,3 siguiendo (c,b,a)"
   ]
  },
  {
   "cell_type": "markdown",
   "id": "090e0a12",
   "metadata": {},
   "source": [
    "Cada condición cubre un posible orden inicial de los tres números.\n",
    "La estructura if-elif-else evalúa las comparaciones en orden ahsta encontrar la correcta.\n",
    "El programa imprime los números en orden correcto."
   ]
  },
  {
   "cell_type": "markdown",
   "id": "a74bed1a",
   "metadata": {},
   "source": [
    "# Desafío 2: Calcular promedio\n",
    "Crear un programa que lea 5 calificaciones y calcule su promedio"
   ]
  },
  {
   "cell_type": "code",
   "execution_count": null,
   "id": "b3a19bdd",
   "metadata": {},
   "outputs": [],
   "source": [
    "\n",
    "calificaciones = []\n",
    "\n",
    "\n",
    "for i in range(5):\n",
    "    calificacion = float(input(f\"Ingrese la calificación {i+1}: \"))\n",
    "    calificaciones.append(calificacion)\n",
    "\n",
    "\n",
    "promedio = sum(calificaciones) / len(calificaciones)\n",
    "\n",
    "\n",
    "print(f\"El promedio de las calificaciones es: {promedio:.2f}\")"
   ]
  },
  {
   "cell_type": "markdown",
   "id": "74bc7939",
   "metadata": {},
   "source": [
    "Primero inicializamos una lista vacía para almacenar las calificaciones."
   ]
  },
  {
   "cell_type": "markdown",
   "id": "15e87877",
   "metadata": {},
   "source": [
    "Después pedimos al usuario que ingrese 5 calificaciones. Utilizamos float(input(f\")) para determinar que el dato ingresado sea un núemro y pueda ser decimal.\n",
    "Utilizamos for i in range(5) para solicitar 5 calificaciones creando un bucle, generando una secuencia  de números desde 0 hasta 4, lo que hace que el bucle se repita 5 veces.\n",
    "I es la variable que cambia en cada iteración, tomando valores 0,1,2,3,4.\n",
    "f\"Ingrese la calificación{i+1}: \" usa una f-string, que permite mostrar el número de calificación correcto (de 1 a 5, en lugar de 0 a 4), por eso el +1."
   ]
  },
  {
   "cell_type": "markdown",
   "id": "36fe4491",
   "metadata": {},
   "source": [
    "Seguidametne calculamos el promedio con promedio = sum(calificaciones) / len(calificaciones).\n",
    "sum(...) suma todos los elementos de la lista calificaciones.\n",
    "len(...) cuenta cuántos elementos tiene la lista. En este caso 5.\n",
    "Utilizamos una división para calcular el promedio; el resultado obtenido de la suma de todas las calificaciones dividido entre el número de calificaciones será la media.\n"
   ]
  },
  {
   "cell_type": "markdown",
   "id": "a56d6b1a",
   "metadata": {},
   "source": [
    "\n",
    "print(f\"El promedio de las calificaciones es: {promedio:.2f}\")\n",
    "En esta línea el código imprime el promedio de las calificaciones, asegudando que tenga dos decimales con el formato :.2f.\n",
    "Usamos print para mostrar el mensaje en la ptantalla.\n",
    "F-String f\"{romedo:.2f} que permite insertar variables dentro de una cadena de texto.\n"
   ]
  },
  {
   "cell_type": "markdown",
   "id": "d55d0c9f",
   "metadata": {},
   "source": [
    "# Desafío 5: Calculadora de Módulo\n",
    "\n",
    "Escribe un programa que defina dos variables enteras a y b. Utiliza el operador de módulo (%) para calcular el residuo de la división de a entre b, y luego imprime el resultado. Asegúrate de que el programa maneje adecuadamente el caso en que b sea cero, imprimiendo un mensaje de error en ese caso."
   ]
  },
  {
   "cell_type": "code",
   "execution_count": null,
   "id": "e872b99a",
   "metadata": {},
   "outputs": [],
   "source": [
    "\n",
    "a = int(input(\"Ingrese un número entero para 'a': \"))\n",
    "b = int(input(\"Ingrese un número entero para 'b': \"))\n",
    "\n",
    "# Verificar si b es 0 para evitar error de división\n",
    "if b == 0:\n",
    "    print(\"Error: No se puede dividir entre cero.\")\n",
    "else:\n",
    "    residuo = a % b  # Calcula el residuo de la división\n",
    "    print(f\"El residuo de {a} dividido entre {b} es: {residuo}\")"
   ]
  },
  {
   "cell_type": "markdown",
   "id": "e9e0c8e4",
   "metadata": {},
   "source": [
    "Primero definimos las variables con a = int(input(\"Ingrese un número entero para 'a': \"))\n",
    "b = int(input(\"Ingrese un número entero para 'b': \")).\n",
    "Definimos dos variables de tipo numérico, en este caso numeros enteros (int) y usamos input para pedirle al usuarioq ue las ingrese."
   ]
  },
  {
   "cell_type": "markdown",
   "id": "e4d21cb4",
   "metadata": {},
   "source": [
    "Vamos a verificar si b es 0 para evitar errores de división. \n",
    "igualamos b a 0 utilizando == y indicamos que se debe imprimir \"error, no se puede divirid entre cero\" en caso de que sea 0."
   ]
  },
  {
   "cell_type": "markdown",
   "id": "2037e231",
   "metadata": {},
   "source": [
    "Utilizamos else para que en caso de que no se cumpla la condición anterior (que b ea igual a 0) calcule el residuo de la división (residuo = a % b)."
   ]
  },
  {
   "cell_type": "markdown",
   "id": "52e39769",
   "metadata": {},
   "source": [
    "Imprimimos el resultado con f strings incluyendo a y b y mostrando el resultado de la división."
   ]
  }
 ],
 "metadata": {
  "kernelspec": {
   "display_name": "Python 3",
   "language": "python",
   "name": "python3"
  },
  "language_info": {
   "name": "python",
   "version": "3.13.2"
  }
 },
 "nbformat": 4,
 "nbformat_minor": 5
}
